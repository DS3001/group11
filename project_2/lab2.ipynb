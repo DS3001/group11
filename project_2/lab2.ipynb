{
 "cells": [
  {
   "cell_type": "markdown",
   "metadata": {},
   "source": [
    "## Programming Lab #2\n",
    "## Foundations of Machine Learning\n",
    "## Group 11 (Eva, Elizabeth, Anika, Anjali)\n",
    "\n",
    "The purpose of this project is to build predictive algorithms that predict the likelihood a person has a stroke. The data include:\n",
    "  \n",
    "  - `age`: Patient age, numeric\n",
    "  - `avg_glucose_level`: Blood sugar levels, numeric\n",
    "  - `bmi`: Body mass index, numeric\n",
    "  - `ever_married`: Ever married, dummy/character (Yes, No)\n",
    "  - `gender`: Male, Female, or Other, character\n",
    "  - `heart_disease`: Has heart disease, dummy\n",
    "  - `hypertension`: Has hypertension, dummy\n",
    "  - `id`: Study identification number\n",
    "  - `Residence_type`: Type of residence, dummy/character (Urban, Rural)\n",
    "  - `smoking_status`: Former, never, or current smoker, categorical\n",
    "  - `work_type`: Employment type (Never worked (Never_worked), homemaker (\"children\"), Public sector employment (Govt_job), Private sector employment (`Private`), Self-employed (`Self-employed`)\n",
    "  - `stroke`: Suffered a stroke in the sample period\n",
    " "
   ]
  },
  {
   "cell_type": "markdown",
   "metadata": {},
   "source": [
    "## Setting up environment"
   ]
  },
  {
   "cell_type": "code",
   "execution_count": 1,
   "metadata": {},
   "outputs": [],
   "source": [
    "# Initalizing a print function to limit repetition\n",
    "\n",
    "def pn(x):\n",
    "    print(x, '\\n')"
   ]
  },
  {
   "cell_type": "code",
   "execution_count": 2,
   "metadata": {},
   "outputs": [
    {
     "name": "stdout",
     "output_type": "stream",
     "text": [
      "   Unnamed: 0     id  gender   age  hypertension  heart_disease ever_married  \\\n",
      "0        2465  68685    Male  36.0             0              0          Yes   \n",
      "1        4311  59058  Female  45.0             0              0          Yes   \n",
      "2        2375  46068    Male  58.0             0              0           No   \n",
      "3        5017  36837  Female  61.0             0              0          Yes   \n",
      "4         753  30550  Female  78.0             0              0           No   \n",
      "\n",
      "       work_type Residence_type  avg_glucose_level   bmi   smoking_status  \\\n",
      "0       Govt_job          Urban              65.87  32.2  formerly smoked   \n",
      "1       Govt_job          Rural              68.66  25.3     never smoked   \n",
      "2  Self-employed          Rural             170.93  30.7          Unknown   \n",
      "3  Self-employed          Urban              69.88  27.1     never smoked   \n",
      "4        Private          Urban             103.86  30.6          Unknown   \n",
      "\n",
      "   stroke  \n",
      "0       0  \n",
      "1       0  \n",
      "2       0  \n",
      "3       0  \n",
      "4       0   \n",
      "\n",
      "        Unnamed: 0            id          age  hypertension  heart_disease  \\\n",
      "count  4087.000000   4087.000000  4087.000000   4087.000000    4087.000000   \n",
      "mean   2561.672865  36383.068265    43.324169      0.097871       0.056031   \n",
      "std    1474.961020  21189.857848    22.531019      0.297177       0.230010   \n",
      "min       1.000000     67.000000     0.080000      0.000000       0.000000   \n",
      "25%    1295.500000  17417.500000    26.000000      0.000000       0.000000   \n",
      "50%    2556.000000  36814.000000    45.000000      0.000000       0.000000   \n",
      "75%    3831.500000  54584.500000    61.000000      0.000000       0.000000   \n",
      "max    5110.000000  72940.000000    82.000000      1.000000       1.000000   \n",
      "\n",
      "       avg_glucose_level          bmi       stroke  \n",
      "count        4087.000000  3928.000000  4087.000000  \n",
      "mean          106.010396    28.923371     0.048691  \n",
      "std            45.047912     7.843083     0.215248  \n",
      "min            55.120000    10.300000     0.000000  \n",
      "25%            77.295000    23.600000     0.000000  \n",
      "50%            92.000000    28.100000     0.000000  \n",
      "75%           113.845000    33.100000     0.000000  \n",
      "max           271.740000    97.600000     1.000000   \n",
      "\n",
      "        Unnamed: 0            id          age  hypertension  heart_disease  \\\n",
      "count  1023.000000   1023.000000  1023.000000   1023.000000    1023.000000   \n",
      "mean   2530.838710  37056.215054    42.836872      0.095797       0.045943   \n",
      "std    1476.989308  21050.647292    22.942857      0.294456       0.209465   \n",
      "min       2.000000     77.000000     0.160000      0.000000       0.000000   \n",
      "25%    1180.000000  18993.000000    24.000000      0.000000       0.000000   \n",
      "50%    2548.000000  37395.000000    44.000000      0.000000       0.000000   \n",
      "75%    3835.000000  54840.500000    61.000000      0.000000       0.000000   \n",
      "max    5109.000000  72861.000000    82.000000      1.000000       1.000000   \n",
      "\n",
      "       avg_glucose_level         bmi       stroke  \n",
      "count        1023.000000  981.000000  1023.000000  \n",
      "mean          106.696129   28.772579     0.048876  \n",
      "std            46.231319    7.900756     0.215714  \n",
      "min            55.250000   11.500000     0.000000  \n",
      "25%            76.775000   23.300000     0.000000  \n",
      "50%            90.970000   27.900000     0.000000  \n",
      "75%           114.955000   32.900000     0.000000  \n",
      "max           263.560000   64.800000     1.000000   \n",
      "\n"
     ]
    }
   ],
   "source": [
    "import pandas as pd\n",
    "import numpy as np\n",
    "import matplotlib.pyplot as plt\n",
    "\n",
    "df_train = pd.read_csv('./data/training_data.csv')\n",
    "df_test = pd.read_csv('./data/testing_data.csv')\n",
    "pn(df_train.head()) # view the dataframe\n",
    "\n",
    "gdf_train = pd.DataFrame.copy(df_train) # make df that we can edit\n",
    "gdf_test = pd.DataFrame.copy(df_test) # make df that we can edit\n",
    "\n",
    "# Look at some stats\n",
    "pn(gdf_train.describe())  #see that bmi is the one missing values\n",
    "pn(gdf_test.describe()) #see that bmi is the one missing values"
   ]
  },
  {
   "cell_type": "markdown",
   "metadata": {},
   "source": [
    "## Data wrangling and EDA"
   ]
  },
  {
   "cell_type": "code",
   "execution_count": 3,
   "metadata": {},
   "outputs": [
    {
     "name": "stdout",
     "output_type": "stream",
     "text": [
      "never smoked       1505\n",
      "Unknown            1241\n",
      "formerly smoked     699\n",
      "smokes              642\n",
      "Name: smoking_status, dtype: int64 \n",
      "\n",
      "never smoked       387\n",
      "Unknown            303\n",
      "formerly smoked    186\n",
      "smokes             147\n",
      "Name: smoking_status, dtype: int64 \n",
      "\n"
     ]
    }
   ],
   "source": [
    "## cleaning smoking_status var:\n",
    "var = 'smoking_status'\n",
    "pn(gdf_train[var].value_counts()) #1241 unknown values for smoking status of train, which is 30% of data \n",
    "pn(gdf_test[var].value_counts()) #303 unknown values for smoking status of test"
   ]
  },
  {
   "cell_type": "code",
   "execution_count": 4,
   "metadata": {},
   "outputs": [],
   "source": [
    "# gdf_train[var] = gdf_train[var].replace('Unknown', np.nan)\n",
    "# gdf_test[var] = gdf_test[var].replace('Unknown', np.nan)\n",
    "# gdf_train[var+'_NA'] = gdf_train[var].isnull()\n",
    "# gdf_test[var+'_NA'] = gdf_test[var].isnull()\n",
    "# print('Total Missings: \\n', sum(gdf_train[var].isnull()),'\\n') # confirms checks for NAs\n",
    "# print('Total Missings: \\n', sum(gdf_test[var].isnull()),'\\n') # confirms checks for NAs "
   ]
  },
  {
   "cell_type": "code",
   "execution_count": 5,
   "metadata": {},
   "outputs": [],
   "source": [
    "# # Removing missing values\n",
    "# gdf_train= gdf_train.dropna(subset=[var])\n",
    "# pn(gdf_train[var].describe()) # looks like the stats did not change\n",
    "# print('Total Missings After Drop: \\n', sum(gdf_train[var].isnull()),'\\n') # checks to see if drop was successful\n",
    "# gdf_test= gdf_test.dropna(subset=[var])\n",
    "# pn(gdf_test[var].describe()) # looks like the stats did not change\n",
    "# print('Total Missings After Drop: \\n', sum(gdf_test[var].isnull()),'\\n') # checks to see if drop was successful"
   ]
  },
  {
   "cell_type": "code",
   "execution_count": 6,
   "metadata": {},
   "outputs": [
    {
     "name": "stdout",
     "output_type": "stream",
     "text": [
      "smokes             1883\n",
      "never smoked       1505\n",
      "formerly smoked     699\n",
      "Name: smoking_status, dtype: int64 \n",
      "\n",
      "smokes             450\n",
      "never smoked       387\n",
      "formerly smoked    186\n",
      "Name: smoking_status, dtype: int64 \n",
      "\n"
     ]
    }
   ],
   "source": [
    "# we decided to change unknowns to smokes based on an inference that being unwilling to admit smoking status likely means the person was a smoker\n",
    "gdf_train[var] = gdf_train[var].replace('Unknown', 'smokes')\n",
    "gdf_test[var] = gdf_test[var].replace('Unknown', 'smokes')\n",
    "pn(gdf_train[var].value_counts())\n",
    "pn(gdf_test[var].value_counts())"
   ]
  },
  {
   "cell_type": "code",
   "execution_count": 7,
   "metadata": {},
   "outputs": [
    {
     "name": "stdout",
     "output_type": "stream",
     "text": [
      "stroke              0   1\n",
      "smoking_status           \n",
      "formerly smoked   645  54\n",
      "never smoked     1434  71\n",
      "smokes           1809  74 \n",
      "\n",
      "stroke             0   1\n",
      "smoking_status          \n",
      "formerly smoked  170  16\n",
      "never smoked     368  19\n",
      "smokes           435  15 \n",
      "\n"
     ]
    }
   ],
   "source": [
    "print(pd.crosstab(gdf_train[var],gdf_train['stroke']),'\\n') #cant assume anything with the stroke, but appears that former smokers are more likely to have a stroke by a little\n",
    "print(pd.crosstab(gdf_test[var],gdf_test['stroke']),'\\n') #cant assume anything with the stroke "
   ]
  },
  {
   "cell_type": "code",
   "execution_count": 8,
   "metadata": {},
   "outputs": [
    {
     "name": "stdout",
     "output_type": "stream",
     "text": [
      "Number of missing values in training set 'id' column: 0\n",
      "Number of missing values in training set 'id' column: 0\n",
      "\n",
      "duplicated IDs found in training set: 0\n",
      "duplicated IDs found in testing set: 0\n"
     ]
    }
   ],
   "source": [
    "## cleaning id var:\n",
    "\n",
    "missing_values_train = gdf_train['id'].isnull().sum()\n",
    "missing_values_test = gdf_test['id'].isnull().sum()\n",
    "\n",
    "# print the number of missing values\n",
    "print(f\"Number of missing values in training set 'id' column: {missing_values_train}\")\n",
    "print(f\"Number of missing values in training set 'id' column: {missing_values_test}\")\n",
    "\n",
    "# Check for duplicated id values\n",
    "duplicated_ids_train = gdf_train.duplicated('id').sum()\n",
    "duplicated_ids_test = gdf_test.duplicated('id').sum()\n",
    "\n",
    "# If there are any duplicated IDs, 'duplicated_ids' will contain those rows\n",
    "print(f\"\\nduplicated IDs found in training set: {duplicated_ids_train}\" )\n",
    "print(f\"duplicated IDs found in testing set: {duplicated_ids_train}\")\n",
    "\n",
    "# id values seem clean"
   ]
  },
  {
   "cell_type": "code",
   "execution_count": 9,
   "metadata": {},
   "outputs": [
    {
     "name": "stdout",
     "output_type": "stream",
     "text": [
      "Unique Residence_type values in training set: ['Urban' 'Rural']\n",
      "Unique Residence_type values in testing set: ['Urban' 'Rural']\n",
      "Total Missings: \n",
      " 0 \n",
      "\n",
      "Total Missings: \n",
      " 0 \n",
      "\n"
     ]
    }
   ],
   "source": [
    "## cleaning Residence_type var:\n",
    "\n",
    "# print unique variables\n",
    "print(\"Unique Residence_type values in training set:\", gdf_train[\"Residence_type\"].unique())\n",
    "print(\"Unique Residence_type values in testing set:\", gdf_test[\"Residence_type\"].unique())\n",
    "\n",
    "# Check for nans\n",
    "print('Total Missings: \\n', sum(gdf_train[var].isnull()),'\\n') # confirms checks for NAs\n",
    "print('Total Missings: \\n', sum(gdf_test[var].isnull()),'\\n') # confirms checks for NAs \n",
    "\n",
    "# Residence_type var already seems clean"
   ]
  },
  {
   "cell_type": "code",
   "execution_count": 10,
   "metadata": {},
   "outputs": [
    {
     "name": "stdout",
     "output_type": "stream",
     "text": [
      "stroke             0    1\n",
      "Residence_type           \n",
      "Rural           1941   94\n",
      "Urban           1947  105 \n",
      "\n",
      "stroke            0   1\n",
      "Residence_type         \n",
      "Rural           459  20\n",
      "Urban           514  30 \n",
      "\n"
     ]
    }
   ],
   "source": [
    "print(pd.crosstab(gdf_train[\"Residence_type\"],gdf_train['stroke']),'\\n') # Urban areas may have slightly higher stroke rates\n",
    "print(pd.crosstab(gdf_test[\"Residence_type\"],gdf_test['stroke']),'\\n') "
   ]
  },
  {
   "cell_type": "code",
   "execution_count": 11,
   "metadata": {},
   "outputs": [
    {
     "name": "stdout",
     "output_type": "stream",
     "text": [
      "Private          2329\n",
      "Self-employed     667\n",
      "children          542\n",
      "Govt_job          534\n",
      "Never_worked       15\n",
      "Name: work_type, dtype: int64\n",
      "Private          596\n",
      "Self-employed    152\n",
      "children         145\n",
      "Govt_job         123\n",
      "Never_worked       7\n",
      "Name: work_type, dtype: int64\n",
      "Total Missings: \n",
      " 0 \n",
      "\n",
      "Total Missings: \n",
      " 0 \n",
      "\n"
     ]
    }
   ],
   "source": [
    "## cleaning work_type var:\n",
    "\n",
    "var = 'work_type'\n",
    "print(gdf_train[var].value_counts()) #no unknowns, they add up to 4087\n",
    "print(gdf_test[var].value_counts()) #no unknowns, adds up to 1023\n",
    "print('Total Missings: \\n', sum(gdf_train[var].isnull()),'\\n') # confirms checks for NAs\n",
    "print('Total Missings: \\n', sum(gdf_test[var].isnull()),'\\n') # confirms checks for NAs \n",
    "# no need to clean anything"
   ]
  },
  {
   "cell_type": "code",
   "execution_count": 12,
   "metadata": {},
   "outputs": [
    {
     "name": "stdout",
     "output_type": "stream",
     "text": [
      "stroke            0    1\n",
      "work_type               \n",
      "Govt_job        506   28\n",
      "Never_worked     15    0\n",
      "Private        2210  119\n",
      "Self-employed   617   50\n",
      "children        540    2 \n",
      "\n",
      "stroke           0   1\n",
      "work_type             \n",
      "Govt_job       118   5\n",
      "Never_worked     7   0\n",
      "Private        566  30\n",
      "Self-employed  137  15\n",
      "children       145   0 \n",
      "\n"
     ]
    }
   ],
   "source": [
    "print(pd.crosstab(gdf_train[var],gdf_train['stroke']),'\\n') # Self-employed may have slightly higher stroke rates\n",
    "print(pd.crosstab(gdf_test[var],gdf_test['stroke']),'\\n') "
   ]
  },
  {
   "cell_type": "code",
   "execution_count": 13,
   "metadata": {},
   "outputs": [
    {
     "ename": "AttributeError",
     "evalue": "module 'seaborn' has no attribute 'move_legend'",
     "output_type": "error",
     "traceback": [
      "\u001b[0;31m---------------------------------------------------------------------------\u001b[0m",
      "\u001b[0;31mAttributeError\u001b[0m                            Traceback (most recent call last)",
      "\u001b[0;32m<ipython-input-13-25e0debae7ee>\u001b[0m in \u001b[0;36m<module>\u001b[0;34m\u001b[0m\n\u001b[1;32m      3\u001b[0m \u001b[0;34m\u001b[0m\u001b[0m\n\u001b[1;32m      4\u001b[0m \u001b[0mthis_plot\u001b[0m \u001b[0;34m=\u001b[0m \u001b[0msns\u001b[0m\u001b[0;34m.\u001b[0m\u001b[0mscatterplot\u001b[0m\u001b[0;34m(\u001b[0m\u001b[0mdata\u001b[0m\u001b[0;34m=\u001b[0m\u001b[0mgdf_train\u001b[0m\u001b[0;34m,\u001b[0m\u001b[0mx\u001b[0m\u001b[0;34m=\u001b[0m\u001b[0;34m'work_type'\u001b[0m\u001b[0;34m,\u001b[0m\u001b[0my\u001b[0m\u001b[0;34m=\u001b[0m\u001b[0;34m'age'\u001b[0m\u001b[0;34m,\u001b[0m\u001b[0mhue\u001b[0m\u001b[0;34m=\u001b[0m\u001b[0;34m'stroke'\u001b[0m\u001b[0;34m)\u001b[0m \u001b[0;31m# Plot the fake data\u001b[0m\u001b[0;34m\u001b[0m\u001b[0;34m\u001b[0m\u001b[0m\n\u001b[0;32m----> 5\u001b[0;31m \u001b[0msns\u001b[0m\u001b[0;34m.\u001b[0m\u001b[0mmove_legend\u001b[0m\u001b[0;34m(\u001b[0m\u001b[0mthis_plot\u001b[0m\u001b[0;34m,\u001b[0m \u001b[0;34m\"upper left\"\u001b[0m\u001b[0;34m,\u001b[0m \u001b[0mbbox_to_anchor\u001b[0m\u001b[0;34m=\u001b[0m\u001b[0;34m(\u001b[0m\u001b[0;36m1\u001b[0m\u001b[0;34m,\u001b[0m \u001b[0;36m1\u001b[0m\u001b[0;34m)\u001b[0m\u001b[0;34m)\u001b[0m \u001b[0;31m# Move legend off the plot canvas\u001b[0m\u001b[0;34m\u001b[0m\u001b[0;34m\u001b[0m\u001b[0m\n\u001b[0m",
      "\u001b[0;31mAttributeError\u001b[0m: module 'seaborn' has no attribute 'move_legend'"
     ]
    },
    {
     "data": {
      "image/png": "[encoded data removed]",
      "text/plain": [
       "<Figure size 432x288 with 1 Axes>"
      ]
     },
     "metadata": {
      "needs_background": "light"
     },
     "output_type": "display_data"
    }
   ],
   "source": [
    "import seaborn as sns\n",
    "import matplotlib.pyplot as plt\n",
    "\n",
    "this_plot = sns.scatterplot(data=gdf_train,x='work_type',y='age',hue='stroke') # Plot the fake data\n",
    "sns.move_legend(this_plot, \"upper left\", bbox_to_anchor=(1, 1)) # Move legend off the plot canvas"
   ]
  },
  {
   "cell_type": "code",
   "execution_count": 14,
   "metadata": {},
   "outputs": [
    {
     "name": "stdout",
     "output_type": "stream",
     "text": [
      "count    4087.000000\n",
      "mean       43.324169\n",
      "std        22.531019\n",
      "min         0.080000\n",
      "25%        26.000000\n",
      "50%        45.000000\n",
      "75%        61.000000\n",
      "max        82.000000\n",
      "Name: age, dtype: float64 \n",
      "\n",
      "count    1023.000000\n",
      "mean       42.836872\n",
      "std        22.942857\n",
      "min         0.160000\n",
      "25%        24.000000\n",
      "50%        44.000000\n",
      "75%        61.000000\n",
      "max        82.000000\n",
      "Name: age, dtype: float64 \n",
      "\n",
      "Total Missings: \n",
      " 0 \n",
      "\n",
      "Total Missings: \n",
      " 0 \n",
      "\n"
     ]
    },
    {
     "data": {
      "text/plain": [
       "<AxesSubplot:>"
      ]
     },
     "execution_count": 14,
     "metadata": {},
     "output_type": "execute_result"
    },
    {
     "data": {
      "image/png": "[encoded data removed]",
      "text/plain": [
       "<Figure size 432x288 with 1 Axes>"
      ]
     },
     "metadata": {
      "needs_background": "light"
     },
     "output_type": "display_data"
    }
   ],
   "source": [
    "## cleaning age var:\n",
    "var = 'age'\n",
    "\n",
    "# Exploring missing values\n",
    "pn(gdf_train[var].describe()) # looks good, numeric, ages range from 0 to 82\n",
    "pn(gdf_test[var].describe()) # looks good, numeric, ages range from 0 to 82\n",
    "print('Total Missings: \\n', sum(gdf_train[var].isnull()),'\\n') # confirms checks for NAs\n",
    "print('Total Missings: \\n', sum(gdf_test[var].isnull()),'\\n') # confirms checks for NAs \n",
    "# No nulls need to be removed, this finding is compatible with the value count listed in the describe() output above\n",
    "\n",
    "# Take a look at age distribution in sample\n",
    "gdf_train[var].hist(bins=50)"
   ]
  },
  {
   "cell_type": "code",
   "execution_count": 15,
   "metadata": {},
   "outputs": [
    {
     "ename": "AttributeError",
     "evalue": "module 'seaborn' has no attribute 'move_legend'",
     "output_type": "error",
     "traceback": [
      "\u001b[0;31m---------------------------------------------------------------------------\u001b[0m",
      "\u001b[0;31mAttributeError\u001b[0m                            Traceback (most recent call last)",
      "\u001b[0;32m<ipython-input-15-c6c8710063a4>\u001b[0m in \u001b[0;36m<module>\u001b[0;34m\u001b[0m\n\u001b[1;32m      1\u001b[0m \u001b[0mthis_plot\u001b[0m \u001b[0;34m=\u001b[0m \u001b[0msns\u001b[0m\u001b[0;34m.\u001b[0m\u001b[0mhistplot\u001b[0m\u001b[0;34m(\u001b[0m\u001b[0mdata\u001b[0m\u001b[0;34m=\u001b[0m\u001b[0mgdf_train\u001b[0m\u001b[0;34m,\u001b[0m\u001b[0mx\u001b[0m\u001b[0;34m=\u001b[0m\u001b[0;34m'age'\u001b[0m\u001b[0;34m,\u001b[0m\u001b[0mhue\u001b[0m\u001b[0;34m=\u001b[0m\u001b[0;34m'stroke'\u001b[0m\u001b[0;34m,\u001b[0m\u001b[0mstat\u001b[0m\u001b[0;34m=\u001b[0m\u001b[0;34m'count'\u001b[0m\u001b[0;34m)\u001b[0m \u001b[0;31m# Plot the fake data\u001b[0m\u001b[0;34m\u001b[0m\u001b[0;34m\u001b[0m\u001b[0m\n\u001b[0;32m----> 2\u001b[0;31m \u001b[0msns\u001b[0m\u001b[0;34m.\u001b[0m\u001b[0mmove_legend\u001b[0m\u001b[0;34m(\u001b[0m\u001b[0mthis_plot\u001b[0m\u001b[0;34m,\u001b[0m \u001b[0;34m\"upper left\"\u001b[0m\u001b[0;34m,\u001b[0m \u001b[0mbbox_to_anchor\u001b[0m\u001b[0;34m=\u001b[0m\u001b[0;34m(\u001b[0m\u001b[0;36m1\u001b[0m\u001b[0;34m,\u001b[0m \u001b[0;36m1\u001b[0m\u001b[0;34m)\u001b[0m\u001b[0;34m)\u001b[0m \u001b[0;31m# Move legend off the plot canvas\u001b[0m\u001b[0;34m\u001b[0m\u001b[0;34m\u001b[0m\u001b[0m\n\u001b[0m",
      "\u001b[0;31mAttributeError\u001b[0m: module 'seaborn' has no attribute 'move_legend'"
     ]
    },
    {
     "data": {
      "image/png": "[encoded data removed]",
      "text/plain": [
       "<Figure size 432x288 with 1 Axes>"
      ]
     },
     "metadata": {
      "needs_background": "light"
     },
     "output_type": "display_data"
    }
   ],
   "source": [
    "this_plot = sns.histplot(data=gdf_train,x='age',hue='stroke',stat='count') # Plot the fake data\n",
    "sns.move_legend(this_plot, \"upper left\", bbox_to_anchor=(1, 1)) # Move legend off the plot canvas"
   ]
  },
  {
   "cell_type": "code",
   "execution_count": null,
   "metadata": {},
   "outputs": [],
   "source": [
    "## cleaning avg_glucose_level var:\n",
    "var = 'avg_glucose_level'\n",
    "\n",
    "# Exploring missing values\n",
    "pn(gdf_train[var].describe()) # count looks right\n",
    "pn(gdf_test[var].describe()) # count looks right\n",
    "print('Total Missings: \\n', sum(gdf_train[var].isnull()),'\\n') # confirms checks for NAs\n",
    "print('Total Missings: \\n', sum(gdf_test[var].isnull()),'\\n') # confirms checks for NAs \n",
    "# No nulls need to be removed, this finding is compatible with the value count listed in the describe() output above\n",
    "\n",
    "# Take a look at average glucose level distribution in sample\n",
    "gdf_train[var].hist(bins=50) # interesting how there seems to be two probability peaks"
   ]
  },
  {
   "cell_type": "code",
   "execution_count": 16,
   "metadata": {},
   "outputs": [
    {
     "name": "stdout",
     "output_type": "stream",
     "text": [
      "stroke            0    1\n",
      "glucose_group           \n",
      "50-75          1223  101\n",
      "76-100          299   79\n",
      "stroke           0   1\n",
      "glucose_group         \n",
      "50-75          309  29\n",
      "76-100          70  17\n"
     ]
    }
   ],
   "source": [
    "bins = [50, 75, 100, 125, 150,175,200,225,250,275,300]\n",
    "labels = ['50-75', '76-100', '101-125', '126-150','151-175','176-200','201-225','226-250','251-275','276-300']\n",
    "gdf_train['glucose_group'] = pd.cut(gdf_train[var], bins=bins, labels=labels)\n",
    "cross_tab = pd.crosstab(gdf_train['glucose_group'], gdf_train['stroke'])\n",
    "print(cross_tab)\n",
    "\n",
    "gdf_test['glucose_group'] = pd.cut(gdf_test[var], bins=bins, labels=labels)\n",
    "cross_tab = pd.crosstab(gdf_test['glucose_group'], gdf_test['stroke'])\n",
    "print(cross_tab)"
   ]
  },
  {
   "cell_type": "code",
   "execution_count": 17,
   "metadata": {},
   "outputs": [
    {
     "name": "stdout",
     "output_type": "stream",
     "text": [
      "count    3928.000000\n",
      "mean       28.923371\n",
      "std         7.843083\n",
      "min        10.300000\n",
      "25%        23.600000\n",
      "50%        28.100000\n",
      "75%        33.100000\n",
      "max        97.600000\n",
      "Name: bmi, dtype: float64 \n",
      "\n",
      "Total Missings: \n",
      " 159 \n",
      "\n",
      "count    981.000000\n",
      "mean      28.772579\n",
      "std        7.900756\n",
      "min       11.500000\n",
      "25%       23.300000\n",
      "50%       27.900000\n",
      "75%       32.900000\n",
      "max       64.800000\n",
      "Name: bmi, dtype: float64 \n",
      "\n",
      "Total Missings: \n",
      " 42 \n",
      "\n",
      "AxesSubplot(0.125,0.125;0.775x0.755)\n"
     ]
    },
    {
     "data": {
      "image/png": "[encoded data removed]",
      "text/plain": [
       "<Figure size 432x288 with 1 Axes>"
      ]
     },
     "metadata": {
      "needs_background": "light"
     },
     "output_type": "display_data"
    }
   ],
   "source": [
    "## cleaning bmi var:\n",
    "var = 'bmi'\n",
    "\n",
    "# Exploring mising values\n",
    "pn(gdf_train[var].describe()) # some are missing\n",
    "print('Total Missings: \\n', sum(gdf_train[var].isnull()),'\\n') # checks for number of NAs, about 3.9% of sample\n",
    "pn(gdf_test[var].describe()) # some are missing\n",
    "print('Total Missings: \\n', sum(gdf_test[var].isnull()),'\\n') # checks for number of NAs, about 3.8% of sample\n",
    "# Because the missing values make up less than 5% of the samples, the nans will be removed\n",
    "\n",
    "# Take a look at bmi distribution in sample\n",
    "print(gdf_train[var].hist(bins=50))"
   ]
  },
  {
   "cell_type": "code",
   "execution_count": 18,
   "metadata": {},
   "outputs": [
    {
     "name": "stdout",
     "output_type": "stream",
     "text": [
      "count    3928.000000\n",
      "mean       28.923371\n",
      "std         7.843083\n",
      "min        10.300000\n",
      "25%        23.600000\n",
      "50%        28.100000\n",
      "75%        33.100000\n",
      "max        97.600000\n",
      "Name: bmi, dtype: float64 \n",
      "\n",
      "Total Missings After Drop: \n",
      " 0 \n",
      "\n",
      "count    981.000000\n",
      "mean      28.772579\n",
      "std        7.900756\n",
      "min       11.500000\n",
      "25%       23.300000\n",
      "50%       27.900000\n",
      "75%       32.900000\n",
      "max       64.800000\n",
      "Name: bmi, dtype: float64 \n",
      "\n",
      "Total Missings After Drop: \n",
      " 0 \n",
      "\n",
      "AxesSubplot(0.125,0.125;0.775x0.755)\n"
     ]
    },
    {
     "data": {
      "image/png": "[encoded data removed]",
      "text/plain": [
       "<Figure size 432x288 with 1 Axes>"
      ]
     },
     "metadata": {
      "needs_background": "light"
     },
     "output_type": "display_data"
    }
   ],
   "source": [
    "# Removing missing values\n",
    "gdf_train= gdf_train.dropna(subset=[var])\n",
    "pn(gdf_train[var].describe()) # looks like the stats did not change\n",
    "print('Total Missings After Drop: \\n', sum(gdf_train[var].isnull()),'\\n') # checks to see if drop was successful\n",
    "gdf_test= gdf_test.dropna(subset=[var])\n",
    "pn(gdf_test[var].describe()) # looks like the stats did not change\n",
    "print('Total Missings After Drop: \\n', sum(gdf_test[var].isnull()),'\\n') # checks to see if drop was successful\n",
    "\n",
    "# Take a look at bmi distribution in sample\n",
    "print(gdf_train[var].hist(bins=50)) # doesn't look like distribution was effected by droped observations"
   ]
  },
  {
   "cell_type": "code",
   "execution_count": 19,
   "metadata": {},
   "outputs": [
    {
     "name": "stdout",
     "output_type": "stream",
     "text": [
      "stroke        0   1\n",
      "bmi_group          \n",
      "11-20       417   3\n",
      "21-30      1902  89\n",
      "31-40      1133  64\n",
      "41-50       245  15\n",
      "51-60        48   0\n",
      "61-70         8   0\n",
      "stroke       0   1\n",
      "bmi_group         \n",
      "11-20      117   0\n",
      "21-30      467  21\n",
      "31-40      274  14\n",
      "41-50       67   2\n",
      "51-60       17   1\n",
      "61-70        1   0\n"
     ]
    }
   ],
   "source": [
    "bins = [0, 10, 20, 30, 40,50,60,70]\n",
    "labels = ['0-10', '11-20', '21-30', '31-40','41-50','51-60','61-70']\n",
    "gdf_train['bmi_group'] = pd.cut(gdf_train[var], bins=bins, labels=labels)\n",
    "cross_tab = pd.crosstab(gdf_train['bmi_group'], gdf_train['stroke'])\n",
    "print(cross_tab)\n",
    "\n",
    "bins = [0, 10, 20, 30, 40,50,60,70]\n",
    "labels = ['0-10', '11-20', '21-30', '31-40','41-50','51-60','61-70']\n",
    "gdf_test['bmi_group'] = pd.cut(gdf_test[var], bins=bins, labels=labels)\n",
    "cross_tab = pd.crosstab(gdf_test['bmi_group'], gdf_test['stroke'])\n",
    "print(cross_tab)"
   ]
  },
  {
   "cell_type": "code",
   "execution_count": 20,
   "metadata": {},
   "outputs": [
    {
     "name": "stdout",
     "output_type": "stream",
     "text": [
      "Training Set:\n",
      "count    3928.000000\n",
      "mean        0.051171\n",
      "std         0.220375\n",
      "min         0.000000\n",
      "25%         0.000000\n",
      "50%         0.000000\n",
      "75%         0.000000\n",
      "max         1.000000\n",
      "Name: heart_disease, dtype: float64\n",
      "Total Missings: \n",
      " 0 \n",
      "\n",
      "Test Set:\n",
      "count    981.000000\n",
      "mean       0.042813\n",
      "std        0.202540\n",
      "min        0.000000\n",
      "25%        0.000000\n",
      "50%        0.000000\n",
      "75%        0.000000\n",
      "max        1.000000\n",
      "Name: heart_disease, dtype: float64\n",
      "Total Missings: \n",
      " 0 \n",
      "\n"
     ]
    },
    {
     "data": {
      "image/png": "[encoded data removed]",
      "text/plain": [
       "<Figure size 576x432 with 1 Axes>"
      ]
     },
     "metadata": {
      "needs_background": "light"
     },
     "output_type": "display_data"
    }
   ],
   "source": [
    "## cleaning heart_disease var:\n",
    "\n",
    "var = 'heart_disease'\n",
    "\n",
    "# Exploring missing values\n",
    "print('Training Set:')\n",
    "print(gdf_train[var].describe())  # count looks right\n",
    "print('Total Missings: \\n', sum(gdf_train[var].isnull()), '\\n')  # confirms checks for NAs\n",
    "\n",
    "print('Test Set:')\n",
    "print(gdf_test[var].describe())  # count looks right\n",
    "print('Total Missings: \\n', sum(gdf_test[var].isnull()), '\\n')  # confirms checks for NAs\n",
    "\n",
    "# No nulls need to be removed, this finding is compatible with the value count listed in the describe() output above\n",
    "\n",
    "# Take a look at the distribution of heart_disease\n",
    "plt.figure(figsize=(8, 6))\n",
    "gdf_train[var].value_counts().plot(kind='bar', color=['skyblue', 'salmon'])\n",
    "plt.title('Distribution of Heart Disease in Training Set')\n",
    "plt.xlabel('Heart Disease (0: No, 1: Yes)')\n",
    "plt.ylabel('Count')\n",
    "plt.show()"
   ]
  },
  {
   "cell_type": "code",
   "execution_count": 21,
   "metadata": {},
   "outputs": [
    {
     "name": "stdout",
     "output_type": "stream",
     "text": [
      "stroke            0    1\n",
      "heart_disease           \n",
      "0              3590  137\n",
      "1               167   34 \n",
      "\n",
      "stroke           0   1\n",
      "heart_disease         \n",
      "0              907  32\n",
      "1               36   6 \n",
      "\n"
     ]
    }
   ],
   "source": [
    "print(pd.crosstab(gdf_train[var],gdf_train['stroke']),'\\n') # Heart disease seems to have a strong correlation with stroke compared to other variables, will be a good indicator\n",
    "print(pd.crosstab(gdf_test[var],gdf_test['stroke']),'\\n') "
   ]
  },
  {
   "cell_type": "code",
   "execution_count": 22,
   "metadata": {},
   "outputs": [
    {
     "name": "stdout",
     "output_type": "stream",
     "text": [
      "Training Set:\n",
      "count    3928.000000\n",
      "mean        0.093432\n",
      "std         0.291074\n",
      "min         0.000000\n",
      "25%         0.000000\n",
      "50%         0.000000\n",
      "75%         0.000000\n",
      "max         1.000000\n",
      "Name: hypertension, dtype: float64\n",
      "Total Missings: \n",
      " 0 \n",
      "\n",
      "Test Set:\n",
      "count    981.000000\n",
      "mean       0.085627\n",
      "std        0.279955\n",
      "min        0.000000\n",
      "25%        0.000000\n",
      "50%        0.000000\n",
      "75%        0.000000\n",
      "max        1.000000\n",
      "Name: hypertension, dtype: float64\n",
      "Total Missings: \n",
      " 0 \n",
      "\n"
     ]
    },
    {
     "data": {
      "image/png": "[encoded data removed]",
      "text/plain": [
       "<Figure size 576x432 with 1 Axes>"
      ]
     },
     "metadata": {
      "needs_background": "light"
     },
     "output_type": "display_data"
    }
   ],
   "source": [
    "## cleaning hypertension var:\n",
    "\n",
    "var = 'hypertension'\n",
    "\n",
    "# Exploring missing values\n",
    "print('Training Set:')\n",
    "print(gdf_train[var].describe())  # count looks right\n",
    "print('Total Missings: \\n', sum(gdf_train[var].isnull()), '\\n')  # confirms checks for NAs\n",
    "\n",
    "print('Test Set:')\n",
    "print(gdf_test[var].describe())  # count looks right\n",
    "print('Total Missings: \\n', sum(gdf_test[var].isnull()), '\\n')  # confirms checks for NAs\n",
    "\n",
    "# No nulls need to be removed, this finding is compatible with the value count listed in the describe() output above\n",
    "\n",
    "# Take a look at the distribution of heart_disease\n",
    "plt.figure(figsize=(8, 6))\n",
    "gdf_train[var].value_counts().plot(kind='bar', color=['skyblue', 'salmon'])\n",
    "plt.title('Distribution of Hypertension in Training Set')\n",
    "plt.xlabel('Hypertension (0: No, 1: Yes)')\n",
    "plt.ylabel('Count')\n",
    "plt.show()"
   ]
  },
  {
   "cell_type": "code",
   "execution_count": 23,
   "metadata": {},
   "outputs": [
    {
     "name": "stdout",
     "output_type": "stream",
     "text": [
      "stroke           0    1\n",
      "hypertension           \n",
      "0             3440  121\n",
      "1              317   50 \n",
      "\n",
      "stroke          0   1\n",
      "hypertension         \n",
      "0             869  28\n",
      "1              74  10 \n",
      "\n"
     ]
    }
   ],
   "source": [
    "print(pd.crosstab(gdf_train[var],gdf_train['stroke']),'\\n') # Hypertension seems to have a strong correlation with stroke compared to other variables, will be a good indicator\n",
    "print(pd.crosstab(gdf_test[var],gdf_test['stroke']),'\\n') "
   ]
  },
  {
   "cell_type": "code",
   "execution_count": 24,
   "metadata": {},
   "outputs": [
    {
     "name": "stdout",
     "output_type": "stream",
     "text": [
      "Training Set:\n",
      "count       3928\n",
      "unique         3\n",
      "top       Female\n",
      "freq        2317\n",
      "Name: gender, dtype: object\n",
      "Female    2317\n",
      "Male      1610\n",
      "Other        1\n",
      "Name: gender, dtype: int64\n",
      "Female    2317\n",
      "Male      1610\n",
      "Name: gender, dtype: int64\n",
      "Total Missings: \n",
      " 0 \n",
      "\n",
      "Test Set:\n",
      "count        981\n",
      "unique         2\n",
      "top       Female\n",
      "freq         580\n",
      "Name: gender, dtype: object\n",
      "Female    580\n",
      "Male      401\n",
      "Name: gender, dtype: int64\n",
      "Total Missings: \n",
      " 0 \n",
      "\n"
     ]
    },
    {
     "data": {
      "image/png": "[encoded data removed]",
      "text/plain": [
       "<Figure size 576x432 with 1 Axes>"
      ]
     },
     "metadata": {
      "needs_background": "light"
     },
     "output_type": "display_data"
    }
   ],
   "source": [
    "## cleaning gender var:\n",
    "\n",
    "var = 'gender'\n",
    "\n",
    "# Exploring missing values\n",
    "print('Training Set:')\n",
    "print(gdf_train[var].describe())  # count looks right\n",
    "print(gdf_train[var].value_counts()) #need to remove other\n",
    "gdf_train = gdf_train[gdf_train[var] != 'Other']\n",
    "print(gdf_train[var].value_counts())\n",
    "\n",
    "print('Total Missings: \\n', sum(gdf_train[var].isnull()), '\\n')  # confirms checks for NAs\n",
    "\n",
    "print('Test Set:')\n",
    "print(gdf_test[var].describe())  # count looks right, notice, there are onlu two unique values, so will have to manually enter Other in one hot encoding\n",
    "print(gdf_test[var].value_counts())  # count looks right\n",
    "gdf_test = gdf_test[gdf_test[var] != 'Other']\n",
    "\n",
    "print('Total Missings: \\n', sum(gdf_test[var].isnull()), '\\n')  # confirms checks for NAs\n",
    "\n",
    "# No nulls need to be removed, this finding is compatible with the value count listed in the describe() output above\n",
    "\n",
    "# Take a look at the distribution of heart_disease\n",
    "plt.figure(figsize=(8, 6))\n",
    "gdf_train[var].value_counts().plot(kind='bar', color=['skyblue', 'salmon'])\n",
    "plt.title('Distribution of Gender in Training Set')\n",
    "plt.xlabel('Gender')\n",
    "plt.ylabel('Count')\n",
    "plt.show()"
   ]
  },
  {
   "cell_type": "code",
   "execution_count": 25,
   "metadata": {},
   "outputs": [
    {
     "name": "stdout",
     "output_type": "stream",
     "text": [
      "stroke     0   1\n",
      "gender          \n",
      "Female  2220  97\n",
      "Male    1536  74 \n",
      "\n",
      "stroke    0   1\n",
      "gender         \n",
      "Female  557  23\n",
      "Male    386  15 \n",
      "\n"
     ]
    }
   ],
   "source": [
    "print(pd.crosstab(gdf_train[var],gdf_train['stroke']),'\\n') # Can't conclude anything\n",
    "print(pd.crosstab(gdf_test[var],gdf_test['stroke']),'\\n') "
   ]
  },
  {
   "cell_type": "code",
   "execution_count": 26,
   "metadata": {},
   "outputs": [
    {
     "name": "stdout",
     "output_type": "stream",
     "text": [
      "Training Set:\n",
      "count     3927\n",
      "unique       2\n",
      "top        Yes\n",
      "freq      2568\n",
      "Name: ever_married, dtype: object\n",
      "Total Missings: \n",
      " 0 \n",
      "\n",
      "Test Set:\n",
      "count     981\n",
      "unique      2\n",
      "top       Yes\n",
      "freq      636\n",
      "Name: ever_married, dtype: object\n",
      "Total Missings: \n",
      " 0 \n",
      "\n"
     ]
    },
    {
     "data": {
      "image/png": "[encoded data removed]",
      "text/plain": [
       "<Figure size 576x432 with 1 Axes>"
      ]
     },
     "metadata": {
      "needs_background": "light"
     },
     "output_type": "display_data"
    }
   ],
   "source": [
    "## cleaning ever_married var:\n",
    "\n",
    "var = 'ever_married'\n",
    "\n",
    "# Exploring missing values\n",
    "print('Training Set:')\n",
    "print(gdf_train[var].describe())  # count looks right\n",
    "print('Total Missings: \\n', sum(gdf_train[var].isnull()), '\\n')  # confirms checks for NAs\n",
    "\n",
    "print('Test Set:')\n",
    "print(gdf_test[var].describe())  # count looks right\n",
    "print('Total Missings: \\n', sum(gdf_test[var].isnull()), '\\n')  # confirms checks for NAs\n",
    "\n",
    "# No nulls need to be removed, this finding is compatible with the value count listed in the describe() output above\n",
    "\n",
    "# Take a look at the distribution of heart_disease\n",
    "plt.figure(figsize=(8, 6))\n",
    "gdf_train[var].value_counts().plot(kind='bar', color=['skyblue', 'salmon'])\n",
    "plt.title('Distribution of Marriage in Training Set')\n",
    "plt.xlabel('Marriage')\n",
    "plt.ylabel('Count')\n",
    "plt.show()"
   ]
  },
  {
   "cell_type": "code",
   "execution_count": 27,
   "metadata": {},
   "outputs": [
    {
     "name": "stdout",
     "output_type": "stream",
     "text": [
      "stroke           0    1\n",
      "ever_married           \n",
      "No            1337   22\n",
      "Yes           2419  149 \n",
      "\n",
      "stroke          0   1\n",
      "ever_married         \n",
      "No            344   1\n",
      "Yes           599  37 \n",
      "\n"
     ]
    }
   ],
   "source": [
    "print(pd.crosstab(gdf_train[var],gdf_train['stroke']),'\\n') # Marriage does seem to affect stroke rates\n",
    "print(pd.crosstab(gdf_test[var],gdf_test['stroke']),'\\n') "
   ]
  },
  {
   "cell_type": "code",
   "execution_count": 28,
   "metadata": {},
   "outputs": [
    {
     "ename": "AttributeError",
     "evalue": "module 'seaborn' has no attribute 'move_legend'",
     "output_type": "error",
     "traceback": [
      "\u001b[0;31m---------------------------------------------------------------------------\u001b[0m",
      "\u001b[0;31mAttributeError\u001b[0m                            Traceback (most recent call last)",
      "\u001b[0;32m<ipython-input-28-021b4483d873>\u001b[0m in \u001b[0;36m<module>\u001b[0;34m\u001b[0m\n\u001b[1;32m      1\u001b[0m \u001b[0mthis_plot\u001b[0m \u001b[0;34m=\u001b[0m \u001b[0msns\u001b[0m\u001b[0;34m.\u001b[0m\u001b[0mscatterplot\u001b[0m\u001b[0;34m(\u001b[0m\u001b[0mdata\u001b[0m\u001b[0;34m=\u001b[0m\u001b[0mgdf_train\u001b[0m\u001b[0;34m,\u001b[0m\u001b[0mx\u001b[0m\u001b[0;34m=\u001b[0m\u001b[0;34m'age'\u001b[0m\u001b[0;34m,\u001b[0m\u001b[0my\u001b[0m\u001b[0;34m=\u001b[0m\u001b[0;34m'ever_married'\u001b[0m\u001b[0;34m,\u001b[0m\u001b[0mhue\u001b[0m\u001b[0;34m=\u001b[0m\u001b[0;34m'stroke'\u001b[0m\u001b[0;34m)\u001b[0m \u001b[0;31m# Plot the fake data\u001b[0m\u001b[0;34m\u001b[0m\u001b[0;34m\u001b[0m\u001b[0m\n\u001b[0;32m----> 2\u001b[0;31m \u001b[0msns\u001b[0m\u001b[0;34m.\u001b[0m\u001b[0mmove_legend\u001b[0m\u001b[0;34m(\u001b[0m\u001b[0mthis_plot\u001b[0m\u001b[0;34m,\u001b[0m \u001b[0;34m\"upper left\"\u001b[0m\u001b[0;34m,\u001b[0m \u001b[0mbbox_to_anchor\u001b[0m\u001b[0;34m=\u001b[0m\u001b[0;34m(\u001b[0m\u001b[0;36m1\u001b[0m\u001b[0;34m,\u001b[0m \u001b[0;36m1\u001b[0m\u001b[0;34m)\u001b[0m\u001b[0;34m)\u001b[0m \u001b[0;31m# Move legend off the plot canvas\u001b[0m\u001b[0;34m\u001b[0m\u001b[0;34m\u001b[0m\u001b[0m\n\u001b[0m\u001b[1;32m      3\u001b[0m \u001b[0;31m# looks like age goes not account for all of the strokes\u001b[0m\u001b[0;34m\u001b[0m\u001b[0;34m\u001b[0m\u001b[0;34m\u001b[0m\u001b[0m\n",
      "\u001b[0;31mAttributeError\u001b[0m: module 'seaborn' has no attribute 'move_legend'"
     ]
    },
    {
     "data": {
      "image/png": "[encoded data removed]",
      "text/plain": [
       "<Figure size 432x288 with 1 Axes>"
      ]
     },
     "metadata": {
      "needs_background": "light"
     },
     "output_type": "display_data"
    }
   ],
   "source": [
    "this_plot = sns.scatterplot(data=gdf_train,x='age',y='ever_married',hue='stroke') # Plot the fake data\n",
    "sns.move_legend(this_plot, \"upper left\", bbox_to_anchor=(1, 1)) # Move legend off the plot canvas\n",
    "# looks like age goes not account for all of the strokes"
   ]
  },
  {
   "cell_type": "code",
   "execution_count": 29,
   "metadata": {},
   "outputs": [
    {
     "name": "stdout",
     "output_type": "stream",
     "text": [
      "Training Set:\n",
      "count    3927.000000\n",
      "mean        0.043545\n",
      "std         0.204106\n",
      "min         0.000000\n",
      "25%         0.000000\n",
      "50%         0.000000\n",
      "75%         0.000000\n",
      "max         1.000000\n",
      "Name: stroke, dtype: float64\n",
      "Total Missings: \n",
      " 0 \n",
      "\n",
      "Test Set:\n",
      "count    981.000000\n",
      "mean       0.038736\n",
      "std        0.193063\n",
      "min        0.000000\n",
      "25%        0.000000\n",
      "50%        0.000000\n",
      "75%        0.000000\n",
      "max        1.000000\n",
      "Name: stroke, dtype: float64\n",
      "Total Missings: \n",
      " 0 \n",
      "\n"
     ]
    }
   ],
   "source": [
    "## cleaning stroke var:\n",
    "\n",
    "var = 'stroke'\n",
    "\n",
    "# Exploring missing values\n",
    "print('Training Set:')\n",
    "print(gdf_train[var].describe())  # count looks right\n",
    "print('Total Missings: \\n', sum(gdf_train[var].isnull()), '\\n')  # confirms checks for NAs\n",
    "\n",
    "print('Test Set:')\n",
    "print(gdf_test[var].describe())  # count looks right, notice\n",
    "print('Total Missings: \\n', sum(gdf_test[var].isnull()), '\\n')  # confirms checks for NAs\n",
    "\n",
    "# No nulls need to be removed, this finding is compatible with the value count listed in the describe() output above"
   ]
  },
  {
   "cell_type": "markdown",
   "metadata": {},
   "source": [
    "## Cleaned dataframes"
   ]
  },
  {
   "cell_type": "code",
   "execution_count": 30,
   "metadata": {},
   "outputs": [
    {
     "data": {
      "text/html": [
       "<div>\n",
       "<style scoped>\n",
       "    .dataframe tbody tr th:only-of-type {\n",
       "        vertical-align: middle;\n",
       "    }\n",
       "\n",
       "    .dataframe tbody tr th {\n",
       "        vertical-align: top;\n",
       "    }\n",
       "\n",
       "    .dataframe thead th {\n",
       "        text-align: right;\n",
       "    }\n",
       "</style>\n",
       "<table border=\"1\" class=\"dataframe\">\n",
       "  <thead>\n",
       "    <tr style=\"text-align: right;\">\n",
       "      <th></th>\n",
       "      <th>Unnamed: 0</th>\n",
       "      <th>id</th>\n",
       "      <th>age</th>\n",
       "      <th>hypertension</th>\n",
       "      <th>heart_disease</th>\n",
       "      <th>avg_glucose_level</th>\n",
       "      <th>bmi</th>\n",
       "      <th>stroke</th>\n",
       "    </tr>\n",
       "  </thead>\n",
       "  <tbody>\n",
       "    <tr>\n",
       "      <th>count</th>\n",
       "      <td>3927.000000</td>\n",
       "      <td>3927.000000</td>\n",
       "      <td>3927.000000</td>\n",
       "      <td>3927.000000</td>\n",
       "      <td>3927.000000</td>\n",
       "      <td>3927.000000</td>\n",
       "      <td>3927.000000</td>\n",
       "      <td>3927.000000</td>\n",
       "    </tr>\n",
       "    <tr>\n",
       "      <th>mean</th>\n",
       "      <td>2578.873186</td>\n",
       "      <td>36900.512605</td>\n",
       "      <td>42.997576</td>\n",
       "      <td>0.093456</td>\n",
       "      <td>0.051184</td>\n",
       "      <td>105.134069</td>\n",
       "      <td>28.925032</td>\n",
       "      <td>0.043545</td>\n",
       "    </tr>\n",
       "    <tr>\n",
       "      <th>std</th>\n",
       "      <td>1471.705431</td>\n",
       "      <td>21002.680798</td>\n",
       "      <td>22.475913</td>\n",
       "      <td>0.291107</td>\n",
       "      <td>0.220401</td>\n",
       "      <td>44.162948</td>\n",
       "      <td>7.843391</td>\n",
       "      <td>0.204106</td>\n",
       "    </tr>\n",
       "    <tr>\n",
       "      <th>min</th>\n",
       "      <td>1.000000</td>\n",
       "      <td>84.000000</td>\n",
       "      <td>0.080000</td>\n",
       "      <td>0.000000</td>\n",
       "      <td>0.000000</td>\n",
       "      <td>55.120000</td>\n",
       "      <td>10.300000</td>\n",
       "      <td>0.000000</td>\n",
       "    </tr>\n",
       "    <tr>\n",
       "      <th>25%</th>\n",
       "      <td>1314.000000</td>\n",
       "      <td>18234.000000</td>\n",
       "      <td>25.000000</td>\n",
       "      <td>0.000000</td>\n",
       "      <td>0.000000</td>\n",
       "      <td>77.140000</td>\n",
       "      <td>23.600000</td>\n",
       "      <td>0.000000</td>\n",
       "    </tr>\n",
       "    <tr>\n",
       "      <th>50%</th>\n",
       "      <td>2575.000000</td>\n",
       "      <td>37446.000000</td>\n",
       "      <td>44.000000</td>\n",
       "      <td>0.000000</td>\n",
       "      <td>0.000000</td>\n",
       "      <td>91.850000</td>\n",
       "      <td>28.100000</td>\n",
       "      <td>0.000000</td>\n",
       "    </tr>\n",
       "    <tr>\n",
       "      <th>75%</th>\n",
       "      <td>3854.500000</td>\n",
       "      <td>54983.500000</td>\n",
       "      <td>60.000000</td>\n",
       "      <td>0.000000</td>\n",
       "      <td>0.000000</td>\n",
       "      <td>113.245000</td>\n",
       "      <td>33.100000</td>\n",
       "      <td>0.000000</td>\n",
       "    </tr>\n",
       "    <tr>\n",
       "      <th>max</th>\n",
       "      <td>5110.000000</td>\n",
       "      <td>72940.000000</td>\n",
       "      <td>82.000000</td>\n",
       "      <td>1.000000</td>\n",
       "      <td>1.000000</td>\n",
       "      <td>271.740000</td>\n",
       "      <td>97.600000</td>\n",
       "      <td>1.000000</td>\n",
       "    </tr>\n",
       "  </tbody>\n",
       "</table>\n",
       "</div>"
      ],
      "text/plain": [
       "        Unnamed: 0            id          age  hypertension  heart_disease  \\\n",
       "count  3927.000000   3927.000000  3927.000000   3927.000000    3927.000000   \n",
       "mean   2578.873186  36900.512605    42.997576      0.093456       0.051184   \n",
       "std    1471.705431  21002.680798    22.475913      0.291107       0.220401   \n",
       "min       1.000000     84.000000     0.080000      0.000000       0.000000   \n",
       "25%    1314.000000  18234.000000    25.000000      0.000000       0.000000   \n",
       "50%    2575.000000  37446.000000    44.000000      0.000000       0.000000   \n",
       "75%    3854.500000  54983.500000    60.000000      0.000000       0.000000   \n",
       "max    5110.000000  72940.000000    82.000000      1.000000       1.000000   \n",
       "\n",
       "       avg_glucose_level          bmi       stroke  \n",
       "count        3927.000000  3927.000000  3927.000000  \n",
       "mean          105.134069    28.925032     0.043545  \n",
       "std            44.162948     7.843391     0.204106  \n",
       "min            55.120000    10.300000     0.000000  \n",
       "25%            77.140000    23.600000     0.000000  \n",
       "50%            91.850000    28.100000     0.000000  \n",
       "75%           113.245000    33.100000     0.000000  \n",
       "max           271.740000    97.600000     1.000000  "
      ]
     },
     "execution_count": 30,
     "metadata": {},
     "output_type": "execute_result"
    }
   ],
   "source": [
    "gdf_train.head()\n",
    "gdf_train.describe()"
   ]
  },
  {
   "cell_type": "code",
   "execution_count": 31,
   "metadata": {},
   "outputs": [
    {
     "data": {
      "text/html": [
       "<div>\n",
       "<style scoped>\n",
       "    .dataframe tbody tr th:only-of-type {\n",
       "        vertical-align: middle;\n",
       "    }\n",
       "\n",
       "    .dataframe tbody tr th {\n",
       "        vertical-align: top;\n",
       "    }\n",
       "\n",
       "    .dataframe thead th {\n",
       "        text-align: right;\n",
       "    }\n",
       "</style>\n",
       "<table border=\"1\" class=\"dataframe\">\n",
       "  <thead>\n",
       "    <tr style=\"text-align: right;\">\n",
       "      <th></th>\n",
       "      <th>Unnamed: 0</th>\n",
       "      <th>id</th>\n",
       "      <th>age</th>\n",
       "      <th>hypertension</th>\n",
       "      <th>heart_disease</th>\n",
       "      <th>avg_glucose_level</th>\n",
       "      <th>bmi</th>\n",
       "      <th>stroke</th>\n",
       "    </tr>\n",
       "  </thead>\n",
       "  <tbody>\n",
       "    <tr>\n",
       "      <th>count</th>\n",
       "      <td>981.000000</td>\n",
       "      <td>981.000000</td>\n",
       "      <td>981.000000</td>\n",
       "      <td>981.000000</td>\n",
       "      <td>981.000000</td>\n",
       "      <td>981.000000</td>\n",
       "      <td>981.000000</td>\n",
       "      <td>981.000000</td>\n",
       "    </tr>\n",
       "    <tr>\n",
       "      <th>mean</th>\n",
       "      <td>2556.417941</td>\n",
       "      <td>37700.556575</td>\n",
       "      <td>42.353354</td>\n",
       "      <td>0.085627</td>\n",
       "      <td>0.042813</td>\n",
       "      <td>105.951233</td>\n",
       "      <td>28.772579</td>\n",
       "      <td>0.038736</td>\n",
       "    </tr>\n",
       "    <tr>\n",
       "      <th>std</th>\n",
       "      <td>1468.152800</td>\n",
       "      <td>20965.050908</td>\n",
       "      <td>22.878740</td>\n",
       "      <td>0.279955</td>\n",
       "      <td>0.202540</td>\n",
       "      <td>45.478624</td>\n",
       "      <td>7.900756</td>\n",
       "      <td>0.193063</td>\n",
       "    </tr>\n",
       "    <tr>\n",
       "      <th>min</th>\n",
       "      <td>23.000000</td>\n",
       "      <td>77.000000</td>\n",
       "      <td>0.160000</td>\n",
       "      <td>0.000000</td>\n",
       "      <td>0.000000</td>\n",
       "      <td>55.250000</td>\n",
       "      <td>11.500000</td>\n",
       "      <td>0.000000</td>\n",
       "    </tr>\n",
       "    <tr>\n",
       "      <th>25%</th>\n",
       "      <td>1201.000000</td>\n",
       "      <td>20162.000000</td>\n",
       "      <td>23.000000</td>\n",
       "      <td>0.000000</td>\n",
       "      <td>0.000000</td>\n",
       "      <td>76.630000</td>\n",
       "      <td>23.300000</td>\n",
       "      <td>0.000000</td>\n",
       "    </tr>\n",
       "    <tr>\n",
       "      <th>50%</th>\n",
       "      <td>2596.000000</td>\n",
       "      <td>38069.000000</td>\n",
       "      <td>44.000000</td>\n",
       "      <td>0.000000</td>\n",
       "      <td>0.000000</td>\n",
       "      <td>90.650000</td>\n",
       "      <td>27.900000</td>\n",
       "      <td>0.000000</td>\n",
       "    </tr>\n",
       "    <tr>\n",
       "      <th>75%</th>\n",
       "      <td>3837.000000</td>\n",
       "      <td>55744.000000</td>\n",
       "      <td>60.000000</td>\n",
       "      <td>0.000000</td>\n",
       "      <td>0.000000</td>\n",
       "      <td>114.610000</td>\n",
       "      <td>32.900000</td>\n",
       "      <td>0.000000</td>\n",
       "    </tr>\n",
       "    <tr>\n",
       "      <th>max</th>\n",
       "      <td>5109.000000</td>\n",
       "      <td>72861.000000</td>\n",
       "      <td>82.000000</td>\n",
       "      <td>1.000000</td>\n",
       "      <td>1.000000</td>\n",
       "      <td>263.560000</td>\n",
       "      <td>64.800000</td>\n",
       "      <td>1.000000</td>\n",
       "    </tr>\n",
       "  </tbody>\n",
       "</table>\n",
       "</div>"
      ],
      "text/plain": [
       "        Unnamed: 0            id         age  hypertension  heart_disease  \\\n",
       "count   981.000000    981.000000  981.000000    981.000000     981.000000   \n",
       "mean   2556.417941  37700.556575   42.353354      0.085627       0.042813   \n",
       "std    1468.152800  20965.050908   22.878740      0.279955       0.202540   \n",
       "min      23.000000     77.000000    0.160000      0.000000       0.000000   \n",
       "25%    1201.000000  20162.000000   23.000000      0.000000       0.000000   \n",
       "50%    2596.000000  38069.000000   44.000000      0.000000       0.000000   \n",
       "75%    3837.000000  55744.000000   60.000000      0.000000       0.000000   \n",
       "max    5109.000000  72861.000000   82.000000      1.000000       1.000000   \n",
       "\n",
       "       avg_glucose_level         bmi      stroke  \n",
       "count         981.000000  981.000000  981.000000  \n",
       "mean          105.951233   28.772579    0.038736  \n",
       "std            45.478624    7.900756    0.193063  \n",
       "min            55.250000   11.500000    0.000000  \n",
       "25%            76.630000   23.300000    0.000000  \n",
       "50%            90.650000   27.900000    0.000000  \n",
       "75%           114.610000   32.900000    0.000000  \n",
       "max           263.560000   64.800000    1.000000  "
      ]
     },
     "execution_count": 31,
     "metadata": {},
     "output_type": "execute_result"
    }
   ],
   "source": [
    "gdf_test.head()\n",
    "gdf_test.describe()"
   ]
  },
  {
   "cell_type": "markdown",
   "metadata": {},
   "source": [
    "## Making X and y sets for models"
   ]
  },
  {
   "cell_type": "code",
   "execution_count": 32,
   "metadata": {},
   "outputs": [],
   "source": [
    "## Getting dataframes ready for training and testing\n",
    "from sklearn.preprocessing import PolynomialFeatures\n",
    "\n",
    "# Train numeric variables\n",
    "X_train_numeric = gdf_train.loc[:,['age','hypertension','heart_disease','bmi','avg_glucose_level'] ]\n",
    "X_train_numeric = X_train_numeric.reset_index(drop=True)\n",
    "\n",
    "# Exapanding numeric variables\n",
    "# expander = PolynomialFeatures(degree=2,include_bias=False) # Create the expander\n",
    "# Z = expander.fit_transform(X_train_numeric) # Pass the df into the expander to get powers/interactions of x and y\n",
    "# names = expander.get_feature_names_out() # Get the names of these variables\n",
    "# continuous_train = pd.DataFrame(data=Z, columns = names) # Create a new, expanded dataframe\n",
    "\n",
    "# Train categorical variables\n",
    "dummies_train = pd.concat([ pd.get_dummies(gdf_train['work_type'],dtype='int'), # work_type has more than two options\n",
    "                      pd.get_dummies(gdf_train['Residence_type'],dtype='int',drop_first=True), # residence_type only has \"Urban\" or \"Rural\"\n",
    "                      pd.get_dummies(gdf_train['smoking_status'],dtype='int'), # smoking_status has more than two options\n",
    "                      pd.get_dummies(gdf_train['ever_married'],dtype='int',drop_first=True) # ever_married only has \"Yes\" or \"No\"\n",
    "                    ],axis=1)\n",
    "dummies_train = dummies_train.reset_index(drop=True)\n",
    "\n",
    "# Concatinating numeric and one-hot-encoded categorical variables\n",
    "X_train = pd.concat([X_train_numeric,dummies_train],axis=1)\n",
    "X_train = X_train.reset_index(drop=True)\n",
    "\n",
    "# Set up outcome\n",
    "y_train = gdf_train['stroke']\n",
    "# y_train = y_train.reset_index(drop=True)"
   ]
  },
  {
   "cell_type": "code",
   "execution_count": 33,
   "metadata": {},
   "outputs": [],
   "source": [
    "# Test numeric variables\n",
    "X_test_numeric = gdf_test.loc[:,['age','hypertension','heart_disease','bmi','avg_glucose_level'] ]\n",
    "X_test_numeric = X_test_numeric.reset_index(drop=True)\n",
    "\n",
    "# Exapanding numeric variables\n",
    "# expander = PolynomialFeatures(degree=2,include_bias=False) # Create the expander\n",
    "# Z = expander.fit_transform(X_test_numeric) # Pass the df into the expander to get powers/interactions of x and y\n",
    "# names = expander.get_feature_names_out() # Get the names of these variables\n",
    "# continuous_test = pd.DataFrame(data=Z, columns = names) # Create a new, expanded dataframe\n",
    "\n",
    "# Test categorical variables\n",
    "dummies_test = pd.concat([ pd.get_dummies(gdf_test['work_type'],dtype='int'),\n",
    "                      pd.get_dummies(gdf_test['Residence_type'],dtype='int',drop_first=True),\n",
    "                      pd.get_dummies(gdf_test['smoking_status'],dtype='int'),\n",
    "                      pd.get_dummies(gdf_test['ever_married'],dtype='int',drop_first=True)],axis=1)\n",
    "dummies_test = dummies_test.reset_index(drop=True)\n",
    "\n",
    "# Concatinating numeric and one-hot-encoded categorical variables\n",
    "X_test = pd.concat([X_test_numeric,dummies_test],axis=1)\n",
    "X_test = X_test.reset_index(drop=True)\n",
    "\n",
    "# Set up outcome\n",
    "y_test = gdf_test['stroke']\n",
    "# y_test = y_test.reset_index(drop=True)"
   ]
  },
  {
   "cell_type": "markdown",
   "metadata": {},
   "source": [
    "## Linear Models"
   ]
  },
  {
   "cell_type": "code",
   "execution_count": 34,
   "metadata": {},
   "outputs": [
    {
     "name": "stdout",
     "output_type": "stream",
     "text": [
      "R2:  0.06592714444507708\n",
      "RMSE:  0.1864957817008451\n"
     ]
    }
   ],
   "source": [
    "## Linear Model using numeric data\n",
    "from sklearn.linear_model import LinearRegression # Import linear regression model\n",
    "\n",
    "# Fit the model and get the R2 measure:\n",
    "reg = LinearRegression().fit(X_train_numeric, y_train) # Fit the linear model\n",
    "R2_lm_num = reg.score(X_test_numeric, y_test)\n",
    "print('R2: ', R2_lm_num) # R squared measure\n",
    "y_hat = reg.predict(X_test_numeric)\n",
    "N = len(y_test)\n",
    "RMSE_lm_num = (np.sum( (y_test - y_hat)**2)/N )**.5\n",
    "print('RMSE: ', RMSE_lm_num )   # R squared measure"
   ]
  },
  {
   "cell_type": "code",
   "execution_count": 35,
   "metadata": {},
   "outputs": [
    {
     "name": "stdout",
     "output_type": "stream",
     "text": [
      "R2:  0.01852264319559449\n",
      "RMSE:  0.19116957718876368\n"
     ]
    }
   ],
   "source": [
    "## Linear Model using categorical data\n",
    "\n",
    "# Fit the model and get the R2 measure:\n",
    "reg = LinearRegression().fit(dummies_train, y_train) # Fit the linear model\n",
    "R2_lm_cat = reg.score(dummies_test, y_test)\n",
    "print('R2: ', R2_lm_cat) # R squared measure\n",
    "y_hat = reg.predict(dummies_test)\n",
    "N = len(y_test)\n",
    "RMSE_lm_cat = (np.sum( (y_test - y_hat)**2)/N )**.5\n",
    "print('RMSE: ', RMSE_lm_cat )   # R squared measure"
   ]
  },
  {
   "cell_type": "code",
   "execution_count": 36,
   "metadata": {},
   "outputs": [
    {
     "name": "stdout",
     "output_type": "stream",
     "text": [
      "R2:  0.07328765337167253\n",
      "RMSE:  0.1857595335606032\n"
     ]
    }
   ],
   "source": [
    "## Linear Model using numeric and categorical data\n",
    "\n",
    "# Fit the model and get the R2 measure:\n",
    "reg = LinearRegression().fit(X_train, y_train) # Fit the linear model\n",
    "R2_lm = reg.score(X_test, y_test)\n",
    "print('R2: ', R2_lm) # R squared measure\n",
    "y_hat = reg.predict(X_test)\n",
    "N = len(y_test)\n",
    "RMSE_lm = (np.sum( (y_test - y_hat)**2)/N )**.5\n",
    "print('RMSE: ', RMSE_lm )   # R squared measure"
   ]
  },
  {
   "cell_type": "markdown",
   "metadata": {},
   "source": [
    "## Decision Tree Models"
   ]
  },
  {
   "cell_type": "code",
   "execution_count": 38,
   "metadata": {},
   "outputs": [
    {
     "data": {
      "image/png": "[encoded data removed]",
      "text/plain": [
       "<Figure size 432x288 with 1 Axes>"
      ]
     },
     "metadata": {
      "needs_background": "light"
     },
     "output_type": "display_data"
    },
    {
     "name": "stdout",
     "output_type": "stream",
     "text": [
      "Coefficient of determination:  0.0640912449137303\n",
      "RMSE:  0.18673692425553143\n"
     ]
    }
   ],
   "source": [
    "from sklearn import tree\n",
    "from sklearn.tree import DecisionTreeRegressor\n",
    "\n",
    "## Decision Tree using numeric data\n",
    "tree_model = tree.DecisionTreeRegressor(max_depth=2) # Set up the tree\n",
    "cart = tree_model.fit(X_train_numeric, y_train) # Fit the tree\n",
    "tree.plot_tree(cart,filled=True) # Visualize the tree\n",
    "plt.show()\n",
    "\n",
    "# Make Predictions on the Test Set\n",
    "y_hat_cart = cart.predict(X_test_numeric) # Run test data through model to get y predictions\n",
    "N_test = len(y_test) # number of outputs\n",
    "residuals_cart = y_test - y_hat_cart # difference between predicted and real values\n",
    "\n",
    "# Metrics:\n",
    "SSE_cart = np.sum( (y_test-y_hat_cart)**2 ) # Sum of squared errors\n",
    "MSE_cart = SSE_cart/N_test # Mean of sum of squarerd errors\n",
    "RMSE_cart_num = (MSE_cart)**(1/2) # Root of mean of sum of squared errors\n",
    "TSS = np.sum( (y_test - y_train.mean())**2 )\n",
    "R2_cart_num = 1 - SSE_cart/TSS # Coefficient of determination\n",
    "print('Coefficient of determination: ', R2_cart_num) # R squared measure\n",
    "print('RMSE: ', RMSE_cart_num)"
   ]
  },
  {
   "cell_type": "code",
   "execution_count": 53,
   "metadata": {},
   "outputs": [
    {
     "data": {
      "image/png": "[encoded data removed]",
      "text/plain": [
       "<Figure size 432x288 with 1 Axes>"
      ]
     },
     "metadata": {
      "needs_background": "light"
     },
     "output_type": "display_data"
    },
    {
     "name": "stdout",
     "output_type": "stream",
     "text": [
      "Coefficient of determination:  -0.0396512897492034\n",
      "RMSE:  0.19681459216763408\n"
     ]
    }
   ],
   "source": [
    "## Decision Tree using categorical data\n",
    "from sklearn.tree import DecisionTreeClassifier\n",
    "tree_model = tree.DecisionTreeClassifier(max_depth=2) # Set up the tree\n",
    "cart = tree_model.fit(dummies_train, y_train) # Fit the tree\n",
    "tree.plot_tree(cart,filled=True) # Visualize the tree\n",
    "plt.show()\n",
    "\n",
    "# Make Predictions on the Test Set\n",
    "y_hat_cart = cart.predict(dummies_test) # Run test data through model to get y predictions\n",
    "N_test = len(y_test) # number of outputs\n",
    "residuals_cart = y_test - y_hat_cart # difference between predicted and real values\n",
    "\n",
    "# Metrics:\n",
    "SSE_cart = np.sum( (y_test-y_hat_cart)**2 ) # Sum of squared errors\n",
    "MSE_cart = SSE_cart/N_test # Mean of sum of squarerd errors\n",
    "RMSE_cart_cat = (MSE_cart)**(1/2) # Root of mean of sum of squared errors\n",
    "TSS = np.sum( (y_test - y_train.mean())**2 )\n",
    "R2_cart_cat = 1 - SSE_cart/TSS # Coefficient of determination\n",
    "print('Coefficient of determination: ', R2_cart_cat) # R squared measure\n",
    "print('RMSE: ', RMSE_cart_cat)"
   ]
  },
  {
   "cell_type": "code",
   "execution_count": 49,
   "metadata": {},
   "outputs": [
    {
     "data": {
      "image/png": "[encoded data removed]",
      "text/plain": [
       "<Figure size 432x288 with 1 Axes>"
      ]
     },
     "metadata": {
      "needs_background": "light"
     },
     "output_type": "display_data"
    },
    {
     "name": "stdout",
     "output_type": "stream",
     "text": [
      "Coefficient of determination:  0.0640912449137303\n",
      "RMSE:  0.18673692425553143\n"
     ]
    }
   ],
   "source": [
    "## Decision Tree using numeric and categorical data\n",
    "tree_model = tree.DecisionTreeRegressor(max_depth=2) # Set up the tree\n",
    "cart = tree_model.fit(X_train, y_train) # Fit the tree\n",
    "tree.plot_tree(cart,filled=True) # Visualize the tree\n",
    "plt.show()\n",
    "\n",
    "# Make Predictions on the Test Set\n",
    "y_hat_cart = cart.predict(X_test) # Run test data through model to get y predictions\n",
    "N_test = len(y_test) # number of outputs\n",
    "residuals_cart = y_test - y_hat_cart # difference between predicted and real values\n",
    "\n",
    "# Metrics:\n",
    "SSE_cart = np.sum( (y_test-y_hat_cart)**2 ) # Sum of squared errors\n",
    "MSE_cart = SSE_cart/N_test # Mean of sum of squarerd errors\n",
    "RMSE_cart = (MSE_cart)**(1/2) # Root of mean of sum of squared errors\n",
    "TSS = np.sum( (y_test - y_train.mean())**2 )\n",
    "R2_cart = 1 - SSE_cart/TSS # Coefficient of determination\n",
    "print('Coefficient of determination: ', R2_cart) # R squared measure\n",
    "print('RMSE: ', RMSE_cart)"
   ]
  },
  {
   "cell_type": "markdown",
   "metadata": {},
   "source": [
    "## K Nearest Neighbor Models"
   ]
  },
  {
   "cell_type": "code",
   "execution_count": 54,
   "metadata": {},
   "outputs": [
    {
     "data": {
      "image/png": "[encoded data removed]",
      "text/plain": [
       "<Figure size 432x288 with 1 Axes>"
      ]
     },
     "metadata": {
      "needs_background": "light"
     },
     "output_type": "display_data"
    }
   ],
   "source": [
    "## KNeighborsRegressor Model using numerical data\n",
    "from sklearn.neighbors import KNeighborsRegressor\n",
    "\n",
    "# Maxmin normalization function:\n",
    "def maxmin(z):\n",
    "    z = (z-min(z))/(max(z)-min(z))\n",
    "    return(z)\n",
    "\n",
    "# Apply maxmin to each column of X:\n",
    "X_train_knn = X_train_numeric.apply(maxmin)\n",
    "X_test_knn = X_test_numeric.apply(maxmin)\n",
    "\n",
    "# Determine optimal k:\n",
    "k_bar = 70\n",
    "k_grid = np.arange(1,k_bar) # The range of k's to consider\n",
    "SSE = np.zeros(k_bar-1) # For comparison purposes, store the training error\n",
    "for k in range(k_bar-1):\n",
    "    model = KNeighborsRegressor(n_neighbors=k+1) # Create a sk model for k\n",
    "    fitted_model = model.fit(X_train_knn,y_train) # Train the model on our data\n",
    "    y_hat = fitted_model.predict(X_test_knn) # Predict values for test set\n",
    "    SSE[k] = np.sum( (y_test-y_hat)**2 ) # Save the computed SSE\n",
    "SSE_min = np.min(SSE) # Lowest recorded SSE\n",
    "min_index = np.where(SSE==SSE_min) # Find the indices of y that equal the minimum\n",
    "k_star = k_grid[min_index][0] # Find the optimal value of k\n",
    "\n",
    "## SSE plot:\n",
    "plt.plot(k_grid,SSE)\n",
    "plt.xlabel(\"k\")\n",
    "plt.ylabel(\"SSE\")\n",
    "plt.title('SSE')\n",
    "plt.show()"
   ]
  },
  {
   "cell_type": "code",
   "execution_count": 55,
   "metadata": {},
   "outputs": [
    {
     "name": "stdout",
     "output_type": "stream",
     "text": [
      "RMSE: 0.19\n",
      "R^2: 0.06\n"
     ]
    }
   ],
   "source": [
    "# Fit optimal model:\n",
    "knn_model = KNeighborsRegressor(n_neighbors=max(6,k_star))\n",
    "knn_star = knn_model.fit(X_train_knn,y_train)\n",
    "y_hat_knn = knn_star.predict(X_test_knn)\n",
    "residuals_knn = y_test - y_hat_knn\n",
    "\n",
    "# Calculate RMSE and R^2\n",
    "SSE_knn = np.sum( (y_test-y_hat_knn)**2 )\n",
    "N_test = len(y_test)\n",
    "MSE_knn = SSE_knn/N_test\n",
    "RMSE_knn_num = (SSE_knn/N_test)**(1/2)\n",
    "TSS = np.sum( (y_test - y_train.mean())**2 )\n",
    "R2_knn_num = 1 - SSE_knn/TSS\n",
    "print(f'RMSE: {RMSE_knn_num:.2f}')\n",
    "print(f'R^2: {R2_knn_num:.2f}')"
   ]
  },
  {
   "cell_type": "code",
   "execution_count": 56,
   "metadata": {},
   "outputs": [
    {
     "data": {
      "image/png": "[encoded data removed]",
      "text/plain": [
       "<Figure size 432x288 with 1 Axes>"
      ]
     },
     "metadata": {
      "needs_background": "light"
     },
     "output_type": "display_data"
    }
   ],
   "source": [
    "## KNeighborsRegressor Model using categorical data\n",
    "from sklearn.neighbors import KNeighborsRegressor\n",
    "\n",
    "# Maxmin normalization function:\n",
    "def maxmin(z):\n",
    "    z = (z-min(z))/(max(z)-min(z))\n",
    "    return(z)\n",
    "\n",
    "# Apply maxmin to each column of X:\n",
    "X_train_knn = dummies_train.apply(maxmin)\n",
    "X_test_knn = dummies_test.apply(maxmin)\n",
    "\n",
    "# Determine optimal k:\n",
    "k_bar = 70\n",
    "k_grid = np.arange(1,k_bar) # The range of k's to consider\n",
    "SSE = np.zeros(k_bar-1) # For comparison purposes, store the training error\n",
    "for k in range(k_bar-1):\n",
    "    model = KNeighborsRegressor(n_neighbors=k+1) # Create a sk model for k\n",
    "    fitted_model = model.fit(X_train_knn,y_train) # Train the model on our data\n",
    "    y_hat = fitted_model.predict(X_test_knn) # Predict values for test set\n",
    "    SSE[k] = np.sum( (y_test-y_hat)**2 ) # Save the computed SSE\n",
    "SSE_min = np.min(SSE) # Lowest recorded SSE\n",
    "min_index = np.where(SSE==SSE_min) # Find the indices of y that equal the minimum\n",
    "k_star = k_grid[min_index][0] # Find the optimal value of k\n",
    "\n",
    "## SSE plot:\n",
    "plt.plot(k_grid,SSE)\n",
    "plt.xlabel(\"k\")\n",
    "plt.ylabel(\"SSE\")\n",
    "plt.title('SSE')\n",
    "plt.show()"
   ]
  },
  {
   "cell_type": "code",
   "execution_count": 57,
   "metadata": {},
   "outputs": [
    {
     "name": "stdout",
     "output_type": "stream",
     "text": [
      "RMSE: 0.20\n",
      "R^2: -0.02\n"
     ]
    }
   ],
   "source": [
    "# Fit optimal model:\n",
    "knn_model = KNeighborsRegressor(n_neighbors=max(6,k_star))\n",
    "knn_star = knn_model.fit(X_train_knn,y_train)\n",
    "y_hat_knn = knn_star.predict(X_test_knn)\n",
    "residuals_knn = y_test - y_hat_knn\n",
    "\n",
    "# Calculate RMSE and R^2\n",
    "SSE_knn = np.sum( (y_test-y_hat_knn)**2 )\n",
    "N_test = len(y_test)\n",
    "MSE_knn = SSE_knn/N_test\n",
    "RMSE_knn_cat = (SSE_knn/N_test)**(1/2)\n",
    "TSS = np.sum( (y_test - y_train.mean())**2 )\n",
    "R2_knn_cat = 1 - SSE_knn/TSS\n",
    "print(f'RMSE: {RMSE_knn_cat:.2f}')\n",
    "print(f'R^2: {R2_knn_cat:.2f}')"
   ]
  },
  {
   "cell_type": "code",
   "execution_count": 58,
   "metadata": {},
   "outputs": [
    {
     "data": {
      "image/png": "[encoded data removed]",
      "text/plain": [
       "<Figure size 432x288 with 1 Axes>"
      ]
     },
     "metadata": {
      "needs_background": "light"
     },
     "output_type": "display_data"
    }
   ],
   "source": [
    "## KNeighborsRegressor Model using numerical and categorical data\n",
    "from sklearn.neighbors import KNeighborsRegressor\n",
    "\n",
    "# Maxmin normalization function:\n",
    "def maxmin(z):\n",
    "    z = (z-min(z))/(max(z)-min(z))\n",
    "    return(z)\n",
    "\n",
    "# Apply maxmin to each column of X:\n",
    "X_train_knn = X_train.apply(maxmin)\n",
    "X_test_knn = X_test.apply(maxmin)\n",
    "\n",
    "# Determine optimal k:\n",
    "k_bar = 70\n",
    "k_grid = np.arange(1,k_bar) # The range of k's to consider\n",
    "SSE = np.zeros(k_bar-1) # For comparison purposes, store the training error\n",
    "for k in range(k_bar-1):\n",
    "    model = KNeighborsRegressor(n_neighbors=k+1) # Create a sk model for k\n",
    "    fitted_model = model.fit(X_train_knn,y_train) # Train the model on our data\n",
    "    y_hat = fitted_model.predict(X_test_knn) # Predict values for test set\n",
    "    SSE[k] = np.sum( (y_test-y_hat)**2 ) # Save the computed SSE\n",
    "SSE_min = np.min(SSE) # Lowest recorded SSE\n",
    "min_index = np.where(SSE==SSE_min) # Find the indices of y that equal the minimum\n",
    "k_star = k_grid[min_index][0] # Find the optimal value of k\n",
    "\n",
    "## SSE plot:\n",
    "plt.plot(k_grid,SSE)\n",
    "plt.xlabel(\"k\")\n",
    "plt.ylabel(\"SSE\")\n",
    "plt.title('SSE')\n",
    "plt.show()"
   ]
  },
  {
   "cell_type": "code",
   "execution_count": 59,
   "metadata": {},
   "outputs": [
    {
     "name": "stdout",
     "output_type": "stream",
     "text": [
      "RMSE: 0.19\n",
      "R^2: 0.05\n"
     ]
    }
   ],
   "source": [
    "# Fit optimal model:\n",
    "knn_model = KNeighborsRegressor(n_neighbors=max(6,k_star))\n",
    "knn_star = knn_model.fit(X_train_knn,y_train)\n",
    "y_hat_knn = knn_star.predict(X_test_knn)\n",
    "residuals_knn = y_test - y_hat_knn\n",
    "\n",
    "# Calculate RMSE and R^2\n",
    "SSE_knn = np.sum( (y_test-y_hat_knn)**2 )\n",
    "N_test = len(y_test)\n",
    "MSE_knn = SSE_knn/N_test\n",
    "RMSE_knn = (SSE_knn/N_test)**(1/2)\n",
    "TSS = np.sum( (y_test - y_train.mean())**2 )\n",
    "R2_knn = 1 - SSE_knn/TSS\n",
    "print(f'RMSE: {RMSE_knn:.2f}')\n",
    "print(f'R^2: {R2_knn:.2f}')"
   ]
  },
  {
   "cell_type": "code",
   "execution_count": 63,
   "metadata": {},
   "outputs": [
    {
     "data": {
      "text/html": [
       "<div>\n",
       "<style scoped>\n",
       "    .dataframe tbody tr th:only-of-type {\n",
       "        vertical-align: middle;\n",
       "    }\n",
       "\n",
       "    .dataframe tbody tr th {\n",
       "        vertical-align: top;\n",
       "    }\n",
       "\n",
       "    .dataframe thead th {\n",
       "        text-align: right;\n",
       "    }\n",
       "</style>\n",
       "<table border=\"1\" class=\"dataframe\">\n",
       "  <thead>\n",
       "    <tr style=\"text-align: right;\">\n",
       "      <th></th>\n",
       "      <th>RMSE</th>\n",
       "      <th>R2</th>\n",
       "    </tr>\n",
       "  </thead>\n",
       "  <tbody>\n",
       "    <tr>\n",
       "      <th>LM</th>\n",
       "      <td>0.185760</td>\n",
       "      <td>0.073288</td>\n",
       "    </tr>\n",
       "    <tr>\n",
       "      <th>TREE</th>\n",
       "      <td>0.186737</td>\n",
       "      <td>0.064091</td>\n",
       "    </tr>\n",
       "    <tr>\n",
       "      <th>KNN</th>\n",
       "      <td>0.187330</td>\n",
       "      <td>0.058142</td>\n",
       "    </tr>\n",
       "  </tbody>\n",
       "</table>\n",
       "</div>"
      ],
      "text/plain": [
       "          RMSE        R2\n",
       "LM    0.185760  0.073288\n",
       "TREE  0.186737  0.064091\n",
       "KNN   0.187330  0.058142"
      ]
     },
     "execution_count": 63,
     "metadata": {},
     "output_type": "execute_result"
    }
   ],
   "source": [
    "## Comparison Table:\n",
    "gdf = pd.DataFrame({'RMSE':[RMSE_lm,RMSE_cart,RMSE_knn_num],\n",
    "                    'R2':[R2_lm,R2_cart,R2_knn_num]})\n",
    "gdf.index = ['LM','TREE','KNN']\n",
    "gdf.head()"
   ]
  },
  {
   "cell_type": "markdown",
   "metadata": {},
   "source": [
    "# BELOW THIS IS WHAT WAS ORIGINALLY IN THE FILE"
   ]
  },
  {
   "cell_type": "code",
   "execution_count": 3,
   "metadata": {},
   "outputs": [],
   "source": [
    "y_train = df_train['stroke']\n",
    "X_train = df_train.drop('stroke',axis=1)\n",
    "y_test = df_test['stroke']\n",
    "X_test = df_test.drop('stroke',axis=1)\n",
    "\n",
    "X_train['bmi'] = X_train['bmi'].fillna(X_train['bmi'].mean())\n",
    "X_test['bmi'] = X_test['bmi'].fillna(X_test['bmi'].mean())"
   ]
  },
  {
   "cell_type": "code",
   "execution_count": 4,
   "metadata": {},
   "outputs": [
    {
     "name": "stdout",
     "output_type": "stream",
     "text": [
      "R2:  0.0871796434385026\n",
      "RMSE:  0.2059958384961304\n"
     ]
    }
   ],
   "source": [
    "## Linear Model\n",
    "from sklearn.linear_model import LinearRegression # Import linear regression model\n",
    "from sklearn.preprocessing import PolynomialFeatures\n",
    "\n",
    "X_train_numeric = X_train.loc[:,['age','hypertension','heart_disease','bmi','avg_glucose_level'] ]\n",
    "#\n",
    "expander = PolynomialFeatures(degree=2,include_bias=False) # Create the expander\n",
    "Z = expander.fit_transform(X_train_numeric) # Pass the df into the expander to get powers/interactions of x and y\n",
    "names = expander.get_feature_names_out() # Get the names of these variables\n",
    "continuous = pd.DataFrame(data=Z, columns = names) # Create a new, expanded dataframe\n",
    "#\n",
    "dummies = pd.concat([ pd.get_dummies(X_train['work_type'],dtype='int',drop_first=True),\n",
    "                      pd.get_dummies(X_train['Residence_type'],dtype='int',drop_first=True),\n",
    "                      pd.get_dummies(X_train['smoking_status'],dtype='int',drop_first=True)],axis=1)\n",
    "#\n",
    "Z_train = pd.concat([continuous,dummies],axis=1)\n",
    "\n",
    "X_test_numeric = X_test.loc[:,['age','hypertension','heart_disease','bmi','avg_glucose_level'] ]\n",
    "#\n",
    "expander = PolynomialFeatures(degree=2,include_bias=False) # Create the expander\n",
    "Z = expander.fit_transform(X_test_numeric) # Pass the df into the expander to get powers/interactions of x and y\n",
    "names = expander.get_feature_names_out() # Get the names of these variables\n",
    "continuous = pd.DataFrame(data=Z, columns = names) # Create a new, expanded dataframe\n",
    "\n",
    "dummies = pd.concat([ pd.get_dummies(X_test['work_type'],dtype='int',drop_first=True),\n",
    "                      pd.get_dummies(X_test['Residence_type'],dtype='int',drop_first=True),\n",
    "                      pd.get_dummies(X_test['smoking_status'],dtype='int',drop_first=True)],axis=1)\n",
    "#\n",
    "Z_test = pd.concat([continuous,dummies],axis=1)\n",
    "\n",
    "# Fit the model and get the R2 measure:\n",
    "reg = LinearRegression().fit(Z_train, y_train) # Fit the linear model\n",
    "print('R2: ', reg.score(Z_test, y_test)) # R squared measure\n",
    "y_hat = reg.predict(Z_test)\n",
    "N = len(y_test)\n",
    "print('RMSE: ', (np.sum( (y_test - y_hat)**2)/N )**.5 )   # R squared measure\n"
   ]
  },
  {
   "cell_type": "markdown",
   "metadata": {},
   "source": [
    "This is supposed to be fairly \"fun,\" so please do not turn it into a combinatorial nightmare of comparing thousands of model specifications. Settle on a strategy you think is promising, crank it out, and write up the results. Your time and energy are valuable, so learn to recognize when the marginal cost of another twenty minutes on a project exceeds the benefit in terms of improving the results and your grade.\n",
    "  \n",
    "## Paper format\n",
    "\n",
    "The format of the paper should be:\n",
    "\n",
    "  - Summary: A one paragraph description of the question, methods, and results (about 350 words).\n",
    "  - Data: One to two pages discussing the data and key variables, and any challenges in reading, cleaning, and preparing them for analysis.\n",
    "  - Results: Two to five pages providing visualizations, statistics, a discussion of your methodology, and a presentation of your main findings. \n",
    "  - Conclusion: One to two pages summarizing the project, defending it from criticism, and suggesting additional work that was outside the scope of the project.\n",
    "  - Appendix: If you have a significant number of additional plots or table that you feel are essential to the project, you can put any amount of extra content at the end and reference it from the body of the paper. \n",
    "\n",
    "## Submission\n",
    "\r\n",
    "Half of each student's grade is based on their commits to the repo. Each student is expected to do something specific that contributes to the overall project outcome. Since commits are recorded explicitly by Git/GitHub, this is observable. A student can contribute by cleaning data, creating visualizations,performing analytic analyses,  or writing about results, but everyone has to do something substantial. A student's work doesn't need to make it into the final report to be valuable and substantial, and fulfill the requirement to make a contribution to the project. \r\n",
    "\r\n",
    "The other half of each student's grade is based on the written report. Groups will work together on combining results and writing up findings in a Jupyter noteb,ok, using code chunks to execute Python commands and markdown chunks to structure the paper and provide exposition. The notebook should run on Colab or Rivana from beginning to end without any errors.\r\n",
    "\n",
    "mbers submit.\n",
    "\n",
    "## Criteria\n",
    "\n",
    "The project is graded based on four criteria:\n",
    "\n",
    "  - Project Concept: What is the strategy for building and testing the group's models? How did the group decide how to use the tools presented so far in class? How did the group compare the performance of the options considered, and settle on a final choice for submission?\n",
    "  - Wrangling, EDA, and Visualization: How are are missing values handled? For variables with large numbers of missing values, to what extent do the data and documentation provide an explanation for the missing data? If multiple data sources are used, how are the data merged? For the main variables in the analysis, are the relevant data summarized and visualized through a histogram or kernel density plot where appropriate? Are basic quantitative features of the data addressed and explained? How are outliers characterized and addressed? \n",
    "  - Analysis: What are the groups' main findings? Do the tables, plots, and statistics support the conclusions? Is the research strategy carried out correctly? If the research strategy succeeds, are the results interpreted correctly and appropriately? If the research strategy fails, is a useful discussion of the flaws of the data collection process or the research strategy discussed?\n",
    "  - Replication/Documentation: Is the code appropriately commented? Can the main results be replicated from the code and original data files? Are significant choices noted and explained?\n",
    "\n",
    "Each of the four criteria are equally weighted (25 points out of 100)."
   ]
  }
 ],
 "metadata": {
  "kernelspec": {
   "display_name": "Python 3",
   "language": "python",
   "name": "python3"
  },
  "language_info": {
   "codemirror_mode": {
    "name": "ipython",
    "version": 3
   },
   "file_extension": ".py",
   "mimetype": "text/x-python",
   "name": "python",
   "nbconvert_exporter": "python",
   "pygments_lexer": "ipython3",
   "version": "3.8.8"
  }
 },
 "nbformat": 4,
 "nbformat_minor": 5
}
