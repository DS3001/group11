{
 "cells": [
  {
   "cell_type": "markdown",
   "metadata": {},
   "source": [
    "## Programming Lab #2\n",
    "## Foundations of Machine Learning\n",
    "\n",
    "The purpose of this project is to build predictive algorithms that predict the likelihood a person has a stroke. The data include:\n",
    "  \n",
    "  - `age`: Patient age, numeric\n",
    "  - `avg_glucose_level`: Blood sugar levels, numeric\n",
    "  - `bmi`: Body mass index, numeric\n",
    "  - `ever_married`: Ever married, dummy/character (Yes, No)\n",
    "  - `gender`: Male, Female, or Other, character\n",
    "  - `heart_disease`: Has heart disease, dummy\n",
    "  - `hypertension`: Has hypertension, dummy\n",
    "  - `id`: Study identification number\n",
    "  - `Residence_type`: Type of residence, dummy/character (Urban, Rural)\n",
    "  - `smoking_status`: Former, never, or current smoker, categorical\n",
    "  - `work_type`: Employment type (Never worked (Never_worked), homemaker (\"children\"), Public sector employment (Govt_job), Private sector employment (`Private`), Self-employed (`Self-employed`)\n",
    "  - `stroke`: Suffered a stroke in the sample period\n",
    "  \n",
    "The data come in two files: `training_data.csv`, which you should use to build your models, and `testing_data.csv`, which you should use to test your models. The models must be trained on the training data and tested on the testing data, but providing both files allows you to experiment with your choices and iterate on model designs. If performance drops on the testing data, you know there's a problem.\n",
    "  \n",
    "You can use any of the tools presented in class: $k$ nearest neighbor, linear models, or decision trees. In principle, $k$ means clustering might also be helpful for looking for patterns in the data that the other methods might miss. Using canned versions of more advanced tools (boosting, bagging, random forests, neural networks, etc.) is deeply unsporting and thus not allowed. You can be creative about transforming variables, or combining decision trees with linear models or $k$NN. Try something interesting. Fail extravagantly. The goal is to work on an intellectually interesting question that is similar to the tasks that data scientists are called on to do every day.\n",
    "  \n",
    "We will compare the groups' models to see if there are common trends or significant differences, and also to declare **The Winners** on the basis of whichever team achieves the lowest $RMSE$ on the testing data. A simple linear model with some polynomials and dummy variables achieves an $R^2$ of .087 and a $RMSE$ of .206. "
   ]
  },
  {
   "cell_type": "code",
   "execution_count": 15,
   "metadata": {},
   "outputs": [],
   "source": [
    "# Initalizing a print function to limit repetition\n",
    "\n",
    "def pn(x):\n",
    "    print(x, '\\n')"
   ]
  },
  {
   "cell_type": "code",
   "execution_count": 16,
   "metadata": {},
   "outputs": [
    {
     "name": "stdout",
     "output_type": "stream",
     "text": [
      "   Unnamed: 0     id  gender   age  hypertension  heart_disease ever_married  \\\n",
      "0        2465  68685    Male  36.0             0              0          Yes   \n",
      "1        4311  59058  Female  45.0             0              0          Yes   \n",
      "2        2375  46068    Male  58.0             0              0           No   \n",
      "3        5017  36837  Female  61.0             0              0          Yes   \n",
      "4         753  30550  Female  78.0             0              0           No   \n",
      "\n",
      "       work_type Residence_type  avg_glucose_level   bmi   smoking_status  \\\n",
      "0       Govt_job          Urban              65.87  32.2  formerly smoked   \n",
      "1       Govt_job          Rural              68.66  25.3     never smoked   \n",
      "2  Self-employed          Rural             170.93  30.7          Unknown   \n",
      "3  Self-employed          Urban              69.88  27.1     never smoked   \n",
      "4        Private          Urban             103.86  30.6          Unknown   \n",
      "\n",
      "   stroke  \n",
      "0       0  \n",
      "1       0  \n",
      "2       0  \n",
      "3       0  \n",
      "4       0   \n",
      "\n",
      "        Unnamed: 0            id          age  hypertension  heart_disease  \\\n",
      "count  4087.000000   4087.000000  4087.000000   4087.000000    4087.000000   \n",
      "mean   2561.672865  36383.068265    43.324169      0.097871       0.056031   \n",
      "std    1474.961020  21189.857848    22.531019      0.297177       0.230010   \n",
      "min       1.000000     67.000000     0.080000      0.000000       0.000000   \n",
      "25%    1295.500000  17417.500000    26.000000      0.000000       0.000000   \n",
      "50%    2556.000000  36814.000000    45.000000      0.000000       0.000000   \n",
      "75%    3831.500000  54584.500000    61.000000      0.000000       0.000000   \n",
      "max    5110.000000  72940.000000    82.000000      1.000000       1.000000   \n",
      "\n",
      "       avg_glucose_level          bmi       stroke  \n",
      "count        4087.000000  3928.000000  4087.000000  \n",
      "mean          106.010396    28.923371     0.048691  \n",
      "std            45.047912     7.843083     0.215248  \n",
      "min            55.120000    10.300000     0.000000  \n",
      "25%            77.295000    23.600000     0.000000  \n",
      "50%            92.000000    28.100000     0.000000  \n",
      "75%           113.845000    33.100000     0.000000  \n",
      "max           271.740000    97.600000     1.000000   \n",
      "\n",
      "        Unnamed: 0            id          age  hypertension  heart_disease  \\\n",
      "count  1023.000000   1023.000000  1023.000000   1023.000000    1023.000000   \n",
      "mean   2530.838710  37056.215054    42.836872      0.095797       0.045943   \n",
      "std    1476.989308  21050.647292    22.942857      0.294456       0.209465   \n",
      "min       2.000000     77.000000     0.160000      0.000000       0.000000   \n",
      "25%    1180.000000  18993.000000    24.000000      0.000000       0.000000   \n",
      "50%    2548.000000  37395.000000    44.000000      0.000000       0.000000   \n",
      "75%    3835.000000  54840.500000    61.000000      0.000000       0.000000   \n",
      "max    5109.000000  72861.000000    82.000000      1.000000       1.000000   \n",
      "\n",
      "       avg_glucose_level         bmi       stroke  \n",
      "count        1023.000000  981.000000  1023.000000  \n",
      "mean          106.696129   28.772579     0.048876  \n",
      "std            46.231319    7.900756     0.215714  \n",
      "min            55.250000   11.500000     0.000000  \n",
      "25%            76.775000   23.300000     0.000000  \n",
      "50%            90.970000   27.900000     0.000000  \n",
      "75%           114.955000   32.900000     0.000000  \n",
      "max           263.560000   64.800000     1.000000   \n",
      "\n"
     ]
    }
   ],
   "source": [
    "import pandas as pd\n",
    "import numpy as np\n",
    "import matplotlib.pyplot as plt\n",
    "import seaborn as sns\n",
    "\n",
    "df_train = pd.read_csv('./data/training_data.csv')\n",
    "df_test = pd.read_csv('./data/testing_data.csv')\n",
    "pn(df_train.head()) # view the dataframe\n",
    "\n",
    "gdf_train = pd.DataFrame.copy(df_train) # make df that we can edit\n",
    "gdf_test = pd.DataFrame.copy(df_test) # make df that we can edit\n",
    "\n",
    "# Look at some stats\n",
    "pn(gdf_train.describe())  #see that bmi is the one missing values\n",
    "pn(gdf_test.describe()) #see that bmi is the one missing values"
   ]
  },
  {
   "cell_type": "code",
   "execution_count": 17,
   "metadata": {},
   "outputs": [
    {
     "name": "stdout",
     "output_type": "stream",
     "text": [
      "        Unnamed: 0            id          age  hypertension  heart_disease  \\\n",
      "count  4087.000000   4087.000000  4087.000000   4087.000000    4087.000000   \n",
      "mean   2561.672865  36383.068265    43.324169      0.097871       0.056031   \n",
      "std    1474.961020  21189.857848    22.531019      0.297177       0.230010   \n",
      "min       1.000000     67.000000     0.080000      0.000000       0.000000   \n",
      "25%    1295.500000  17417.500000    26.000000      0.000000       0.000000   \n",
      "50%    2556.000000  36814.000000    45.000000      0.000000       0.000000   \n",
      "75%    3831.500000  54584.500000    61.000000      0.000000       0.000000   \n",
      "max    5110.000000  72940.000000    82.000000      1.000000       1.000000   \n",
      "\n",
      "       avg_glucose_level          bmi       stroke  \n",
      "count        4087.000000  3928.000000  4087.000000  \n",
      "mean          106.010396    28.923371     0.048691  \n",
      "std            45.047912     7.843083     0.215248  \n",
      "min            55.120000    10.300000     0.000000  \n",
      "25%            77.295000    23.600000     0.000000  \n",
      "50%            92.000000    28.100000     0.000000  \n",
      "75%           113.845000    33.100000     0.000000  \n",
      "max           271.740000    97.600000     1.000000   \n",
      "\n",
      "        Unnamed: 0            id          age  hypertension  heart_disease  \\\n",
      "count  1023.000000   1023.000000  1023.000000   1023.000000    1023.000000   \n",
      "mean   2530.838710  37056.215054    42.836872      0.095797       0.045943   \n",
      "std    1476.989308  21050.647292    22.942857      0.294456       0.209465   \n",
      "min       2.000000     77.000000     0.160000      0.000000       0.000000   \n",
      "25%    1180.000000  18993.000000    24.000000      0.000000       0.000000   \n",
      "50%    2548.000000  37395.000000    44.000000      0.000000       0.000000   \n",
      "75%    3835.000000  54840.500000    61.000000      0.000000       0.000000   \n",
      "max    5109.000000  72861.000000    82.000000      1.000000       1.000000   \n",
      "\n",
      "       avg_glucose_level         bmi       stroke  \n",
      "count        1023.000000  981.000000  1023.000000  \n",
      "mean          106.696129   28.772579     0.048876  \n",
      "std            46.231319    7.900756     0.215714  \n",
      "min            55.250000   11.500000     0.000000  \n",
      "25%            76.775000   23.300000     0.000000  \n",
      "50%            90.970000   27.900000     0.000000  \n",
      "75%           114.955000   32.900000     0.000000  \n",
      "max           263.560000   64.800000     1.000000   \n",
      "\n"
     ]
    }
   ],
   "source": [
    "# Impute bmi missing values\n",
    "#gdf_train['bmi'] = gdf_train['bmi'].fillna(gdf_train['bmi'].mean())\n",
    "#gdf_test['bmi'] = gdf_test['bmi'].fillna(gdf_test['bmi'].mean())\n",
    "\n",
    "# Look at some stats\n",
    "pn(gdf_train.describe())  # check if bmi was imputed\n",
    "pn(gdf_test.describe()) # check if bmi was imputed"
   ]
  },
  {
   "cell_type": "code",
   "execution_count": 18,
   "metadata": {},
   "outputs": [
    {
     "name": "stdout",
     "output_type": "stream",
     "text": [
      "never smoked       1505\n",
      "Unknown            1241\n",
      "formerly smoked     699\n",
      "smokes              642\n",
      "Name: smoking_status, dtype: int64 \n",
      "\n",
      "never smoked       387\n",
      "Unknown            303\n",
      "formerly smoked    186\n",
      "smokes             147\n",
      "Name: smoking_status, dtype: int64 \n",
      "\n",
      "Total Missings: \n",
      " 1241 \n",
      "\n",
      "Total Missings: \n",
      " 303 \n",
      "\n"
     ]
    }
   ],
   "source": [
    "### Data Cleaning\n",
    "\n",
    "## cleaning smoking_status var:\n",
    "#for smoking status two options: remove nulls or make unkowns as a smoker\n",
    "#removing Unknown values for smoking\n",
    "var = 'smoking_status'\n",
    "pn(gdf_train[var].value_counts()) #1241 unknown values for smoking status of train, which is 30% of data \n",
    "pn(gdf_test[var].value_counts()) #303 unknown values for smoking status of test\n",
    "gdf_train[var] = gdf_train[var].replace('Unknown', np.nan)\n",
    "gdf_test[var] = gdf_test[var].replace('Unknown', np.nan)\n",
    "gdf_train[var+'_NA'] = gdf_train[var].isnull()\n",
    "gdf_test[var+'_NA'] = gdf_test[var].isnull()\n",
    "print('Total Missings: \\n', sum(gdf_train[var].isnull()),'\\n') # confirms checks for NAs\n",
    "print('Total Missings: \\n', sum(gdf_test[var].isnull()),'\\n') # confirms checks for NAs "
   ]
  },
  {
   "cell_type": "code",
   "execution_count": 19,
   "metadata": {},
   "outputs": [
    {
     "name": "stdout",
     "output_type": "stream",
     "text": [
      "never smoked       1505\n",
      "formerly smoked     699\n",
      "smokes              642\n",
      "Name: smoking_status, dtype: int64 \n",
      "\n",
      "never smoked       387\n",
      "formerly smoked    186\n",
      "smokes             147\n",
      "Name: smoking_status, dtype: int64 \n",
      "\n",
      "never smoked       1505\n",
      "formerly smoked     699\n",
      "smokes              642\n",
      "Name: smoking_status, dtype: int64 \n",
      "\n",
      "never smoked       387\n",
      "formerly smoked    186\n",
      "smokes             147\n",
      "Name: smoking_status, dtype: int64 \n",
      "\n"
     ]
    }
   ],
   "source": [
    "#change to smokes\n",
    "var = 'smoking_status'\n",
    "pn(gdf_train[var].value_counts()) #1241 unknown values for smoking status of train, which is 30% of data \n",
    "pn(gdf_test[var].value_counts()) #303 unknown values for smoking status of test\n",
    "gdf_train[var] = gdf_train[var].replace('Unknown', 'smokes')\n",
    "gdf_test[var] = gdf_test[var].replace('Unknown', 'smokes')\n",
    "pn(gdf_train[var].value_counts())\n",
    "pn(gdf_test[var].value_counts())"
   ]
  },
  {
   "cell_type": "code",
   "execution_count": 20,
   "metadata": {},
   "outputs": [
    {
     "name": "stdout",
     "output_type": "stream",
     "text": [
      "stroke              0   1\n",
      "smoking_status           \n",
      "formerly smoked   645  54\n",
      "never smoked     1434  71\n",
      "smokes            605  37 \n",
      "\n",
      "stroke             0   1\n",
      "smoking_status          \n",
      "formerly smoked  170  16\n",
      "never smoked     368  19\n",
      "smokes           142   5 \n",
      "\n"
     ]
    }
   ],
   "source": [
    "print(pd.crosstab(gdf_train[var],gdf_train['stroke']),'\\n') #cant assume anything with the stroke, but appears that former smokers are more likely to have a stroke by a little\n",
    "print(pd.crosstab(gdf_test[var],gdf_test['stroke']),'\\n') #cant assume anything with the stroke \n",
    "\n",
    "#no cross tab helping lead to any answers"
   ]
  },
  {
   "cell_type": "code",
   "execution_count": 21,
   "metadata": {},
   "outputs": [],
   "source": [
    "# Removing missing values for smoking status\n",
    "#gdf_train= gdf_train.dropna(subset=[var])\n",
    "#pn(gdf_train[var].describe()) # looks like the stats did not change\n",
    "#print('Total Missings After Drop: \\n', sum(gdf_train[var].isnull()),'\\n') # checks to see if drop was successful\n",
    "#gdf_test= gdf_test.dropna(subset=[var])\n",
    "#pn(gdf_test[var].describe()) # looks like the stats did not change\n",
    "#print('Total Missings After Drop: \\n', sum(gdf_test[var].isnull()),'\\n') # checks to see if drop was successful"
   ]
  },
  {
   "cell_type": "code",
   "execution_count": 22,
   "metadata": {},
   "outputs": [
    {
     "name": "stdout",
     "output_type": "stream",
     "text": [
      "Number of missing values in training set 'id' column: 0\n",
      "Number of missing values in training set 'id' column: 0\n",
      "\n",
      "duplicated IDs found in training set: 0\n",
      "duplicated IDs found in testing set: 0\n"
     ]
    }
   ],
   "source": [
    "## cleaning id var:\n",
    "\n",
    "missing_values_train = gdf_train['id'].isnull().sum()\n",
    "missing_values_test = gdf_test['id'].isnull().sum()\n",
    "\n",
    "# print the number of missing values\n",
    "print(f\"Number of missing values in training set 'id' column: {missing_values_train}\")\n",
    "print(f\"Number of missing values in training set 'id' column: {missing_values_test}\")\n",
    "\n",
    "# Check for duplicated id values\n",
    "duplicated_ids_train = gdf_train.duplicated('id').sum()\n",
    "duplicated_ids_test = gdf_test.duplicated('id').sum()\n",
    "\n",
    "# If there are any duplicated IDs, 'duplicated_ids' will contain those rows\n",
    "print(f\"\\nduplicated IDs found in training set: {duplicated_ids_train}\" )\n",
    "print(f\"duplicated IDs found in testing set: {duplicated_ids_train}\")\n",
    "\n",
    "# id values seem clean"
   ]
  },
  {
   "cell_type": "code",
   "execution_count": 23,
   "metadata": {},
   "outputs": [
    {
     "name": "stdout",
     "output_type": "stream",
     "text": [
      "Unique Residence_type values in training set: ['Urban' 'Rural']\n",
      "Unique Residence_type values in testing set: ['Urban' 'Rural']\n",
      "Total Missings: \n",
      " 1241 \n",
      "\n",
      "Total Missings: \n",
      " 303 \n",
      "\n"
     ]
    }
   ],
   "source": [
    "## cleaning Residence_type var:\n",
    "\n",
    "# print unique variables\n",
    "print(\"Unique Residence_type values in training set:\", gdf_train[\"Residence_type\"].unique())\n",
    "print(\"Unique Residence_type values in testing set:\", gdf_test[\"Residence_type\"].unique())\n",
    "\n",
    "# Check for nans\n",
    "print('Total Missings: \\n', sum(gdf_train[var].isnull()),'\\n') # confirms checks for NAs\n",
    "print('Total Missings: \\n', sum(gdf_test[var].isnull()),'\\n') # confirms checks for NAs \n",
    "\n",
    "# Residence_type var already seems clean"
   ]
  },
  {
   "cell_type": "code",
   "execution_count": 24,
   "metadata": {},
   "outputs": [
    {
     "name": "stdout",
     "output_type": "stream",
     "text": [
      "stroke             0    1\n",
      "Residence_type           \n",
      "Rural           1941   94\n",
      "Urban           1947  105 \n",
      "\n",
      "stroke            0   1\n",
      "Residence_type         \n",
      "Rural           459  20\n",
      "Urban           514  30 \n",
      "\n"
     ]
    }
   ],
   "source": [
    "print(pd.crosstab(gdf_train[\"Residence_type\"],gdf_train['stroke']),'\\n') # Urban areas may have slightly higher stroke rates\n",
    "print(pd.crosstab(gdf_test[\"Residence_type\"],gdf_test['stroke']),'\\n') "
   ]
  },
  {
   "cell_type": "code",
   "execution_count": 25,
   "metadata": {},
   "outputs": [
    {
     "name": "stdout",
     "output_type": "stream",
     "text": [
      "Private          2329\n",
      "Self-employed     667\n",
      "children          542\n",
      "Govt_job          534\n",
      "Never_worked       15\n",
      "Name: work_type, dtype: int64\n",
      "Private          596\n",
      "Self-employed    152\n",
      "children         145\n",
      "Govt_job         123\n",
      "Never_worked       7\n",
      "Name: work_type, dtype: int64\n",
      "Total Missings: \n",
      " 0 \n",
      "\n",
      "Total Missings: \n",
      " 0 \n",
      "\n"
     ]
    }
   ],
   "source": [
    "## cleaning work_type var:\n",
    "\n",
    "var = 'work_type'\n",
    "print(gdf_train[var].value_counts()) #no unknowns, they add up to 4087\n",
    "print(gdf_test[var].value_counts()) #no unknowns, adds up to 1023\n",
    "print('Total Missings: \\n', sum(gdf_train[var].isnull()),'\\n') # confirms checks for NAs\n",
    "print('Total Missings: \\n', sum(gdf_test[var].isnull()),'\\n') # confirms checks for NAs \n",
    "# no need to clean anything"
   ]
  },
  {
   "cell_type": "code",
   "execution_count": 26,
   "metadata": {},
   "outputs": [
    {
     "name": "stdout",
     "output_type": "stream",
     "text": [
      "stroke            0    1\n",
      "work_type               \n",
      "Govt_job        506   28\n",
      "Never_worked     15    0\n",
      "Private        2210  119\n",
      "Self-employed   617   50\n",
      "children        540    2 \n",
      "\n",
      "stroke           0   1\n",
      "work_type             \n",
      "Govt_job       118   5\n",
      "Never_worked     7   0\n",
      "Private        566  30\n",
      "Self-employed  137  15\n",
      "children       145   0 \n",
      "\n"
     ]
    }
   ],
   "source": [
    "print(pd.crosstab(gdf_train[var],gdf_train['stroke']),'\\n') # Self-employed may have slightly higher stroke rates\n",
    "print(pd.crosstab(gdf_test[var],gdf_test['stroke']),'\\n') "
   ]
  },
  {
   "cell_type": "code",
   "execution_count": 27,
   "metadata": {},
   "outputs": [
    {
     "name": "stdout",
     "output_type": "stream",
     "text": [
      "count    4087.000000\n",
      "mean       43.324169\n",
      "std        22.531019\n",
      "min         0.080000\n",
      "25%        26.000000\n",
      "50%        45.000000\n",
      "75%        61.000000\n",
      "max        82.000000\n",
      "Name: age, dtype: float64 \n",
      "\n",
      "count    1023.000000\n",
      "mean       42.836872\n",
      "std        22.942857\n",
      "min         0.160000\n",
      "25%        24.000000\n",
      "50%        44.000000\n",
      "75%        61.000000\n",
      "max        82.000000\n",
      "Name: age, dtype: float64 \n",
      "\n",
      "Total Missings: \n",
      " 0 \n",
      "\n",
      "Total Missings: \n",
      " 0 \n",
      "\n"
     ]
    },
    {
     "data": {
      "text/plain": [
       "<Axes: >"
      ]
     },
     "execution_count": 27,
     "metadata": {},
     "output_type": "execute_result"
    },
    {
     "data": {
      "image/png": "[encoded data removed]",
      "text/plain": [
       "<Figure size 640x480 with 1 Axes>"
      ]
     },
     "metadata": {},
     "output_type": "display_data"
    }
   ],
   "source": [
    "## cleaning age var:\n",
    "var = 'age'\n",
    "\n",
    "# Exploring missing values\n",
    "pn(gdf_train[var].describe()) # looks good, numeric, ages range from 0 to 82\n",
    "pn(gdf_test[var].describe()) # looks good, numeric, ages range from 0 to 82\n",
    "print('Total Missings: \\n', sum(gdf_train[var].isnull()),'\\n') # confirms checks for NAs\n",
    "print('Total Missings: \\n', sum(gdf_test[var].isnull()),'\\n') # confirms checks for NAs \n",
    "# No nulls need to be removed, this finding is compatible with the value count listed in the describe() output above\n",
    "\n",
    "# Take a look at age distribution in sample\n",
    "gdf_train[var].hist(bins=50)"
   ]
  },
  {
   "cell_type": "code",
   "execution_count": 79,
   "metadata": {},
   "outputs": [
    {
     "data": {
      "image/png": "[encoded data removed]",
      "text/plain": [
       "<Figure size 800x600 with 1 Axes>"
      ]
     },
     "metadata": {},
     "output_type": "display_data"
    },
    {
     "data": {
      "image/png": "[encoded data removed]",
      "text/plain": [
       "<Figure size 800x600 with 1 Axes>"
      ]
     },
     "metadata": {},
     "output_type": "display_data"
    },
    {
     "name": "stdout",
     "output_type": "stream",
     "text": [
      "Total Missings in Training Set:  0\n",
      "Total Missings in Test Set:  0\n"
     ]
    }
   ],
   "source": [
    "# Define the variable\n",
    "var = 'avg_glucose_level'\n",
    "\n",
    "# Take a look at the original distribution\n",
    "plt.figure(figsize=(8, 6))\n",
    "sns.histplot(gdf_train[var], bins=50, kde=True)\n",
    "plt.title('Original Distribution of avg_glucose_level')\n",
    "plt.xlabel('avg_glucose_level')\n",
    "plt.ylabel('Frequency')\n",
    "plt.show()\n",
    "\n",
    "# Apply log transformation to 'avg_glucose_level'\n",
    "gdf_train['log_avg_glucose'] = np.log(gdf_train[var])\n",
    "gdf_test['log_avg_glucose'] = np.log(gdf_test[var])\n",
    "\n",
    "# Check the transformed distribution\n",
    "plt.figure(figsize=(8, 6))\n",
    "sns.histplot(gdf_train['log_avg_glucose'], bins=50, kde=True)\n",
    "plt.title('Transformed Distribution of log_avg_glucose')\n",
    "plt.xlabel('log_avg_glucose')\n",
    "plt.ylabel('Frequency')\n",
    "plt.show()\n",
    "\n",
    "# Exploring missing values (just to confirm)\n",
    "print('Total Missings in Training Set: ', gdf_train['log_avg_glucose'].isnull().sum())\n",
    "print('Total Missings in Test Set: ', gdf_test['log_avg_glucose'].isnull().sum())\n"
   ]
  },
  {
   "cell_type": "code",
   "execution_count": 77,
   "metadata": {},
   "outputs": [
    {
     "name": "stdout",
     "output_type": "stream",
     "text": [
      "stroke            0   1\n",
      "glucose_group          \n",
      "50-75           841  27\n",
      "76-100         1501  49\n",
      "101-125         747  24\n",
      "126-150         201   9\n",
      "151-175          94   5\n",
      "176-200         107  18\n",
      "201-225         163  23\n",
      "226-250          86  13\n",
      "251-275          16   3\n",
      "stroke           0   1\n",
      "glucose_group         \n",
      "50-75          204  11\n",
      "76-100         391   6\n",
      "101-125        169   5\n",
      "126-150         57   1\n",
      "151-175         22   1\n",
      "176-200         23   4\n",
      "201-225         49   5\n",
      "226-250         26   3\n",
      "251-275          2   2\n"
     ]
    }
   ],
   "source": [
    "bins = [50, 75, 100, 125, 150,175,200,225,250,275,300]\n",
    "labels = ['50-75', '76-100', '101-125', '126-150','151-175','176-200','201-225','226-250','251-275','276-300']\n",
    "gdf_train['glucose_group'] = pd.cut(gdf_train[var], bins=bins, labels=labels)\n",
    "cross_tab = pd.crosstab(gdf_train['glucose_group'], gdf_train['stroke'])\n",
    "print(cross_tab)\n",
    "\n",
    "gdf_test['glucose_group'] = pd.cut(gdf_test[var], bins=bins, labels=labels)\n",
    "cross_tab = pd.crosstab(gdf_test['glucose_group'], gdf_test['stroke'])\n",
    "print(cross_tab)"
   ]
  },
  {
   "cell_type": "code",
   "execution_count": 84,
   "metadata": {},
   "outputs": [
    {
     "name": "stdout",
     "output_type": "stream",
     "text": [
      "count    3927.000000\n",
      "mean       28.925032\n",
      "std         7.843391\n",
      "min        10.300000\n",
      "25%        23.600000\n",
      "50%        28.100000\n",
      "75%        33.100000\n",
      "max        97.600000\n",
      "Name: bmi, dtype: float64 \n",
      "\n",
      "Total Missings: \n",
      " 0 \n",
      "\n",
      "count    981.000000\n",
      "mean      28.772579\n",
      "std        7.900756\n",
      "min       11.500000\n",
      "25%       23.300000\n",
      "50%       27.900000\n",
      "75%       32.900000\n",
      "max       64.800000\n",
      "Name: bmi, dtype: float64 \n",
      "\n",
      "Total Missings: \n",
      " 0 \n",
      "\n",
      "Axes(0.125,0.11;0.775x0.77)\n"
     ]
    },
    {
     "data": {
      "image/png": "[encoded data removed]",
      "text/plain": [
       "<Figure size 640x480 with 1 Axes>"
      ]
     },
     "metadata": {},
     "output_type": "display_data"
    },
    {
     "data": {
      "image/png": "[encoded data removed]",
      "text/plain": [
       "<Figure size 800x600 with 1 Axes>"
      ]
     },
     "metadata": {},
     "output_type": "display_data"
    }
   ],
   "source": [
    "## cleaning bmi var:\n",
    "var = 'bmi'\n",
    "\n",
    "# Exploring mising values\n",
    "pn(gdf_train[var].describe()) # some are missing\n",
    "print('Total Missings: \\n', sum(gdf_train[var].isnull()),'\\n') # checks for number of NAs, about 3.9% of sample\n",
    "pn(gdf_test[var].describe()) # some are missing\n",
    "print('Total Missings: \\n', sum(gdf_test[var].isnull()),'\\n') # checks for number of NAs, about 3.8% of sample\n",
    "# Because the missing values make up less than 5% of the samples, the nans will be removed\n",
    "\n",
    "# Take a look at bmi distribution in sample\n",
    "print(gdf_train[var].hist(bins=50))\n",
    "\n",
    "\n",
    "# Apply log transformation to 'avg_glucose_level'\n",
    "gdf_train['log_bmi'] = np.log(gdf_train[var])\n",
    "gdf_test['log_bmi'] = np.log(gdf_test[var])\n",
    "\n",
    "# Check the transformed distribution\n",
    "plt.figure(figsize=(8, 6))\n",
    "sns.histplot(gdf_train['log_bmi'], bins=50, kde=True)\n",
    "plt.title('Transformed Distribution of log_bmi')\n",
    "plt.xlabel('log_bmi')\n",
    "plt.ylabel('Frequency')\n",
    "plt.show()\n"
   ]
  },
  {
   "cell_type": "code",
   "execution_count": 86,
   "metadata": {},
   "outputs": [
    {
     "name": "stdout",
     "output_type": "stream",
     "text": [
      "count    3927.000000\n",
      "mean        3.329808\n",
      "std         0.263947\n",
      "min         2.332144\n",
      "25%         3.161247\n",
      "50%         3.335770\n",
      "75%         3.499533\n",
      "max         4.580877\n",
      "Name: log_bmi, dtype: float64 \n",
      "\n",
      "Total Missings After Drop: \n",
      " 0 \n",
      "\n",
      "count    981.000000\n",
      "mean       3.323101\n",
      "std        0.269601\n",
      "min        2.442347\n",
      "25%        3.148453\n",
      "50%        3.328627\n",
      "75%        3.493473\n",
      "max        4.171306\n",
      "Name: log_bmi, dtype: float64 \n",
      "\n",
      "Total Missings After Drop: \n",
      " 0 \n",
      "\n",
      "Axes(0.125,0.11;0.775x0.77)\n"
     ]
    },
    {
     "data": {
      "image/png": "[encoded data removed]",
      "text/plain": [
       "<Figure size 640x480 with 1 Axes>"
      ]
     },
     "metadata": {},
     "output_type": "display_data"
    }
   ],
   "source": [
    "# Removing missing values\n",
    "var = 'log_bmi'\n",
    "gdf_train= gdf_train.dropna(subset=[var])\n",
    "pn(gdf_train[var].describe()) # looks like the stats did not change\n",
    "print('Total Missings After Drop: \\n', sum(gdf_train[var].isnull()),'\\n') # checks to see if drop was successful\n",
    "gdf_test= gdf_test.dropna(subset=[var])\n",
    "pn(gdf_test[var].describe()) # looks like the stats did not change\n",
    "print('Total Missings After Drop: \\n', sum(gdf_test[var].isnull()),'\\n') # checks to see if drop was successful\n",
    "\n",
    "# Take a look at bmi distribution in sample\n",
    "print(gdf_train[var].hist(bins=50)) # doesn't look like distribution was effected by droped observations"
   ]
  },
  {
   "cell_type": "code",
   "execution_count": 87,
   "metadata": {},
   "outputs": [
    {
     "name": "stdout",
     "output_type": "stream",
     "text": [
      "stroke        0    1\n",
      "bmi_group           \n",
      "0-10       3756  171\n",
      "stroke       0   1\n",
      "bmi_group         \n",
      "0-10       943  38\n"
     ]
    }
   ],
   "source": [
    "bins = [0, 10, 20, 30, 40,50,60,70]\n",
    "labels = ['0-10', '11-20', '21-30', '31-40','41-50','51-60','61-70']\n",
    "gdf_train['bmi_group'] = pd.cut(gdf_train[var], bins=bins, labels=labels)\n",
    "cross_tab = pd.crosstab(gdf_train['bmi_group'], gdf_train['stroke'])\n",
    "print(cross_tab)\n",
    "\n",
    "bins = [0, 10, 20, 30, 40,50,60,70]\n",
    "labels = ['0-10', '11-20', '21-30', '31-40','41-50','51-60','61-70']\n",
    "gdf_test['bmi_group'] = pd.cut(gdf_test[var], bins=bins, labels=labels)\n",
    "cross_tab = pd.crosstab(gdf_test['bmi_group'], gdf_test['stroke'])\n",
    "print(cross_tab)"
   ]
  },
  {
   "cell_type": "code",
   "execution_count": 33,
   "metadata": {},
   "outputs": [
    {
     "name": "stdout",
     "output_type": "stream",
     "text": [
      "Training Set:\n",
      "count    3928.000000\n",
      "mean        0.051171\n",
      "std         0.220375\n",
      "min         0.000000\n",
      "25%         0.000000\n",
      "50%         0.000000\n",
      "75%         0.000000\n",
      "max         1.000000\n",
      "Name: heart_disease, dtype: float64\n",
      "Total Missings: \n",
      " 0 \n",
      "\n",
      "Test Set:\n",
      "count    981.000000\n",
      "mean       0.042813\n",
      "std        0.202540\n",
      "min        0.000000\n",
      "25%        0.000000\n",
      "50%        0.000000\n",
      "75%        0.000000\n",
      "max        1.000000\n",
      "Name: heart_disease, dtype: float64\n",
      "Total Missings: \n",
      " 0 \n",
      "\n"
     ]
    },
    {
     "data": {
      "image/png": "[encoded data removed]",
      "text/plain": [
       "<Figure size 800x600 with 1 Axes>"
      ]
     },
     "metadata": {},
     "output_type": "display_data"
    }
   ],
   "source": [
    "## cleaning heart_disease var:\n",
    "\n",
    "var = 'heart_disease'\n",
    "\n",
    "# Exploring missing values\n",
    "print('Training Set:')\n",
    "print(gdf_train[var].describe())  # count looks right\n",
    "print('Total Missings: \\n', sum(gdf_train[var].isnull()), '\\n')  # confirms checks for NAs\n",
    "\n",
    "print('Test Set:')\n",
    "print(gdf_test[var].describe())  # count looks right\n",
    "print('Total Missings: \\n', sum(gdf_test[var].isnull()), '\\n')  # confirms checks for NAs\n",
    "\n",
    "# No nulls need to be removed, this finding is compatible with the value count listed in the describe() output above\n",
    "\n",
    "# Take a look at the distribution of heart_disease\n",
    "plt.figure(figsize=(8, 6))\n",
    "gdf_train[var].value_counts().plot(kind='bar', color=['skyblue', 'salmon'])\n",
    "plt.title('Distribution of Heart Disease in Training Set')\n",
    "plt.xlabel('Heart Disease (0: No, 1: Yes)')\n",
    "plt.ylabel('Count')\n",
    "plt.show()"
   ]
  },
  {
   "cell_type": "code",
   "execution_count": 34,
   "metadata": {},
   "outputs": [
    {
     "name": "stdout",
     "output_type": "stream",
     "text": [
      "stroke            0    1\n",
      "heart_disease           \n",
      "0              3590  137\n",
      "1               167   34 \n",
      "\n",
      "stroke           0   1\n",
      "heart_disease         \n",
      "0              907  32\n",
      "1               36   6 \n",
      "\n"
     ]
    }
   ],
   "source": [
    "print(pd.crosstab(gdf_train[var],gdf_train['stroke']),'\\n') # Heart disease seems to have a strong correlation with stroke compared to other variables, will be a good indicator\n",
    "print(pd.crosstab(gdf_test[var],gdf_test['stroke']),'\\n') "
   ]
  },
  {
   "cell_type": "code",
   "execution_count": 35,
   "metadata": {},
   "outputs": [],
   "source": [
    "#seems counteractive as popele without heart disease are more likely to have a stroke but people with heartdisease are most likely to not have a stroke then have a stroke. "
   ]
  },
  {
   "cell_type": "code",
   "execution_count": 36,
   "metadata": {},
   "outputs": [
    {
     "name": "stdout",
     "output_type": "stream",
     "text": [
      "Training Set:\n",
      "count    3928.000000\n",
      "mean        0.093432\n",
      "std         0.291074\n",
      "min         0.000000\n",
      "25%         0.000000\n",
      "50%         0.000000\n",
      "75%         0.000000\n",
      "max         1.000000\n",
      "Name: hypertension, dtype: float64\n",
      "Total Missings: \n",
      " 0 \n",
      "\n",
      "Test Set:\n",
      "count    981.000000\n",
      "mean       0.085627\n",
      "std        0.279955\n",
      "min        0.000000\n",
      "25%        0.000000\n",
      "50%        0.000000\n",
      "75%        0.000000\n",
      "max        1.000000\n",
      "Name: hypertension, dtype: float64\n",
      "Total Missings: \n",
      " 0 \n",
      "\n"
     ]
    },
    {
     "data": {
      "image/png": "[encoded data removed]",
      "text/plain": [
       "<Figure size 800x600 with 1 Axes>"
      ]
     },
     "metadata": {},
     "output_type": "display_data"
    }
   ],
   "source": [
    "## cleaning hypertension var:\n",
    "\n",
    "var = 'hypertension'\n",
    "\n",
    "# Exploring missing values\n",
    "print('Training Set:')\n",
    "print(gdf_train[var].describe())  # count looks right\n",
    "print('Total Missings: \\n', sum(gdf_train[var].isnull()), '\\n')  # confirms checks for NAs\n",
    "\n",
    "print('Test Set:')\n",
    "print(gdf_test[var].describe())  # count looks right\n",
    "print('Total Missings: \\n', sum(gdf_test[var].isnull()), '\\n')  # confirms checks for NAs\n",
    "\n",
    "# No nulls need to be removed, this finding is compatible with the value count listed in the describe() output above\n",
    "\n",
    "# Take a look at the distribution of heart_disease\n",
    "plt.figure(figsize=(8, 6))\n",
    "gdf_train[var].value_counts().plot(kind='bar', color=['skyblue', 'salmon'])\n",
    "plt.title('Distribution of Hypertension in Training Set')\n",
    "plt.xlabel('Hypertension (0: No, 1: Yes)')\n",
    "plt.ylabel('Count')\n",
    "plt.show()"
   ]
  },
  {
   "cell_type": "code",
   "execution_count": 37,
   "metadata": {},
   "outputs": [
    {
     "name": "stdout",
     "output_type": "stream",
     "text": [
      "stroke           0    1\n",
      "hypertension           \n",
      "0             3440  121\n",
      "1              317   50 \n",
      "\n",
      "stroke          0   1\n",
      "hypertension         \n",
      "0             869  28\n",
      "1              74  10 \n",
      "\n"
     ]
    }
   ],
   "source": [
    "print(pd.crosstab(gdf_train[var],gdf_train['stroke']),'\\n') # Hypertension seems to have a strong correlation with stroke compared to other variables, will be a good indicator\n",
    "print(pd.crosstab(gdf_test[var],gdf_test['stroke']),'\\n') "
   ]
  },
  {
   "cell_type": "code",
   "execution_count": 38,
   "metadata": {},
   "outputs": [
    {
     "name": "stdout",
     "output_type": "stream",
     "text": [
      "Training Set:\n",
      "count       3928\n",
      "unique         3\n",
      "top       Female\n",
      "freq        2317\n",
      "Name: gender, dtype: object\n",
      "Female    2317\n",
      "Male      1610\n",
      "Other        1\n",
      "Name: gender, dtype: int64\n",
      "Female    2317\n",
      "Male      1610\n",
      "Name: gender, dtype: int64\n",
      "Total Missings: \n",
      " 0 \n",
      "\n",
      "Test Set:\n",
      "count        981\n",
      "unique         2\n",
      "top       Female\n",
      "freq         580\n",
      "Name: gender, dtype: object\n",
      "Female    580\n",
      "Male      401\n",
      "Name: gender, dtype: int64\n",
      "Total Missings: \n",
      " 0 \n",
      "\n"
     ]
    },
    {
     "data": {
      "image/png": "[encoded data removed]",
      "text/plain": [
       "<Figure size 800x600 with 1 Axes>"
      ]
     },
     "metadata": {},
     "output_type": "display_data"
    }
   ],
   "source": [
    "## cleaning gender var:\n",
    "\n",
    "var = 'gender'\n",
    "\n",
    "# Exploring missing values\n",
    "print('Training Set:')\n",
    "print(gdf_train[var].describe())  # count looks right\n",
    "print(gdf_train[var].value_counts()) #need to remove other\n",
    "gdf_train = gdf_train[gdf_train[var] != 'Other']\n",
    "print(gdf_train[var].value_counts())\n",
    "\n",
    "print('Total Missings: \\n', sum(gdf_train[var].isnull()), '\\n')  # confirms checks for NAs\n",
    "\n",
    "print('Test Set:')\n",
    "print(gdf_test[var].describe())  # count looks right, notice, there are onlu two unique values, so will have to manually enter Other in one hot encoding\n",
    "print(gdf_test[var].value_counts())  # count looks right\n",
    "gdf_test = gdf_test[gdf_test[var] != 'Other']\n",
    "\n",
    "print('Total Missings: \\n', sum(gdf_test[var].isnull()), '\\n')  # confirms checks for NAs\n",
    "\n",
    "# No nulls need to be removed, this finding is compatible with the value count listed in the describe() output above\n",
    "\n",
    "# Take a look at the distribution of heart_disease\n",
    "plt.figure(figsize=(8, 6))\n",
    "gdf_train[var].value_counts().plot(kind='bar', color=['skyblue', 'salmon'])\n",
    "plt.title('Distribution of Gender in Training Set')\n",
    "plt.xlabel('Gender')\n",
    "plt.ylabel('Count')\n",
    "plt.show()"
   ]
  },
  {
   "cell_type": "code",
   "execution_count": 39,
   "metadata": {},
   "outputs": [
    {
     "name": "stdout",
     "output_type": "stream",
     "text": [
      "stroke     0   1\n",
      "gender          \n",
      "Female  2220  97\n",
      "Male    1536  74 \n",
      "\n",
      "stroke    0   1\n",
      "gender         \n",
      "Female  557  23\n",
      "Male    386  15 \n",
      "\n"
     ]
    }
   ],
   "source": [
    "print(pd.crosstab(gdf_train[var],gdf_train['stroke']),'\\n') # Can't conclude anything\n",
    "print(pd.crosstab(gdf_test[var],gdf_test['stroke']),'\\n') "
   ]
  },
  {
   "cell_type": "code",
   "execution_count": 40,
   "metadata": {},
   "outputs": [
    {
     "name": "stdout",
     "output_type": "stream",
     "text": [
      "Training Set:\n",
      "count     3927\n",
      "unique       2\n",
      "top        Yes\n",
      "freq      2568\n",
      "Name: ever_married, dtype: object\n",
      "Total Missings: \n",
      " 0 \n",
      "\n",
      "Test Set:\n",
      "count     981\n",
      "unique      2\n",
      "top       Yes\n",
      "freq      636\n",
      "Name: ever_married, dtype: object\n",
      "Total Missings: \n",
      " 0 \n",
      "\n"
     ]
    },
    {
     "data": {
      "image/png": "[encoded data removed]",
      "text/plain": [
       "<Figure size 800x600 with 1 Axes>"
      ]
     },
     "metadata": {},
     "output_type": "display_data"
    }
   ],
   "source": [
    "## cleaning ever_married var:\n",
    "\n",
    "var = 'ever_married'\n",
    "\n",
    "# Exploring missing values\n",
    "print('Training Set:')\n",
    "print(gdf_train[var].describe())  # count looks right\n",
    "print('Total Missings: \\n', sum(gdf_train[var].isnull()), '\\n')  # confirms checks for NAs\n",
    "\n",
    "print('Test Set:')\n",
    "print(gdf_test[var].describe())  # count looks right\n",
    "print('Total Missings: \\n', sum(gdf_test[var].isnull()), '\\n')  # confirms checks for NAs\n",
    "\n",
    "# No nulls need to be removed, this finding is compatible with the value count listed in the describe() output above\n",
    "\n",
    "# Take a look at the distribution of heart_disease\n",
    "plt.figure(figsize=(8, 6))\n",
    "gdf_train[var].value_counts().plot(kind='bar', color=['skyblue', 'salmon'])\n",
    "plt.title('Distribution of Marriage in Training Set')\n",
    "plt.xlabel('Marriage')\n",
    "plt.ylabel('Count')\n",
    "plt.show()"
   ]
  },
  {
   "cell_type": "code",
   "execution_count": 41,
   "metadata": {},
   "outputs": [
    {
     "name": "stdout",
     "output_type": "stream",
     "text": [
      "stroke           0    1\n",
      "ever_married           \n",
      "No            1337   22\n",
      "Yes           2419  149 \n",
      "\n",
      "stroke          0   1\n",
      "ever_married         \n",
      "No            344   1\n",
      "Yes           599  37 \n",
      "\n"
     ]
    }
   ],
   "source": [
    "print(pd.crosstab(gdf_train[var],gdf_train['stroke']),'\\n') # Marriage does seem to affect stroke rates\n",
    "print(pd.crosstab(gdf_test[var],gdf_test['stroke']),'\\n') "
   ]
  },
  {
   "cell_type": "code",
   "execution_count": 42,
   "metadata": {},
   "outputs": [
    {
     "name": "stdout",
     "output_type": "stream",
     "text": [
      "Training Set:\n",
      "count    3927.000000\n",
      "mean        0.043545\n",
      "std         0.204106\n",
      "min         0.000000\n",
      "25%         0.000000\n",
      "50%         0.000000\n",
      "75%         0.000000\n",
      "max         1.000000\n",
      "Name: stroke, dtype: float64\n",
      "Total Missings: \n",
      " 0 \n",
      "\n",
      "Test Set:\n",
      "count    981.000000\n",
      "mean       0.038736\n",
      "std        0.193063\n",
      "min        0.000000\n",
      "25%        0.000000\n",
      "50%        0.000000\n",
      "75%        0.000000\n",
      "max        1.000000\n",
      "Name: stroke, dtype: float64\n",
      "Total Missings: \n",
      " 0 \n",
      "\n"
     ]
    }
   ],
   "source": [
    "## cleaning stroke var:\n",
    "\n",
    "var = 'stroke'\n",
    "\n",
    "# Exploring missing values\n",
    "print('Training Set:')\n",
    "print(gdf_train[var].describe())  # count looks right\n",
    "print('Total Missings: \\n', sum(gdf_train[var].isnull()), '\\n')  # confirms checks for NAs\n",
    "\n",
    "print('Test Set:')\n",
    "print(gdf_test[var].describe())  # count looks right, notice\n",
    "print('Total Missings: \\n', sum(gdf_test[var].isnull()), '\\n')  # confirms checks for NAs\n",
    "\n",
    "# No nulls need to be removed, this finding is compatible with the value count listed in the describe() output above"
   ]
  },
  {
   "cell_type": "markdown",
   "metadata": {},
   "source": [
    "**Cleaned dataframes**"
   ]
  },
  {
   "cell_type": "code",
   "execution_count": 43,
   "metadata": {},
   "outputs": [
    {
     "data": {
      "text/html": [
       "<div>\n",
       "<style scoped>\n",
       "    .dataframe tbody tr th:only-of-type {\n",
       "        vertical-align: middle;\n",
       "    }\n",
       "\n",
       "    .dataframe tbody tr th {\n",
       "        vertical-align: top;\n",
       "    }\n",
       "\n",
       "    .dataframe thead th {\n",
       "        text-align: right;\n",
       "    }\n",
       "</style>\n",
       "<table border=\"1\" class=\"dataframe\">\n",
       "  <thead>\n",
       "    <tr style=\"text-align: right;\">\n",
       "      <th></th>\n",
       "      <th>Unnamed: 0</th>\n",
       "      <th>id</th>\n",
       "      <th>age</th>\n",
       "      <th>hypertension</th>\n",
       "      <th>heart_disease</th>\n",
       "      <th>avg_glucose_level</th>\n",
       "      <th>bmi</th>\n",
       "      <th>stroke</th>\n",
       "    </tr>\n",
       "  </thead>\n",
       "  <tbody>\n",
       "    <tr>\n",
       "      <th>count</th>\n",
       "      <td>3927.000000</td>\n",
       "      <td>3927.000000</td>\n",
       "      <td>3927.000000</td>\n",
       "      <td>3927.000000</td>\n",
       "      <td>3927.000000</td>\n",
       "      <td>3927.000000</td>\n",
       "      <td>3927.000000</td>\n",
       "      <td>3927.000000</td>\n",
       "    </tr>\n",
       "    <tr>\n",
       "      <th>mean</th>\n",
       "      <td>2578.873186</td>\n",
       "      <td>36900.512605</td>\n",
       "      <td>42.997576</td>\n",
       "      <td>0.093456</td>\n",
       "      <td>0.051184</td>\n",
       "      <td>105.134069</td>\n",
       "      <td>28.925032</td>\n",
       "      <td>0.043545</td>\n",
       "    </tr>\n",
       "    <tr>\n",
       "      <th>std</th>\n",
       "      <td>1471.705431</td>\n",
       "      <td>21002.680798</td>\n",
       "      <td>22.475913</td>\n",
       "      <td>0.291107</td>\n",
       "      <td>0.220401</td>\n",
       "      <td>44.162948</td>\n",
       "      <td>7.843391</td>\n",
       "      <td>0.204106</td>\n",
       "    </tr>\n",
       "    <tr>\n",
       "      <th>min</th>\n",
       "      <td>1.000000</td>\n",
       "      <td>84.000000</td>\n",
       "      <td>0.080000</td>\n",
       "      <td>0.000000</td>\n",
       "      <td>0.000000</td>\n",
       "      <td>55.120000</td>\n",
       "      <td>10.300000</td>\n",
       "      <td>0.000000</td>\n",
       "    </tr>\n",
       "    <tr>\n",
       "      <th>25%</th>\n",
       "      <td>1314.000000</td>\n",
       "      <td>18234.000000</td>\n",
       "      <td>25.000000</td>\n",
       "      <td>0.000000</td>\n",
       "      <td>0.000000</td>\n",
       "      <td>77.140000</td>\n",
       "      <td>23.600000</td>\n",
       "      <td>0.000000</td>\n",
       "    </tr>\n",
       "    <tr>\n",
       "      <th>50%</th>\n",
       "      <td>2575.000000</td>\n",
       "      <td>37446.000000</td>\n",
       "      <td>44.000000</td>\n",
       "      <td>0.000000</td>\n",
       "      <td>0.000000</td>\n",
       "      <td>91.850000</td>\n",
       "      <td>28.100000</td>\n",
       "      <td>0.000000</td>\n",
       "    </tr>\n",
       "    <tr>\n",
       "      <th>75%</th>\n",
       "      <td>3854.500000</td>\n",
       "      <td>54983.500000</td>\n",
       "      <td>60.000000</td>\n",
       "      <td>0.000000</td>\n",
       "      <td>0.000000</td>\n",
       "      <td>113.245000</td>\n",
       "      <td>33.100000</td>\n",
       "      <td>0.000000</td>\n",
       "    </tr>\n",
       "    <tr>\n",
       "      <th>max</th>\n",
       "      <td>5110.000000</td>\n",
       "      <td>72940.000000</td>\n",
       "      <td>82.000000</td>\n",
       "      <td>1.000000</td>\n",
       "      <td>1.000000</td>\n",
       "      <td>271.740000</td>\n",
       "      <td>97.600000</td>\n",
       "      <td>1.000000</td>\n",
       "    </tr>\n",
       "  </tbody>\n",
       "</table>\n",
       "</div>"
      ],
      "text/plain": [
       "        Unnamed: 0            id          age  hypertension  heart_disease  \\\n",
       "count  3927.000000   3927.000000  3927.000000   3927.000000    3927.000000   \n",
       "mean   2578.873186  36900.512605    42.997576      0.093456       0.051184   \n",
       "std    1471.705431  21002.680798    22.475913      0.291107       0.220401   \n",
       "min       1.000000     84.000000     0.080000      0.000000       0.000000   \n",
       "25%    1314.000000  18234.000000    25.000000      0.000000       0.000000   \n",
       "50%    2575.000000  37446.000000    44.000000      0.000000       0.000000   \n",
       "75%    3854.500000  54983.500000    60.000000      0.000000       0.000000   \n",
       "max    5110.000000  72940.000000    82.000000      1.000000       1.000000   \n",
       "\n",
       "       avg_glucose_level          bmi       stroke  \n",
       "count        3927.000000  3927.000000  3927.000000  \n",
       "mean          105.134069    28.925032     0.043545  \n",
       "std            44.162948     7.843391     0.204106  \n",
       "min            55.120000    10.300000     0.000000  \n",
       "25%            77.140000    23.600000     0.000000  \n",
       "50%            91.850000    28.100000     0.000000  \n",
       "75%           113.245000    33.100000     0.000000  \n",
       "max           271.740000    97.600000     1.000000  "
      ]
     },
     "execution_count": 43,
     "metadata": {},
     "output_type": "execute_result"
    }
   ],
   "source": [
    "gdf_train.head()\n",
    "gdf_train.describe()"
   ]
  },
  {
   "cell_type": "code",
   "execution_count": 44,
   "metadata": {},
   "outputs": [
    {
     "data": {
      "text/html": [
       "<div>\n",
       "<style scoped>\n",
       "    .dataframe tbody tr th:only-of-type {\n",
       "        vertical-align: middle;\n",
       "    }\n",
       "\n",
       "    .dataframe tbody tr th {\n",
       "        vertical-align: top;\n",
       "    }\n",
       "\n",
       "    .dataframe thead th {\n",
       "        text-align: right;\n",
       "    }\n",
       "</style>\n",
       "<table border=\"1\" class=\"dataframe\">\n",
       "  <thead>\n",
       "    <tr style=\"text-align: right;\">\n",
       "      <th></th>\n",
       "      <th>Unnamed: 0</th>\n",
       "      <th>id</th>\n",
       "      <th>age</th>\n",
       "      <th>hypertension</th>\n",
       "      <th>heart_disease</th>\n",
       "      <th>avg_glucose_level</th>\n",
       "      <th>bmi</th>\n",
       "      <th>stroke</th>\n",
       "    </tr>\n",
       "  </thead>\n",
       "  <tbody>\n",
       "    <tr>\n",
       "      <th>count</th>\n",
       "      <td>981.000000</td>\n",
       "      <td>981.000000</td>\n",
       "      <td>981.000000</td>\n",
       "      <td>981.000000</td>\n",
       "      <td>981.000000</td>\n",
       "      <td>981.000000</td>\n",
       "      <td>981.000000</td>\n",
       "      <td>981.000000</td>\n",
       "    </tr>\n",
       "    <tr>\n",
       "      <th>mean</th>\n",
       "      <td>2556.417941</td>\n",
       "      <td>37700.556575</td>\n",
       "      <td>42.353354</td>\n",
       "      <td>0.085627</td>\n",
       "      <td>0.042813</td>\n",
       "      <td>105.951233</td>\n",
       "      <td>28.772579</td>\n",
       "      <td>0.038736</td>\n",
       "    </tr>\n",
       "    <tr>\n",
       "      <th>std</th>\n",
       "      <td>1468.152800</td>\n",
       "      <td>20965.050908</td>\n",
       "      <td>22.878740</td>\n",
       "      <td>0.279955</td>\n",
       "      <td>0.202540</td>\n",
       "      <td>45.478624</td>\n",
       "      <td>7.900756</td>\n",
       "      <td>0.193063</td>\n",
       "    </tr>\n",
       "    <tr>\n",
       "      <th>min</th>\n",
       "      <td>23.000000</td>\n",
       "      <td>77.000000</td>\n",
       "      <td>0.160000</td>\n",
       "      <td>0.000000</td>\n",
       "      <td>0.000000</td>\n",
       "      <td>55.250000</td>\n",
       "      <td>11.500000</td>\n",
       "      <td>0.000000</td>\n",
       "    </tr>\n",
       "    <tr>\n",
       "      <th>25%</th>\n",
       "      <td>1201.000000</td>\n",
       "      <td>20162.000000</td>\n",
       "      <td>23.000000</td>\n",
       "      <td>0.000000</td>\n",
       "      <td>0.000000</td>\n",
       "      <td>76.630000</td>\n",
       "      <td>23.300000</td>\n",
       "      <td>0.000000</td>\n",
       "    </tr>\n",
       "    <tr>\n",
       "      <th>50%</th>\n",
       "      <td>2596.000000</td>\n",
       "      <td>38069.000000</td>\n",
       "      <td>44.000000</td>\n",
       "      <td>0.000000</td>\n",
       "      <td>0.000000</td>\n",
       "      <td>90.650000</td>\n",
       "      <td>27.900000</td>\n",
       "      <td>0.000000</td>\n",
       "    </tr>\n",
       "    <tr>\n",
       "      <th>75%</th>\n",
       "      <td>3837.000000</td>\n",
       "      <td>55744.000000</td>\n",
       "      <td>60.000000</td>\n",
       "      <td>0.000000</td>\n",
       "      <td>0.000000</td>\n",
       "      <td>114.610000</td>\n",
       "      <td>32.900000</td>\n",
       "      <td>0.000000</td>\n",
       "    </tr>\n",
       "    <tr>\n",
       "      <th>max</th>\n",
       "      <td>5109.000000</td>\n",
       "      <td>72861.000000</td>\n",
       "      <td>82.000000</td>\n",
       "      <td>1.000000</td>\n",
       "      <td>1.000000</td>\n",
       "      <td>263.560000</td>\n",
       "      <td>64.800000</td>\n",
       "      <td>1.000000</td>\n",
       "    </tr>\n",
       "  </tbody>\n",
       "</table>\n",
       "</div>"
      ],
      "text/plain": [
       "        Unnamed: 0            id         age  hypertension  heart_disease  \\\n",
       "count   981.000000    981.000000  981.000000    981.000000     981.000000   \n",
       "mean   2556.417941  37700.556575   42.353354      0.085627       0.042813   \n",
       "std    1468.152800  20965.050908   22.878740      0.279955       0.202540   \n",
       "min      23.000000     77.000000    0.160000      0.000000       0.000000   \n",
       "25%    1201.000000  20162.000000   23.000000      0.000000       0.000000   \n",
       "50%    2596.000000  38069.000000   44.000000      0.000000       0.000000   \n",
       "75%    3837.000000  55744.000000   60.000000      0.000000       0.000000   \n",
       "max    5109.000000  72861.000000   82.000000      1.000000       1.000000   \n",
       "\n",
       "       avg_glucose_level         bmi      stroke  \n",
       "count         981.000000  981.000000  981.000000  \n",
       "mean          105.951233   28.772579    0.038736  \n",
       "std            45.478624    7.900756    0.193063  \n",
       "min            55.250000   11.500000    0.000000  \n",
       "25%            76.630000   23.300000    0.000000  \n",
       "50%            90.650000   27.900000    0.000000  \n",
       "75%           114.610000   32.900000    0.000000  \n",
       "max           263.560000   64.800000    1.000000  "
      ]
     },
     "execution_count": 44,
     "metadata": {},
     "output_type": "execute_result"
    }
   ],
   "source": [
    "gdf_test.head()\n",
    "gdf_test.describe()"
   ]
  },
  {
   "cell_type": "markdown",
   "metadata": {},
   "source": [
    "Creating numerical dataframes using one hot encoding so a decision tree can be used"
   ]
  },
  {
   "cell_type": "code",
   "execution_count": 45,
   "metadata": {},
   "outputs": [],
   "source": [
    "#linear model"
   ]
  },
  {
   "cell_type": "code",
   "execution_count": 46,
   "metadata": {},
   "outputs": [],
   "source": [
    "from sklearn.model_selection import train_test_split\n",
    "from sklearn.linear_model import LinearRegression\n",
    "from sklearn.metrics import mean_squared_error "
   ]
  },
  {
   "cell_type": "code",
   "execution_count": 88,
   "metadata": {},
   "outputs": [
    {
     "name": "stdout",
     "output_type": "stream",
     "text": [
      "0.028238261433492617 is the R^2 value\n",
      "0.1902210326675803 is the RMSE value\n"
     ]
    }
   ],
   "source": [
    "\n",
    "#trying just with numeric values\n",
    "\n",
    "y_test = gdf_test['stroke']\n",
    "y_train = gdf_train['stroke']\n",
    "X_trainV = gdf_train.loc[:,['hypertension','log_bmi','heart_disease','log_avg_glucose'] ]\n",
    "X_testV = gdf_test.loc[:,['hypertension','log_bmi','heart_disease','log_avg_glucose'] ]\n",
    "\n",
    "\n",
    "reg = LinearRegression().fit(X_trainV, y_train) # Fit the linear model\n",
    "y_pred = reg.predict(X_testV)\n",
    "\n",
    "rmse = np.sqrt(mean_squared_error(y_test, y_pred))\n",
    "\n",
    "(reg.intercept_) # Intercept value\n",
    "(reg.coef_) # Regression coefficients\n",
    "print(reg.score(X_testV, y_test),\"is the R^2 value\") # R squared measure \n",
    "print(rmse, \"is the RMSE value\")\n"
   ]
  },
  {
   "cell_type": "code",
   "execution_count": 89,
   "metadata": {},
   "outputs": [
    {
     "name": "stdout",
     "output_type": "stream",
     "text": [
      "0.015803836185019127 is the R^2 value\n",
      "0.19143417511172128 is the RMSE value\n"
     ]
    }
   ],
   "source": [
    "#trying with cat vars\n",
    "catDF_test = gdf_test[[\"work_type\", \"Residence_type\", \"smoking_status\", \"ever_married\"]]\n",
    "X_testC = pd.get_dummies(catDF_test, dtype='int')\n",
    "catDF_train = gdf_train[[\"work_type\", \"Residence_type\", \"smoking_status\", \"ever_married\"]]\n",
    "X_trainC = pd.get_dummies(catDF_train, dtype='int')\n",
    "\n",
    "reg = LinearRegression().fit(X_trainC, y_train) # Fit the linear model\n",
    "y_pred = reg.predict(X_testC)\n",
    "\n",
    "rmse = np.sqrt(mean_squared_error(y_test, y_pred))\n",
    "\n",
    "(reg.intercept_) # Intercept value\n",
    "(reg.coef_) # Regression coefficients\n",
    "print(reg.score(X_testC, y_test),\"is the R^2 value\") # R squared measure \n",
    "print(rmse, \"is the RMSE value\")\n"
   ]
  },
  {
   "cell_type": "code",
   "execution_count": 90,
   "metadata": {},
   "outputs": [
    {
     "name": "stdout",
     "output_type": "stream",
     "text": [
      "0.03497777400607871 is the R^2 value\n",
      "0.18956025981151997 is the RMSE value\n"
     ]
    }
   ],
   "source": [
    "#joined cat and var\n",
    "X_test = pd.concat([X_testC,X_testV],axis=1)\n",
    "X_train= pd.concat([X_trainC,X_trainV],axis=1)\n",
    "\n",
    "reg = LinearRegression().fit(X_train, y_train) # Fit the linear model\n",
    "y_pred = reg.predict(X_test)\n",
    "\n",
    "rmse = np.sqrt(mean_squared_error(y_test, y_pred))\n",
    "\n",
    "(reg.intercept_) # Intercept value\n",
    "(reg.coef_) # Regression coefficients\n",
    "print(reg.score(X_test, y_test),\"is the R^2 value\") # R squared measure \n",
    "print(rmse, \"is the RMSE value\")\n"
   ]
  },
  {
   "cell_type": "code",
   "execution_count": 91,
   "metadata": {},
   "outputs": [
    {
     "data": {
      "image/png": "[encoded data removed]",
      "text/plain": [
       "<Figure size 640x480 with 1 Axes>"
      ]
     },
     "metadata": {},
     "output_type": "display_data"
    },
    {
     "name": "stdout",
     "output_type": "stream",
     "text": [
      "R^2 value  0.03401009070436323\n",
      "RMSE:  0.18971415735981856\n"
     ]
    }
   ],
   "source": [
    "## Decision Tree Model\n",
    "from sklearn import tree\n",
    "from sklearn.tree import DecisionTreeRegressor\n",
    "\n",
    "tree_model = tree.DecisionTreeRegressor(max_depth=2) # Set up the tree\n",
    "cart = tree_model.fit(X_train, y_train) # Fit the tree\n",
    "tree.plot_tree(cart,filled=True) # Visualize the tree\n",
    "plt.show()\n",
    "\n",
    "\n",
    "# Make Predictions on the Test Set\n",
    "y_hat_cart = cart.predict(X_test) # Run test data through model to get y predictions\n",
    "N_test = len(y_test) # number of outputs\n",
    "residuals_cart = y_test - y_hat_cart # difference between predicted and real values\n",
    "\n",
    "# Metrics:\n",
    "SSE_cart = np.sum( (y_test-y_hat_cart)**2 ) # Sum of squared errors\n",
    "MSE_cart = SSE_cart/N_test # Mean of sum of squarerd errors\n",
    "RMSE_cart = (MSE_cart)**(1/2) # Root of mean of sum of squared errors\n",
    "TSS = np.sum( (y_test - y_train.mean())**2 )\n",
    "R2_cart = 1 - SSE_cart/TSS # Coefficient of determination\n",
    "print('R^2 value ', R2_cart) # R squared measure\n",
    "print('RMSE: ', RMSE_cart)"
   ]
  },
  {
   "cell_type": "code",
   "execution_count": 96,
   "metadata": {},
   "outputs": [
    {
     "name": "stdout",
     "output_type": "stream",
     "text": [
      "0.07238771748835782 this is the R^2 value for degree of 1\n",
      "0.18584970776885143 this is the RMSE value for degree of 1\n"
     ]
    }
   ],
   "source": [
    "#with expander get the same thing\n",
    "X_test = pd.concat([X_testC,X_testV],axis=1)\n",
    "X_train= pd.concat([X_trainC,X_trainV],axis=1)\n",
    "\n",
    "from sklearn.metrics import r2_score\n",
    "expander = PolynomialFeatures(degree=1,include_bias=False) # Create the expander\n",
    "#\n",
    "Z_train = expander.fit_transform(X_train) # Pass the df into the expander to get powers/interactions of x and y\n",
    "names = expander.get_feature_names_out() # Get the names of these variables\n",
    "X_train_lm = pd.DataFrame(data=Z_train, columns = names) # Create a new, expanded dataframe\n",
    "#\n",
    "Z_test = expander.fit_transform(X_test) # Pass the df into the expander to get powers/interactions of x and y\n",
    "names = expander.get_feature_names_out() # Get the names of these variables\n",
    "X_test_lm = pd.DataFrame(data=Z_test, columns = names) # Create a new, expanded dataframe\n",
    "\n",
    "# Fit the model and get the R2 measure:\n",
    "reg = LinearRegression().fit(X_train_lm, y_train) # Fit the linear model\n",
    "# Predicted values:\n",
    "y_hat_lm = reg.predict(X_test_lm)\n",
    "\n",
    "## Metrics:\n",
    "rmse = np.sqrt(mean_squared_error(y_test, y_hat_lm))\n",
    "r_squared = r2_score(y_test, y_hat_lm)\n",
    "\n",
    "print(r_squared, \"this is the R^2 value for degree of 1\")\n",
    "print(rmse, \"this is the RMSE value for degree of 1\")"
   ]
  },
  {
   "cell_type": "code",
   "execution_count": 116,
   "metadata": {},
   "outputs": [],
   "source": [
    "## KNeighborsRegressor Model\n",
    "from sklearn.neighbors import KNeighborsRegressor\n",
    "\n",
    "# Maxmin normalization function:\n",
    "def maxmin(z):\n",
    "    z = (z-min(z))/(max(z)-min(z))\n",
    "    return(z)\n",
    "\n",
    "# Apply maxmin to each column of X:\n",
    "X_train_knn = X_train.apply(maxmin)\n",
    "X_test_knn = X_test.apply(maxmin)\n"
   ]
  },
  {
   "cell_type": "code",
   "execution_count": 117,
   "metadata": {},
   "outputs": [
    {
     "data": {
      "image/png": "[encoded data removed]",
      "text/plain": [
       "<Figure size 640x480 with 1 Axes>"
      ]
     },
     "metadata": {},
     "output_type": "display_data"
    }
   ],
   "source": [
    "k_bar = 30\n",
    "k_grid = np.arange(1,k_bar) # The range of k's to consider\n",
    "SSE = np.zeros(k_bar-1) # For comparison purposes, store the training error\n",
    "for k in range(k_bar-1):\n",
    "    model = KNeighborsRegressor(n_neighbors=k+1) # Create a sk model for k\n",
    "    fitted_model = model.fit(X_train_knn,y_train) # Train the model on our data\n",
    "    y_hat = fitted_model.predict(X_test_knn) # Predict values for test set\n",
    "    SSE[k] = np.sum( (y_test-y_hat)**2 ) # Save the computed SSE\n",
    "SSE_min = np.min(SSE) # Lowest recorded SSE\n",
    "min_index = np.where(SSE==SSE_min) # Find the indices of y that equal the minimum\n",
    "k_star = k_grid[min_index][0] # Find the optimal value of k\n",
    "\n",
    "# SSE plot:\n",
    "plt.plot(k_grid,SSE)\n",
    "plt.xlabel(\"k\")\n",
    "plt.ylabel(\"SSE\")\n",
    "plt.title('SSE')\n",
    "plt.show()"
   ]
  },
  {
   "cell_type": "code",
   "execution_count": 118,
   "metadata": {},
   "outputs": [],
   "source": [
    "# Fit optimal model:\n",
    "import matplotlib.pyplot as plt\n",
    "from sklearn.neighbors import KNeighborsRegressor\n",
    "\n",
    "knn_model = KNeighborsRegressor(n_neighbors=max(4,k_star))\n",
    "knn_star = knn_model.fit(X_train_knn,y_train)\n",
    "y_hat_knn = knn_star.predict(X_test_knn)\n",
    "residuals_knn = y_test - y_hat_knn"
   ]
  },
  {
   "cell_type": "code",
   "execution_count": 119,
   "metadata": {},
   "outputs": [
    {
     "name": "stdout",
     "output_type": "stream",
     "text": [
      "RMSE: 0.19\n",
      "R^2: 0.05\n"
     ]
    }
   ],
   "source": [
    "# Calculate RMSE and R^2\n",
    "SSE_knn = np.sum( (y_test-y_hat_knn)**2 )\n",
    "MSE_knn = SSE_knn/N_test\n",
    "RMSE_knn = (SSE_knn/N_test)**(1/2)\n",
    "R2_knn = 1 - SSE_knn/TSS\n",
    "print(f'RMSE: {RMSE_knn:.2f}')\n",
    "print(f'R^2: {R2_knn:.2f}')"
   ]
  },
  {
   "cell_type": "code",
   "execution_count": 120,
   "metadata": {},
   "outputs": [
    {
     "data": {
      "text/html": [
       "<div>\n",
       "<style scoped>\n",
       "    .dataframe tbody tr th:only-of-type {\n",
       "        vertical-align: middle;\n",
       "    }\n",
       "\n",
       "    .dataframe tbody tr th {\n",
       "        vertical-align: top;\n",
       "    }\n",
       "\n",
       "    .dataframe thead th {\n",
       "        text-align: right;\n",
       "    }\n",
       "</style>\n",
       "<table border=\"1\" class=\"dataframe\">\n",
       "  <thead>\n",
       "    <tr style=\"text-align: right;\">\n",
       "      <th></th>\n",
       "      <th>RMSE</th>\n",
       "      <th>R2</th>\n",
       "    </tr>\n",
       "  </thead>\n",
       "  <tbody>\n",
       "    <tr>\n",
       "      <th>LM</th>\n",
       "      <td>0.198518</td>\n",
       "      <td>-0.058381</td>\n",
       "    </tr>\n",
       "    <tr>\n",
       "      <th>TREE</th>\n",
       "      <td>0.186737</td>\n",
       "      <td>0.064091</td>\n",
       "    </tr>\n",
       "    <tr>\n",
       "      <th>KNN</th>\n",
       "      <td>0.188475</td>\n",
       "      <td>0.046585</td>\n",
       "    </tr>\n",
       "  </tbody>\n",
       "</table>\n",
       "</div>"
      ],
      "text/plain": [
       "          RMSE        R2\n",
       "LM    0.198518 -0.058381\n",
       "TREE  0.186737  0.064091\n",
       "KNN   0.188475  0.046585"
      ]
     },
     "execution_count": 120,
     "metadata": {},
     "output_type": "execute_result"
    }
   ],
   "source": [
    "## Comparison Table:\n",
    "gdf = pd.DataFrame({'RMSE':[RMSE_lm,RMSE_cart,RMSE_knn],\n",
    "                    'R2':[R2_lm,R2_cart,R2_knn]})\n",
    "gdf.index = ['LM','TREE','KNN']\n",
    "gdf.head()"
   ]
  },
  {
   "cell_type": "markdown",
   "metadata": {},
   "source": [
    "kNN was clearly better than the others, so we used it as a base to build a model that integrates a few types of models."
   ]
  },
  {
   "cell_type": "code",
   "execution_count": null,
   "metadata": {},
   "outputs": [],
   "source": []
  },
  {
   "cell_type": "code",
   "execution_count": null,
   "metadata": {},
   "outputs": [],
   "source": [
    "##  Decision Tree Regressor with a KNN neighbors model\n",
    "\n",
    "# from sklearn.ensemble import VotingRegressor\n",
    "# from sklearn.tree import DecisionTreeRegressor\n",
    "# from sklearn.neighbors import KNeighborsRegressor\n",
    "# from sklearn.metrics import mean_squared_error\n",
    "# from sklearn.metrics import r2_score\n",
    "\n",
    "# # Initialize the Decision Tree Regressor and KNN Regressor models\n",
    "# dt_model = DecisionTreeRegressor(max_depth=5)\n",
    "# knn_model = KNeighborsRegressor(n_neighbors=10)  # You can adjust the number of neighbors (k)\n",
    "\n",
    "# # Initialize the Voting Regressor with both models\n",
    "# voting_model = VotingRegressor(estimators=[('decision_tree', dt_model), ('knn', knn_model)])\n",
    "\n",
    "# # Train the ensemble model\n",
    "# voting_model.fit(X_train, y_train.values.ravel())  # Note: ravel() is used to convert y_train to a 1D array\n",
    "\n",
    "# # Make predictions on the test set\n",
    "# y_pred_voting = voting_model.predict(X_test)\n",
    "\n",
    "# # Calculate RMSE for the ensemble model\n",
    "# rmse_voting = mean_squared_error(y_test, y_pred_voting, squared=False)\n",
    "# print(f'RMSE: {rmse_voting:.2f}')\n",
    "\n",
    "# # Calculate R-squared for the ensemble model\n",
    "# r2_voting = r2_score(y_test, y_pred_voting)\n",
    "# print(f'R^2: {r2_voting:.2f}')"
   ]
  },
  {
   "cell_type": "markdown",
   "metadata": {},
   "source": [
    "# BELOW THIS IS WHAT WAS ORIGINALLY IN THE FILE"
   ]
  },
  {
   "cell_type": "code",
   "execution_count": null,
   "metadata": {},
   "outputs": [],
   "source": [
    "y_train = df_train['stroke']\n",
    "X_train = df_train.drop('stroke',axis=1)\n",
    "y_test = df_test['stroke']\n",
    "X_test = df_test.drop('stroke',axis=1)\n",
    "\n",
    "X_train['bmi'] = X_train['bmi'].fillna(X_train['bmi'].mean())\n",
    "X_test['bmi'] = X_test['bmi'].fillna(X_test['bmi'].mean())"
   ]
  },
  {
   "cell_type": "code",
   "execution_count": null,
   "metadata": {},
   "outputs": [],
   "source": [
    "## Linear Model\n",
    "from sklearn.linear_model import LinearRegression # Import linear regression model\n",
    "from sklearn.preprocessing import PolynomialFeatures\n",
    "\n",
    "X_train_numeric = X_train.loc[:,['age','hypertension','heart_disease','bmi','avg_glucose_level'] ]\n",
    "#\n",
    "expander = PolynomialFeatures(degree=2,include_bias=False) # Create the expander\n",
    "Z = expander.fit_transform(X_train_numeric) # Pass the df into the expander to get powers/interactions of x and y\n",
    "names = expander.get_feature_names_out() # Get the names of these variables\n",
    "continuous = pd.DataFrame(data=Z, columns = names) # Create a new, expanded dataframe\n",
    "#\n",
    "dummies = pd.concat([ pd.get_dummies(X_train['work_type'],dtype='int',drop_first=True),\n",
    "                      pd.get_dummies(X_train['Residence_type'],dtype='int',drop_first=True),\n",
    "                      pd.get_dummies(X_train['smoking_status'],dtype='int',drop_first=True)],axis=1)\n",
    "#\n",
    "Z_train = pd.concat([continuous,dummies],axis=1)\n",
    "\n",
    "X_test_numeric = X_test.loc[:,['age','hypertension','heart_disease','bmi','avg_glucose_level'] ]\n",
    "#\n",
    "expander = PolynomialFeatures(degree=2,include_bias=False) # Create the expander\n",
    "Z = expander.fit_transform(X_test_numeric) # Pass the df into the expander to get powers/interactions of x and y\n",
    "names = expander.get_feature_names_out() # Get the names of these variables\n",
    "continuous = pd.DataFrame(data=Z, columns = names) # Create a new, expanded dataframe\n",
    "\n",
    "dummies = pd.concat([ pd.get_dummies(X_test['work_type'],dtype='int',drop_first=True),\n",
    "                      pd.get_dummies(X_test['Residence_type'],dtype='int',drop_first=True),\n",
    "                      pd.get_dummies(X_test['smoking_status'],dtype='int',drop_first=True)],axis=1)\n",
    "#\n",
    "Z_test = pd.concat([continuous,dummies],axis=1)\n",
    "\n",
    "# Fit the model and get the R2 measure:\n",
    "reg = LinearRegression().fit(Z_train, y_train) # Fit the linear model\n",
    "print('R2: ', reg.score(Z_test, y_test)) # R squared measure\n",
    "y_hat = reg.predict(Z_test)\n",
    "N = len(y_test)\n",
    "print('RMSE: ', (np.sum( (y_test - y_hat)**2)/N )**.5 )   # R squared measure\n"
   ]
  },
  {
   "cell_type": "markdown",
   "metadata": {},
   "source": [
    "This is supposed to be fairly \"fun,\" so please do not turn it into a combinatorial nightmare of comparing thousands of model specifications. Settle on a strategy you think is promising, crank it out, and write up the results. Your time and energy are valuable, so learn to recognize when the marginal cost of another twenty minutes on a project exceeds the benefit in terms of improving the results and your grade.\n",
    "  \n",
    "## Paper format\n",
    "\n",
    "The format of the paper should be:\n",
    "\n",
    "  - Summary: A one paragraph description of the question, methods, and results (about 350 words).\n",
    "  - Data: One to two pages discussing the data and key variables, and any challenges in reading, cleaning, and preparing them for analysis.\n",
    "  - Results: Two to five pages providing visualizations, statistics, a discussion of your methodology, and a presentation of your main findings. \n",
    "  - Conclusion: One to two pages summarizing the project, defending it from criticism, and suggesting additional work that was outside the scope of the project.\n",
    "  - Appendix: If you have a significant number of additional plots or table that you feel are essential to the project, you can put any amount of extra content at the end and reference it from the body of the paper. \n",
    "\n",
    "## Submission\n",
    "\r\n",
    "Half of each student's grade is based on their commits to the repo. Each student is expected to do something specific that contributes to the overall project outcome. Since commits are recorded explicitly by Git/GitHub, this is observable. A student can contribute by cleaning data, creating visualizations,performing analytic analyses,  or writing about results, but everyone has to do something substantial. A student's work doesn't need to make it into the final report to be valuable and substantial, and fulfill the requirement to make a contribution to the project. \r\n",
    "\r\n",
    "The other half of each student's grade is based on the written report. Groups will work together on combining results and writing up findings in a Jupyter noteb,ok, using code chunks to execute Python commands and markdown chunks to structure the paper and provide exposition. The notebook should run on Colab or Rivana from beginning to end without any errors.\r\n",
    "\n",
    "mbers submit.\n",
    "\n",
    "## Criteria\n",
    "\n",
    "The project is graded based on four criteria:\n",
    "\n",
    "  - Project Concept: What is the strategy for building and testing the group's models? How did the group decide how to use the tools presented so far in class? How did the group compare the performance of the options considered, and settle on a final choice for submission?\n",
    "  - Wrangling, EDA, and Visualization: How are are missing values handled? For variables with large numbers of missing values, to what extent do the data and documentation provide an explanation for the missing data? If multiple data sources are used, how are the data merged? For the main variables in the analysis, are the relevant data summarized and visualized through a histogram or kernel density plot where appropriate? Are basic quantitative features of the data addressed and explained? How are outliers characterized and addressed? \n",
    "  - Analysis: What are the groups' main findings? Do the tables, plots, and statistics support the conclusions? Is the research strategy carried out correctly? If the research strategy succeeds, are the results interpreted correctly and appropriately? If the research strategy fails, is a useful discussion of the flaws of the data collection process or the research strategy discussed?\n",
    "  - Replication/Documentation: Is the code appropriately commented? Can the main results be replicated from the code and original data files? Are significant choices noted and explained?\n",
    "\n",
    "Each of the four criteria are equally weighted (25 points out of 100)."
   ]
  }
 ],
 "metadata": {
  "kernelspec": {
   "display_name": "PyTorch 2.0.1",
   "language": "python",
   "name": "pytorch-2.0.1"
  },
  "language_info": {
   "codemirror_mode": {
    "name": "ipython",
    "version": 3
   },
   "file_extension": ".py",
   "mimetype": "text/x-python",
   "name": "python",
   "nbconvert_exporter": "python",
   "pygments_lexer": "ipython3",
   "version": "3.10.12"
  }
 },
 "nbformat": 4,
 "nbformat_minor": 5
}
