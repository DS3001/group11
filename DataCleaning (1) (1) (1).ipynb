{
 "cells": [
  {
   "cell_type": "markdown",
   "metadata": {},
   "source": [
    "# Lab 1 - GSS Happiness - Wrangling\n",
    "## Group 11\n",
    "## `! git clone https://www.github.com/DS3001/group11"
   ]
  },
  {
   "cell_type": "code",
   "execution_count": 14,
   "metadata": {},
   "outputs": [
    {
     "data": {
      "text/html": [
       "<div>\n",
       "<style scoped>\n",
       "    .dataframe tbody tr th:only-of-type {\n",
       "        vertical-align: middle;\n",
       "    }\n",
       "\n",
       "    .dataframe tbody tr th {\n",
       "        vertical-align: top;\n",
       "    }\n",
       "\n",
       "    .dataframe thead th {\n",
       "        text-align: right;\n",
       "    }\n",
       "</style>\n",
       "<table border=\"1\" class=\"dataframe\">\n",
       "  <thead>\n",
       "    <tr style=\"text-align: right;\">\n",
       "      <th></th>\n",
       "      <th>age</th>\n",
       "      <th>year</th>\n",
       "      <th>wrkstat</th>\n",
       "      <th>rincome</th>\n",
       "      <th>happy</th>\n",
       "      <th>satfin</th>\n",
       "      <th>satjob</th>\n",
       "    </tr>\n",
       "  </thead>\n",
       "  <tbody>\n",
       "    <tr>\n",
       "      <th>0</th>\n",
       "      <td>23.0</td>\n",
       "      <td>1972</td>\n",
       "      <td>working full time</td>\n",
       "      <td>NaN</td>\n",
       "      <td>not too happy</td>\n",
       "      <td>not satisfied at all</td>\n",
       "      <td>a little dissatisfied</td>\n",
       "    </tr>\n",
       "    <tr>\n",
       "      <th>1</th>\n",
       "      <td>70.0</td>\n",
       "      <td>1972</td>\n",
       "      <td>retired</td>\n",
       "      <td>NaN</td>\n",
       "      <td>not too happy</td>\n",
       "      <td>more or less satisfied</td>\n",
       "      <td>NaN</td>\n",
       "    </tr>\n",
       "    <tr>\n",
       "      <th>2</th>\n",
       "      <td>48.0</td>\n",
       "      <td>1972</td>\n",
       "      <td>working part time</td>\n",
       "      <td>NaN</td>\n",
       "      <td>pretty happy</td>\n",
       "      <td>pretty well satisfied</td>\n",
       "      <td>moderately satisfied</td>\n",
       "    </tr>\n",
       "    <tr>\n",
       "      <th>3</th>\n",
       "      <td>27.0</td>\n",
       "      <td>1972</td>\n",
       "      <td>working full time</td>\n",
       "      <td>NaN</td>\n",
       "      <td>not too happy</td>\n",
       "      <td>not satisfied at all</td>\n",
       "      <td>very satisfied</td>\n",
       "    </tr>\n",
       "    <tr>\n",
       "      <th>4</th>\n",
       "      <td>61.0</td>\n",
       "      <td>1972</td>\n",
       "      <td>keeping house</td>\n",
       "      <td>NaN</td>\n",
       "      <td>pretty happy</td>\n",
       "      <td>pretty well satisfied</td>\n",
       "      <td>NaN</td>\n",
       "    </tr>\n",
       "  </tbody>\n",
       "</table>\n",
       "</div>"
      ],
      "text/plain": [
       "    age  year            wrkstat rincome          happy  \\\n",
       "0  23.0  1972  working full time     NaN  not too happy   \n",
       "1  70.0  1972            retired     NaN  not too happy   \n",
       "2  48.0  1972  working part time     NaN   pretty happy   \n",
       "3  27.0  1972  working full time     NaN  not too happy   \n",
       "4  61.0  1972      keeping house     NaN   pretty happy   \n",
       "\n",
       "                   satfin                 satjob  \n",
       "0    not satisfied at all  a little dissatisfied  \n",
       "1  more or less satisfied                    NaN  \n",
       "2   pretty well satisfied   moderately satisfied  \n",
       "3    not satisfied at all         very satisfied  \n",
       "4   pretty well satisfied                    NaN  "
      ]
     },
     "execution_count": 14,
     "metadata": {},
     "output_type": "execute_result"
    }
   ],
   "source": [
    "import pandas as pd\n",
    "import matplotlib.pyplot as plt\n",
    "\n",
    "df = pd.read_csv('./Data/selectedData.csv') # Import data into environment\n",
    "df.head()"
   ]
  },
  {
   "cell_type": "code",
   "execution_count": 15,
   "metadata": {},
   "outputs": [
    {
     "name": "stdout",
     "output_type": "stream",
     "text": [
      "(72390, 7) \n",
      "\n",
      "age        float64\n",
      "year         int64\n",
      "wrkstat     object\n",
      "rincome     object\n",
      "happy       object\n",
      "satfin      object\n",
      "satjob      object\n",
      "dtype: object \n",
      "\n",
      "Index(['age', 'year', 'wrkstat', 'rincome', 'happy', 'satfin', 'satjob'], dtype='object') \n",
      "\n"
     ]
    }
   ],
   "source": [
    "# wrangling\n",
    "print(df.shape, '\\n') # List the dimensions of df\n",
    "print(df.dtypes, '\\n') # The types of the variables\n",
    "print(df.columns, '\\n') # Column names"
   ]
  },
  {
   "cell_type": "markdown",
   "metadata": {},
   "source": [
    "Many of the variables are of the \"object\" data type; because these data are categorical, this is okay.\n",
    "We will look at age, year, and income first."
   ]
  },
  {
   "cell_type": "code",
   "execution_count": 16,
   "metadata": {},
   "outputs": [
    {
     "name": "stdout",
     "output_type": "stream",
     "text": [
      "count    71621.000000\n",
      "mean        46.555982\n",
      "std         17.600417\n",
      "min         18.000000\n",
      "25%         32.000000\n",
      "50%         44.000000\n",
      "75%         60.000000\n",
      "max         89.000000\n",
      "Name: age, dtype: float64 \n",
      "\n",
      "[23. 70. 48. 27. 61. 26. 28. 21. 30. 56. 54. 49. 41. 24. 62. 46. 57. 58.\n",
      " 71. 53. 42. 20. 25. 78. 35. 51. 76. 39. 64. 50. 40. 43. 37. 22. 31. 52.\n",
      " 47. 45. 68. 63. 19. 55. 44. 34. 36. 74. 69. 29. 67. 75. 38. 73. 84. 82.\n",
      " 72. 59. 33. 81. 65. 32. nan 60. 80. 66. 77. 18. 79. 83. 85. 88. 87. 89.\n",
      " 86.] \n",
      "\n"
     ]
    },
    {
     "data": {
      "text/plain": [
       "<AxesSubplot:>"
      ]
     },
     "execution_count": 16,
     "metadata": {},
     "output_type": "execute_result"
    },
    {
     "data": {
      "image/png": "[encoded data removed]",
      "text/plain": [
       "<Figure size 432x288 with 1 Axes>"
      ]
     },
     "metadata": {
      "needs_background": "light"
     },
     "output_type": "display_data"
    }
   ],
   "source": [
    "# Age\n",
    "var = 'age'\n",
    "print(df[var].describe(),'\\n') # 72390-71612=769 missing values\n",
    "print(df[var].unique(),'\\n') # missing values are already in nan format\n",
    "df[var].hist(bins=50) # Initial histogram, odd spikes may be due to how survey was previously administered\n"
   ]
  },
  {
   "cell_type": "code",
   "execution_count": 17,
   "metadata": {},
   "outputs": [
    {
     "name": "stdout",
     "output_type": "stream",
     "text": [
      "Total Missings: \n",
      " 769 \n",
      "\n"
     ]
    }
   ],
   "source": [
    "df[var+'_NA'] = df[var].isnull() # makes variable with 1 to indicate missing and 0 to indicate present\n",
    "print('Total Missings: \\n', sum(df[var+'_NA']),'\\n') # says 769 are missing, matches expected\n",
    "# the data us clean already"
   ]
  },
  {
   "cell_type": "code",
   "execution_count": 18,
   "metadata": {},
   "outputs": [
    {
     "name": "stdout",
     "output_type": "stream",
     "text": [
      "count    72390.000000\n",
      "mean      1997.715541\n",
      "std         15.109995\n",
      "min       1972.000000\n",
      "25%       1985.000000\n",
      "50%       1998.000000\n",
      "75%       2010.000000\n",
      "max       2022.000000\n",
      "Name: year, dtype: float64 \n",
      "\n"
     ]
    },
    {
     "data": {
      "text/plain": [
       "<AxesSubplot:>"
      ]
     },
     "execution_count": 18,
     "metadata": {},
     "output_type": "execute_result"
    },
    {
     "data": {
      "image/png": "[encoded data removed]",
      "text/plain": [
       "<Figure size 432x288 with 1 Axes>"
      ]
     },
     "metadata": {
      "needs_background": "light"
     },
     "output_type": "display_data"
    }
   ],
   "source": [
    "# Year\n",
    "var = 'year'\n",
    "print(df[var].describe(),'\\n') # 72390-72390=0 missing values\n",
    "df[var].hist(bins=50) # Initial histogram, looks like some years are missing but no data "
   ]
  },
  {
   "cell_type": "code",
   "execution_count": 58,
   "metadata": {},
   "outputs": [
    {
     "name": "stdout",
     "output_type": "stream",
     "text": [
      "count                 72354\n",
      "unique                    8\n",
      "top       working full time\n",
      "freq                  35267\n",
      "Name: wrkstat, dtype: object \n",
      "\n",
      "['working full time' 'retired' 'working part time' 'keeping house'\n",
      " 'in school' 'unemployed, laid off, looking for work'\n",
      " 'with job, not at work rn' 'other' nan] \n",
      "\n",
      "working full time                         35267\n",
      "retired                                   10886\n",
      "keeping house                             10764\n",
      "working part time                          7430\n",
      "unemployed, laid off, looking for work     2621\n",
      "in school                                  2187\n",
      "other                                      1643\n",
      "with job, not at work rn                   1556\n",
      "Name: wrkstat, dtype: int64 \n",
      "\n",
      "AxesSubplot(0.125,0.125;0.775x0.755) \n",
      "\n",
      "Total Missings: \n",
      " 36 \n",
      "\n",
      "[False  True]\n",
      "working full time                         35267\n",
      "retired                                   10886\n",
      "keeping house                             10764\n",
      "working part time                          7430\n",
      "unemployed, laid off, looking for work     2621\n",
      "in school                                  2187\n",
      "other                                      1643\n",
      "with job, not at work rn                   1556\n",
      "Name: wrkstat, dtype: int64\n"
     ]
    },
    {
     "data": {
      "image/png": "[encoded data removed]",
      "text/plain": [
       "<Figure size 432x288 with 1 Axes>"
      ]
     },
     "metadata": {
      "needs_background": "light"
     },
     "output_type": "display_data"
    }
   ],
   "source": [
    "# Work status\n",
    "var = 'wrkstat'\n",
    "print(df[var].describe(),'\\n') # 72390-72354=36 missing values expected\n",
    "print(df[var].unique(),'\\n') # 8 categories not including nan (keeping \"other\")\n",
    "print(df[var].value_counts(), '\\n')\n",
    "print(df[var].hist(bins=8,grid=False), '\\n')\n",
    "plt.xticks(rotation=90)\n",
    "df[var+'_NA'] = df[var].isnull() # Create a bond missing dummy; long tail\n",
    "print('Total Missings: \\n', sum(df[var+'_NA']),'\\n') # 36 missing values, already in nan form\n",
    "df.loc[df[var] == 'with a job, but not at work because of temporary illness, vacation, strike', var] = 'with job, not at work rn' #shortening variable name \n",
    "print(df['wrkstat_NA'].unique()) \n",
    "gdf=df.loc[df['wrkstat_NA']== 0,:] #removing the Na values as only 36 \n",
    "print(gdf[var].value_counts())\n",
    "#remove other values"
   ]
  },
  {
   "cell_type": "code",
   "execution_count": 57,
   "metadata": {},
   "outputs": [
    {
     "name": "stdout",
     "output_type": "stream",
     "text": [
      "   year     cf\n",
      "0  1968  0.145\n",
      "1  1969  0.153\n",
      "2  1970  0.162\n",
      "3  1971  0.169\n",
      "4  1972  0.174\n",
      "count    42333.000000\n",
      "mean     17368.093450\n",
      "std       8552.219569\n",
      "min       1000.000000\n",
      "25%       9000.000000\n",
      "50%      22500.000000\n",
      "75%      25000.000000\n",
      "max      25000.000000\n",
      "Name: income, dtype: float64 \n",
      "\n",
      "[   nan  1500. 17500.  7500.  9000. 22500.  4500. 12500. 25000.  3500.\n",
      "  1000.  5500.  6500.] \n",
      "\n",
      "Total Missings: \n",
      " 30057 \n",
      "\n",
      "count    42333.000000\n",
      "mean     17368.093450\n",
      "std       8552.219569\n",
      "min       1000.000000\n",
      "25%       9000.000000\n",
      "50%      22500.000000\n",
      "75%      25000.000000\n",
      "max      25000.000000\n",
      "Name: income, dtype: float64 \n",
      "\n",
      "68846    1.149\n",
      "68847    1.149\n",
      "68848    1.149\n",
      "68849    1.149\n",
      "68850    1.149\n",
      "         ...  \n",
      "72385    1.149\n",
      "72386    1.149\n",
      "72387    1.149\n",
      "72388    1.149\n",
      "72389    1.149\n",
      "Name: cf, Length: 3544, dtype: float64\n",
      "               year            cf           age        income    Income_2016  \\\n",
      "count  72390.000000  72390.000000  71621.000000  42333.000000   42333.000000   \n",
      "mean    1997.715541      0.676659     46.555982  17368.093450   27378.958969   \n",
      "std       15.109995      0.290345     17.600417   8552.219569   16293.868624   \n",
      "min     1972.000000      0.174000     18.000000   1000.000000     870.322019   \n",
      "25%     1985.000000      0.448000     32.000000   9000.000000   17500.000000   \n",
      "50%     1998.000000      0.679000     44.000000  22500.000000   25773.195876   \n",
      "75%     2010.000000      0.909000     60.000000  25000.000000   35496.957404   \n",
      "max     2022.000000      1.149000     89.000000  25000.000000  121951.219512   \n",
      "\n",
      "         real_income  \n",
      "count   42333.000000  \n",
      "mean    31458.423855  \n",
      "std     18721.655048  \n",
      "min      1000.000000  \n",
      "25%     20107.500000  \n",
      "50%     29613.402062  \n",
      "75%     40786.004057  \n",
      "max    140121.951220   \n",
      "\n"
     ]
    },
    {
     "data": {
      "text/plain": [
       "<AxesSubplot:>"
      ]
     },
     "execution_count": 57,
     "metadata": {},
     "output_type": "execute_result"
    },
    {
     "data": {
      "image/png": "[encoded data removed]",
      "text/plain": [
       "<Figure size 432x288 with 1 Axes>"
      ]
     },
     "metadata": {
      "needs_background": "light"
     },
     "output_type": "display_data"
    }
   ],
   "source": [
    "# Income\n",
    "cpi = pd.read_excel('./Data/cpi.xlsx') #data from website https://liberalarts.oregonstate.edu/spp/polisci/faculty-staff/robert-sahr/inflation-conversion-factors-years-1774-estimated-2024-dollars-recent-years/individual-year-conversion-factor-table-0 \n",
    "                                    # in a new excel with the year and conversion factor for money for that year to 2016, estimates 2017 to 2022 conversion factor to 2016\n",
    "print(cpi.head()) #values from cpi data\n",
    "df = df.rename(columns = {'rincome': 'income'}) # change respondent income, \"rincome,\" to \"income\"\n",
    "var = 'income'\n",
    "print(df[var].describe(),'\\n') # 72390-42333=30057 missing values\n",
    "print(df[var].unique(),'\\n') # missing values are already in nan format\n",
    "df[var].hist(bins=12) # odd spikes may be due to how survey previously pooled ages (Methodological 56)\n",
    "plt.xticks(rotation=90)\n",
    "df[var+'_NA'] = df[var].isnull() # Create a bond missing dummy; long tail\n",
    "print('Total Missings: \\n', sum(df[var+'_NA']),'\\n') \n",
    "df = df.replace(['$1,000 to $2,999','$15,000 to $19,999','$7,000 to $7,999','$8,000 to $9,999','$20,000 to $24,999','$4,000 to $4,999','$10,000 to $14,999','$25,000 or more','$3,000 to $3,999','under $1,000','$5,000 to $5,999','$6,000 to $6,999'], [1500,17500,7500,9000,22500,4500,12500,25000,3500,1000,5500,6500])\n",
    "print(df[var].describe(),'\\n')\n",
    "md = cpi.merge(df, on='year') #merging the data from the cpi and the data file cleaning on the common relation of year                                   \n",
    "md['Income_2016'] = (md[var]/md['cf']) #creating the income related to the year of 2016 through the conversion factor -- divide the income by the conversion factor for that year\n",
    "print(md.loc[md['year'] == 2022, 'cf']) #cf from 2022 to 2016 is 1.149\n",
    "md['real_income'] = md['Income_2016'] *(1.149) # multiply the income from 2016 by the conversion factor for 2022 to get the value of money in 2022\n",
    "md['real_income'].value_counts()\n",
    "print(md.describe(),'\\n')\n",
    "md['real_income'].hist(bins=12)"
   ]
  },
  {
   "cell_type": "code",
   "execution_count": 48,
   "metadata": {},
   "outputs": [
    {
     "name": "stdout",
     "output_type": "stream",
     "text": [
      "               year            cf           age        income    Income_2016  \\\n",
      "count  72390.000000  72390.000000  71621.000000  42333.000000   42333.000000   \n",
      "mean    1997.715541      0.676659     46.555982  17368.093450   27378.958969   \n",
      "std       15.109995      0.290345     17.600417   8552.219569   16293.868624   \n",
      "min     1972.000000      0.174000     18.000000   1000.000000     870.322019   \n",
      "25%     1985.000000      0.448000     32.000000   9000.000000   17500.000000   \n",
      "50%     1998.000000      0.679000     44.000000  22500.000000   25773.195876   \n",
      "75%     2010.000000      0.909000     60.000000  25000.000000   35496.957404   \n",
      "max     2022.000000      1.149000     89.000000  25000.000000  121951.219512   \n",
      "\n",
      "        real_income  \n",
      "count   1990.000000  \n",
      "mean   21554.522613  \n",
      "std     6710.071158  \n",
      "min     1000.000000  \n",
      "25%    22500.000000  \n",
      "50%    25000.000000  \n",
      "75%    25000.000000  \n",
      "max    25000.000000   \n",
      "\n"
     ]
    }
   ],
   "source": []
  },
  {
   "cell_type": "code",
   "execution_count": 27,
   "metadata": {},
   "outputs": [
    {
     "name": "stdout",
     "output_type": "stream",
     "text": [
      "count            67588\n",
      "unique               3\n",
      "top       pretty happy\n",
      "freq             37813\n",
      "Name: happy, dtype: object \n",
      "\n",
      "['not too happy' 'pretty happy' 'very happy' nan] \n",
      "\n",
      "pretty happy     37813\n",
      "very happy       20385\n",
      "not too happy     9390\n",
      "Name: happy, dtype: int64 \n",
      "\n",
      "AxesSubplot(0.125,0.125;0.775x0.755) \n",
      "\n",
      "Total Missings: \n",
      " 4802 \n",
      "\n"
     ]
    },
    {
     "data": {
      "image/png": "[encoded data removed]",
      "text/plain": [
       "<Figure size 432x288 with 1 Axes>"
      ]
     },
     "metadata": {
      "needs_background": "light"
     },
     "output_type": "display_data"
    }
   ],
   "source": [
    "#happy\n",
    "var = 'happy'\n",
    "print(df[var].describe(),'\\n') # 72390-67588=4,802 missing values expected\n",
    "print(df[var].unique(),'\\n') # 3 categories not including nan\n",
    "print(df[var].value_counts(), '\\n')\n",
    "print(df[var].hist(bins=3,grid=False), '\\n')\n",
    "df[var+'_NA'] = df[var].isnull() # Create a bond missing dummy; long tail\n",
    "print('Total Missings: \\n', sum(df[var+'_NA']),'\\n') #number of missings is same as nan\n",
    "#assuming missing values is that people are unhappy"
   ]
  },
  {
   "cell_type": "code",
   "execution_count": 26,
   "metadata": {},
   "outputs": [
    {
     "name": "stdout",
     "output_type": "stream",
     "text": [
      "count                      67722\n",
      "unique                         3\n",
      "top       more or less satisfied\n",
      "freq                       29987\n",
      "Name: satisfy, dtype: object \n",
      "\n",
      "['not satisfied at all' 'more or less satisfied' 'pretty well satisfied'\n",
      " nan] \n",
      "\n",
      "more or less satisfied    29987\n",
      "pretty well satisfied     19726\n",
      "not satisfied at all      18009\n",
      "Name: satisfy, dtype: int64 \n",
      "\n",
      "AxesSubplot(0.125,0.125;0.775x0.755) \n",
      "\n",
      "Total Missings: \n",
      " 4668 \n",
      "\n"
     ]
    },
    {
     "data": {
      "image/png": "[encoded data removed]",
      "text/plain": [
       "<Figure size 432x288 with 1 Axes>"
      ]
     },
     "metadata": {
      "needs_background": "light"
     },
     "output_type": "display_data"
    }
   ],
   "source": [
    "#satfin\n",
    "df = df.rename(columns = {'satfin': 'satisfy'})\n",
    "var = 'satisfy'\n",
    "print(df[var].describe(),'\\n') # 72390-67722=4,668 missing values expected\n",
    "print(df[var].unique(),'\\n') # 3 categories not including nan\n",
    "print(df[var].value_counts(), '\\n')\n",
    "print(df[var].hist(bins=3,grid=False), '\\n')\n",
    "df[var+'_NA'] = df[var].isnull() # Create a bond missing dummy; long tail\n",
    "print('Total Missings: \\n', sum(df[var+'_NA']),'\\n') #number of missings is same as nan"
   ]
  },
  {
   "cell_type": "code",
   "execution_count": 28,
   "metadata": {},
   "outputs": [
    {
     "name": "stdout",
     "output_type": "stream",
     "text": [
      "count              51887\n",
      "unique                 4\n",
      "top       very satisfied\n",
      "freq               24718\n",
      "Name: satjob, dtype: object \n",
      "\n",
      "['a little dissatisfied' nan 'moderately satisfied' 'very satisfied'\n",
      " 'very dissatisfied'] \n",
      "\n",
      "very satisfied           24718\n",
      "moderately satisfied     19854\n",
      "a little dissatisfied     5157\n",
      "very dissatisfied         2158\n",
      "Name: satjob, dtype: int64 \n",
      "\n",
      "AxesSubplot(0.125,0.125;0.775x0.755) \n",
      "\n",
      "Total Missings: \n",
      " 20503 \n",
      "\n"
     ]
    },
    {
     "data": {
      "image/png": "[encoded data removed]",
      "text/plain": [
       "<Figure size 432x288 with 1 Axes>"
      ]
     },
     "metadata": {
      "needs_background": "light"
     },
     "output_type": "display_data"
    }
   ],
   "source": [
    "#satjob\n",
    "var = 'satjob'\n",
    "print(df[var].describe(),'\\n') # 72390-51887=20,503 missing values expected\n",
    "print(df[var].unique(),'\\n') # 4 categories not including nan\n",
    "print(df[var].value_counts(), '\\n')\n",
    "print(df[var].hist(bins=4,grid=False), '\\n')\n",
    "df[var+'_NA'] = df[var].isnull() # Create a bond missing dummy; long tail\n",
    "print('Total Missings: \\n', sum(df[var+'_NA']),'\\n') #number of missings is same as nan\n",
    "#look at miss"
   ]
  },
  {
   "cell_type": "code",
   "execution_count": null,
   "metadata": {},
   "outputs": [],
   "source": [
    " "
   ]
  }
 ],
 "metadata": {
  "kernelspec": {
   "display_name": "Python 3",
   "language": "python",
   "name": "python3"
  },
  "language_info": {
   "codemirror_mode": {
    "name": "ipython",
    "version": 3
   },
   "file_extension": ".py",
   "mimetype": "text/x-python",
   "name": "python",
   "nbconvert_exporter": "python",
   "pygments_lexer": "ipython3",
   "version": "3.8.8"
  }
 },
 "nbformat": 4,
 "nbformat_minor": 4
}
