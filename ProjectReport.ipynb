{
 "cells": [
  {
   "cell_type": "markdown",
   "metadata": {},
   "source": [
    "# Project 1: Trends in General Happiness versus Financial Satisfaction and Work Satisfaction Over Time\n",
    "## Group 11\n",
    "- Elizabeth Hunter (mwm6nq)\n",
    "- Michael Hijduk (aqt7bt)\n",
    "- Eva Massarelli (ecm8yu)\n",
    "- Anjali Mehta (wfn7ad)\n",
    "- Anika Potluri (agu4yh)\n",
    "## ! git clone https://www.github.com/DS3001/group11\n",
    "\n",
    "# Summary\n",
    "\n",
    "Research question(s), overview of methods and findings. Make sure to reference the codebook and describe the research strategy...\n",
    "\n",
    "### Research Question 2 \n",
    "One of the general topics this research project aimed to explore is what is the relationship between age and general happiness/satisfaction. The following are questions that explored this general theme: what age are people happiest, what age are people most financially satisfied, and what age are people most satisfied with their job. The project employed box plots to explore these questions and analyze the relationship between age and different forms of satisfaction. This analysis assesses the main findings, the statistical support for conclusions, the research strategy, and the interpretation of results.\n",
    "\n",
    "# Data\n",
    "Describe the source of data, variables, and challenges weaving in the cleaning code as is relevant. \n",
    "Data used for this project was sourced from the General Social Survey (GSS), a public opinion survey which has been administered annually or biennially in the U.S. starting in 1972. It is important to note that according to the GSS 2022 release notes:\n",
    "\n",
    "\"Changes in opinions, attitudes, and behaviors observed in 2021 and 2022 relative to historical trends may be due to actual change in concept over time and/or may have resulted from methodological changes made to the survey methodology during the COVID-19 global pandemic. Research and interpretation done using the 2021 and 2022 GSS data should take extra care to ensure the analysis reflects actual changes in public opinion and is not unduly influenced by the change in data collection methods. For more information on the 2021 and 2022 GSS methodology and its implications, please visit https://gss.norc.org/Get-The-Data.\"\n",
    "\n",
    "To simplify the importation of the large data set, the data was imported into R and variables of interest, shown in data dictionary below, were seleted and exported to a comma separated value file.\n",
    "\n",
    "| Variable        | Description                                                      | Potential Reponses |\n",
    "| --- | --- | --- |\n",
    "| AGE     | indicates the respondent's age |                     |\n",
    "| YEAR    | indicates the year of the respondent's answers     |               |\n",
    "| WRKSTAT | Answers the question: Last week were you working full time, part time, going to school, keeping house, or what?       | \"working full time,\" \"working part time,\" \"with a job, but not at work because of temporary illness, vacation, strike,\" \"unemployed, laid off, looking for work,\" \"retired,\" \"in school,\" \"keeping house,\" \"other\"  |\n",
    "| RINCOME | Answers the question: Did you earn any income from [OCCUPATION DESCRIBED IN OCC-INDUSTRY] in [the last year]? |  \"under \\\\$1,000,\"  \"\\\\$1,000 to \\\\$2,999,\"  \"\\\\$3,000 to \\\\$3,999,\"  \"\\\\$4,000 to \\\\$4,999,\"  \"\\\\$5,000 to \\\\$5,999,\"  \"\\\\$6,000 to \\\\$6,999,\"  \"\\\\$7,000 to \\\\$7,999\"   |\n",
    "| HAPPY   | Answers the question: how would you say things are these days--would you say that you are very happy, pretty happy, or not too happy?    | \"very happy,\" \"pretty happy,\" \"not too happy\"       |\n",
    "| SATFIN  | Answers the question: We are interested in how people are getting along financially these days. So far as you and your family are concerned, would you say that you are pretty well satisfied with your present financial situation, more or less satisfied, or not satisfied at all?  | \"pretty well satisfied,\" \"more or less satisfied,\" \"not satisfied at all\" |\n",
    "| SATJOB  | Answers the question: On the whole, how satisfied are you with the work you do -- would you say you are very satisfied, moderately satisfied, a little dissatisfied, or very dissatisfied?    | \"very satisfied,\" \"moderately satisfied,\" \"a little dissatisfied,\" \"very dissatisfied\" |\n",
    "\n",
    "See below for the first entries into our selected dataframe."
   ]
  },
  {
   "cell_type": "code",
   "execution_count": 7,
   "metadata": {
    "collapsed": false,
    "jupyter": {
     "outputs_hidden": false
    }
   },
   "outputs": [
    {
     "data": {
      "text/html": [
       "<div>\n",
       "<style scoped>\n",
       "    .dataframe tbody tr th:only-of-type {\n",
       "        vertical-align: middle;\n",
       "    }\n",
       "\n",
       "    .dataframe tbody tr th {\n",
       "        vertical-align: top;\n",
       "    }\n",
       "\n",
       "    .dataframe thead th {\n",
       "        text-align: right;\n",
       "    }\n",
       "</style>\n",
       "<table border=\"1\" class=\"dataframe\">\n",
       "  <thead>\n",
       "    <tr style=\"text-align: right;\">\n",
       "      <th></th>\n",
       "      <th>age</th>\n",
       "      <th>year</th>\n",
       "      <th>wrkstat</th>\n",
       "      <th>rincome</th>\n",
       "      <th>happy</th>\n",
       "      <th>satfin</th>\n",
       "      <th>satjob</th>\n",
       "    </tr>\n",
       "  </thead>\n",
       "  <tbody>\n",
       "    <tr>\n",
       "      <th>0</th>\n",
       "      <td>23.0</td>\n",
       "      <td>1972</td>\n",
       "      <td>working full time</td>\n",
       "      <td>NaN</td>\n",
       "      <td>not too happy</td>\n",
       "      <td>not satisfied at all</td>\n",
       "      <td>a little dissatisfied</td>\n",
       "    </tr>\n",
       "    <tr>\n",
       "      <th>1</th>\n",
       "      <td>70.0</td>\n",
       "      <td>1972</td>\n",
       "      <td>retired</td>\n",
       "      <td>NaN</td>\n",
       "      <td>not too happy</td>\n",
       "      <td>more or less satisfied</td>\n",
       "      <td>NaN</td>\n",
       "    </tr>\n",
       "    <tr>\n",
       "      <th>2</th>\n",
       "      <td>48.0</td>\n",
       "      <td>1972</td>\n",
       "      <td>working part time</td>\n",
       "      <td>NaN</td>\n",
       "      <td>pretty happy</td>\n",
       "      <td>pretty well satisfied</td>\n",
       "      <td>moderately satisfied</td>\n",
       "    </tr>\n",
       "    <tr>\n",
       "      <th>3</th>\n",
       "      <td>27.0</td>\n",
       "      <td>1972</td>\n",
       "      <td>working full time</td>\n",
       "      <td>NaN</td>\n",
       "      <td>not too happy</td>\n",
       "      <td>not satisfied at all</td>\n",
       "      <td>very satisfied</td>\n",
       "    </tr>\n",
       "    <tr>\n",
       "      <th>4</th>\n",
       "      <td>61.0</td>\n",
       "      <td>1972</td>\n",
       "      <td>keeping house</td>\n",
       "      <td>NaN</td>\n",
       "      <td>pretty happy</td>\n",
       "      <td>pretty well satisfied</td>\n",
       "      <td>NaN</td>\n",
       "    </tr>\n",
       "  </tbody>\n",
       "</table>\n",
       "</div>"
      ],
      "text/plain": [
       "    age  year            wrkstat rincome          happy  \\\n",
       "0  23.0  1972  working full time     NaN  not too happy   \n",
       "1  70.0  1972            retired     NaN  not too happy   \n",
       "2  48.0  1972  working part time     NaN   pretty happy   \n",
       "3  27.0  1972  working full time     NaN  not too happy   \n",
       "4  61.0  1972      keeping house     NaN   pretty happy   \n",
       "\n",
       "                   satfin                 satjob  \n",
       "0    not satisfied at all  a little dissatisfied  \n",
       "1  more or less satisfied                    NaN  \n",
       "2   pretty well satisfied   moderately satisfied  \n",
       "3    not satisfied at all         very satisfied  \n",
       "4   pretty well satisfied                    NaN  "
      ]
     },
     "execution_count": 7,
     "metadata": {},
     "output_type": "execute_result"
    }
   ],
   "source": [
    "import pandas as pd\n",
    "import matplotlib.pyplot as plt\n",
    "\n",
    "df = pd.read_csv('./data/selectedData.csv') # Import data into environment\n",
    "df.head()"
   ]
  },
  {
   "cell_type": "markdown",
   "metadata": {},
   "source": [
    "To start wrangling the data, we first looked at the dimensions of the data and the unique variable names."
   ]
  },
  {
   "cell_type": "code",
   "execution_count": null,
   "metadata": {},
   "outputs": [],
   "source": [
    "# wrangling\n",
    "print(df.shape, '\\n') # List the dimensions of df\n",
    "print(df.dtypes, '\\n') # The types of the variables\n",
    "print(df.columns, '\\n') # Column names"
   ]
  },
  {
   "cell_type": "markdown",
   "metadata": {},
   "source": [
    "Many of the variables are of the \"object\" data type; because these data are categorical, this is okay.\n",
    "We looked at age, year, and work status first. Per good data management practices, any data that we manipulated was put into a separate dataframe, which we called \"gdf.\""
   ]
  },
  {
   "cell_type": "code",
   "execution_count": null,
   "metadata": {},
   "outputs": [],
   "source": [
    "# Age\n",
    "var = 'age'\n",
    "print(df[var].describe(),'\\n') # 72390-71612=769 missing values\n",
    "print(df[var].unique(),'\\n') # missing values are already in nan format\n",
    "df[var].hist(bins=50) # Initial histogram, odd spikes may be due to how survey was previously administered"
   ]
  },
  {
   "cell_type": "code",
   "execution_count": null,
   "metadata": {},
   "outputs": [],
   "source": [
    "print('Total Missings: \\n', sum(df[var].isnull()),'\\n') # says 769 are missing, matches expected\n",
    "gdf = df.loc[df[var].isnull() == 0, :] # makes df where only values that aren't null are included\n",
    "print('Total Missings after nans removed: \\n', sum(gdf[var].isnull()),'\\n') # checks to see if nans were removed"
   ]
  },
  {
   "cell_type": "code",
   "execution_count": null,
   "metadata": {},
   "outputs": [],
   "source": [
    "# Year\n",
    "var = 'year'\n",
    "print(df[var].describe(),'\\n') # 72390-72390=0 missing values, no nans to remove\n",
    "df[var].hist(bins=50) # Initial histogram\n",
    "# can see that the GSS was previously conducted annually\n",
    "# since the mid-90s, the survey has only been conducted on even numbered years."
   ]
  },
  {
   "cell_type": "code",
   "execution_count": null,
   "metadata": {},
   "outputs": [],
   "source": [
    "# Work status\n",
    "var = 'wrkstat'\n",
    "print(df[var].describe(),'\\n') # 72390-72354=36 missing values expected\n",
    "print(df[var].unique(),'\\n') # 8 categories not including nan (will remove nans and \"other\")\n",
    "print(df[var].value_counts(), '\\n')\n",
    "print(df[var].hist(bins=8,grid=False), '\\n') # plot\n",
    "plt.xticks(rotation=90) # makes plot readable\n",
    "df[var+'_NA'] = df[var].isnull() # Create a bond missing dummy; long tail\n",
    "print('Total Missings: \\n', sum(df[var+'_NA']),'\\n') # 36 missing values, already in nan form"
   ]
  },
  {
   "cell_type": "code",
   "execution_count": null,
   "metadata": {},
   "outputs": [],
   "source": [
    "gdf.loc[gdf[var] == 'with a job, but not at work because of temporary illness, vacation, strike', var] = 'with job, not at work rn' #shortening variable name  \n",
    "gdf = gdf.loc[gdf['wrkstat'].isnull() == 0,:] # Removing the nan values as only 36 \n",
    "gdf = gdf.loc[gdf['wrkstat'] != 'other',:] # Even though there are 1,643 \"other\" values, we decided to remove them\n",
    "print(gdf[var].value_counts(), '\\n')\n",
    "gdf = gdf.rename(columns = {'wrkstat': 'work status'})"
   ]
  },
  {
   "cell_type": "markdown",
   "metadata": {},
   "source": [
    "Now we then investigated income and converted the entries into real dollar amounts. We also cleaned work satisfaction and financial satisfaction. For this lab, we decided to drop null values from the data, as we were not confident in a method of interpolating values. However, after recent classes, we would likely use k-nearest neighbor in the future to handle some of the variable that included large amount of missing data, such as \"rnicome,\" \"happy,\" \"satfin,\" and \"satjob.\"\n",
    "\n",
    "To clean \"rincome,\" we converted the income values into term of real dollars so a more meaningful temporal comparison could be made. Categories that adjusted incomes had been made, but we decided to use the non-adjusted values and do the conversion ourselves."
   ]
  },
  {
   "cell_type": "code",
   "execution_count": null,
   "metadata": {},
   "outputs": [],
   "source": [
    "# Income\n",
    "cpi = pd.read_excel('./Data/cpi.xlsx') #data from website https://liberalarts.oregonstate.edu/spp/polisci/faculty-staff/robert-sahr/inflation-conversion-factors-years-1774-estimated-2024-dollars-recent-years/individual-year-conversion-factor-table-0 \n",
    "                                    # in a new excel with the year and conversion factor for money for that year to 2016, estimates 2017 to 2022 conversion factor to 2016\n",
    "print(cpi.head()) #values from cpi data\n",
    "\n",
    "var = 'rincome'\n",
    "print(df[var].describe(),'\\n') # 72390-42333=30057 missing values\n",
    "print(df[var].unique(),'\\n') # missing values are already in nan format\n",
    "df[var].hist(bins=12) # odd spikes may be due to how survey previously pooled ages (Methodological 56)\n",
    "plt.xticks(rotation=90)\n",
    "df[var+'_NA'] = df[var].isnull() # Create a bond missing dummy; long tail\n",
    "print('Total Missings: \\n', sum(df[var+'_NA']),'\\n') # missing values match expected"
   ]
  },
  {
   "cell_type": "markdown",
   "metadata": {},
   "source": [
    "For income, we decided to make the variable numeric. To do this, we took the average value of each income range and set it as a numeric category."
   ]
  },
  {
   "cell_type": "code",
   "execution_count": null,
   "metadata": {},
   "outputs": [],
   "source": [
    "gdf = gdf.loc[gdf['rincome'].isnull() == 0,:] # remove nans\n",
    "gdf = gdf.replace(['$1,000 to $2,999','$15,000 to $19,999','$7,000 to $7,999','$8,000 to $9,999','$20,000 to $24,999','$4,000 to $4,999','$10,000 to $14,999','$25,000 or more','$3,000 to $3,999','under $1,000','$5,000 to $5,999','$6,000 to $6,999'], \n",
    "                [1500,17500,7500,9000,22500,4500,12500,25000,3500,1000,5500,6500]) # replace with middle\n",
    "print(gdf[var].unique(),'\\n') # check"
   ]
  },
  {
   "cell_type": "markdown",
   "metadata": {},
   "source": [
    "To merge the data from the GSS and the time value conversion factors, we joined the tables on the variable \"year.\""
   ]
  },
  {
   "cell_type": "code",
   "execution_count": null,
   "metadata": {},
   "outputs": [],
   "source": [
    "md = cpi.merge(gdf, on='year') #merging the data from the cpi and the data file cleaning on the common relation of year                                   \n",
    "md['Income_2016'] = (md[var]/md['cf']) #creating the income related to the year of 2016 through the conversion factor -- divide the income by the conversion factor for that year\n",
    "print(md.loc[md['year'] == 2022, 'cf']) #cf from 2022 to 2016 is 1.149"
   ]
  },
  {
   "cell_type": "code",
   "execution_count": null,
   "metadata": {},
   "outputs": [],
   "source": [
    "md['real_income'] = md['Income_2016'] *(1.149) # multiply the income from 2016 by the conversion factor for 2022 to get the value of money in 2022\n",
    "md['real_income'].value_counts()\n",
    "print(md.describe(),'\\n')\n",
    "md['real_income'].hist(bins=12)"
   ]
  },
  {
   "cell_type": "code",
   "execution_count": null,
   "metadata": {},
   "outputs": [],
   "source": [
    "gdf = gdf.rename(columns = {'rincome': 'income'})\n",
    "gdf['income'] = md['real_income']"
   ]
  },
  {
   "cell_type": "markdown",
   "metadata": {},
   "source": [
    "It is important to note that the \"happy\" variable was adjusted in 1972 and 1985 by the GSS to correct for leading questions asked before the personal happiness question that skewed answers. Also, 1986 and 1987 variant data was removed by the GSS."
   ]
  },
  {
   "cell_type": "code",
   "execution_count": null,
   "metadata": {},
   "outputs": [],
   "source": [
    "#happy\n",
    "var = 'happy'\n",
    "print(df[var].describe(),'\\n') # 72390-67588=4,802 missing values expected\n",
    "print(df[var].unique(),'\\n') # 3 categories not including nan\n",
    "print(df[var].value_counts(), '\\n')\n",
    "print(df[var].hist(bins=3,grid=False), '\\n')\n",
    "df[var+'_NA'] = df[var].isnull() # Create a bond missing dummy; long tail\n",
    "print('Total Missings: \\n', sum(df[var+'_NA']),'\\n') #number of missings is same as nan\n",
    "#assuming missing values is that people are unhappy"
   ]
  },
  {
   "cell_type": "code",
   "execution_count": null,
   "metadata": {},
   "outputs": [],
   "source": [
    "gdf.loc[gdf[var].isnull(), var] = 'not happy' # Changing rows with nans to a new category called \"not happy\"\n",
    "print('Total Missings: \\n', sum(gdf[var].isnull()),'\\n') # checks that nulls were renamed"
   ]
  },
  {
   "cell_type": "code",
   "execution_count": null,
   "metadata": {},
   "outputs": [],
   "source": [
    "#satfin\n",
    "var = 'satfin'\n",
    "print(df[var].describe(),'\\n') # 72390-67722=4,668 missing values expected\n",
    "print(df[var].unique(),'\\n') # 3 categories not including nan\n",
    "print(df[var].value_counts(), '\\n')\n",
    "print(df[var].hist(bins=3,grid=False), '\\n')\n",
    "df[var+'_NA'] = df[var].isnull() # Create a bond missing dummy; long tail\n",
    "print('Total Missings: \\n', sum(df[var+'_NA']),'\\n') #number of missings is same as nan"
   ]
  },
  {
   "cell_type": "code",
   "execution_count": null,
   "metadata": {},
   "outputs": [],
   "source": [
    "gdf = gdf.loc[gdf['satfin'].isnull() == 0,:] # remove nans\n",
    "gdf = gdf.rename(columns = {'satfin': 'financial satisfaction'})"
   ]
  },
  {
   "cell_type": "code",
   "execution_count": null,
   "metadata": {},
   "outputs": [],
   "source": [
    "#satjob\n",
    "var = 'satjob'\n",
    "print(df[var].describe(),'\\n') # 72390-51887=20,503 missing values expected\n",
    "print(df[var].unique(),'\\n') # 4 categories not including nan\n",
    "print(df[var].value_counts(), '\\n')\n",
    "print(df[var].hist(bins=4,grid=False), '\\n')\n",
    "df[var+'_NA'] = df[var].isnull() # Create a bond missing dummy; long tail\n",
    "print('Total Missings: \\n', sum(df[var+'_NA']),'\\n') #number of expected missings is same as nan"
   ]
  },
  {
   "cell_type": "code",
   "execution_count": null,
   "metadata": {},
   "outputs": [],
   "source": [
    "gdf = gdf.loc[gdf[var].isnull() == 0,:] # remove nans\n",
    "gdf = gdf.rename(columns = {'satjob': 'job satisfaction'})"
   ]
  },
  {
   "cell_type": "markdown",
   "metadata": {},
   "source": [
    "Once the data was cleaned, we took a look at the dataframe without missing values. Below, one can see the variable names have been changed to more clearly describe the values contained in the variable and there are no longer missing values."
   ]
  },
  {
   "cell_type": "code",
   "execution_count": null,
   "metadata": {},
   "outputs": [],
   "source": [
    "gdf.head()"
   ]
  },
  {
   "cell_type": "code",
   "execution_count": null,
   "metadata": {},
   "outputs": [],
   "source": [
    "print(gdf.shape) # 72,390-36,702=35,688 rows removed while cleaning\n",
    "gdf.describe()"
   ]
  },
  {
   "cell_type": "markdown",
   "metadata": {},
   "source": [
    "# Results\n",
    "Show visualizations and discuss findings...\n",
    "\n",
    "### Research Question 1 "
   ]
  },
  {
   "cell_type": "markdown",
   "metadata": {},
   "source": [
    "### Research Question 2 "
   ]
  },
  {
   "cell_type": "code",
   "execution_count": 5,
   "metadata": {},
   "outputs": [],
   "source": [
    "import seaborn as sns\n",
    "import pandas as pd\n",
    "import matplotlib.pyplot as plt"
   ]
  },
  {
   "cell_type": "code",
   "execution_count": 6,
   "metadata": {},
   "outputs": [
    {
     "ename": "NameError",
     "evalue": "name 'gdf' is not defined",
     "output_type": "error",
     "traceback": [
      "\u001b[0;31m---------------------------------------------------------------------------\u001b[0m",
      "\u001b[0;31mNameError\u001b[0m                                 Traceback (most recent call last)",
      "\u001b[0;32m<ipython-input-6-3676839738fd>\u001b[0m in \u001b[0;36m<module>\u001b[0;34m\u001b[0m\n\u001b[1;32m      1\u001b[0m \u001b[0;31m# find value vounts for each variable so the box plot\u001b[0m\u001b[0;34m\u001b[0m\u001b[0;34m\u001b[0m\u001b[0;34m\u001b[0m\u001b[0m\n\u001b[1;32m      2\u001b[0m \u001b[0;31m# can be made properly\u001b[0m\u001b[0;34m\u001b[0m\u001b[0;34m\u001b[0m\u001b[0;34m\u001b[0m\u001b[0m\n\u001b[0;32m----> 3\u001b[0;31m \u001b[0mgdf\u001b[0m\u001b[0;34m[\u001b[0m\u001b[0;34m'happy'\u001b[0m\u001b[0;34m]\u001b[0m\u001b[0;34m.\u001b[0m\u001b[0mvalue_counts\u001b[0m\u001b[0;34m(\u001b[0m\u001b[0;34m)\u001b[0m\u001b[0;34m\u001b[0m\u001b[0;34m\u001b[0m\u001b[0m\n\u001b[0m\u001b[1;32m      4\u001b[0m \u001b[0mgdf\u001b[0m\u001b[0;34m[\u001b[0m\u001b[0;34m'job satisfaction'\u001b[0m\u001b[0;34m]\u001b[0m\u001b[0;34m.\u001b[0m\u001b[0mvalue_counts\u001b[0m\u001b[0;34m(\u001b[0m\u001b[0;34m)\u001b[0m\u001b[0;34m\u001b[0m\u001b[0;34m\u001b[0m\u001b[0m\n\u001b[1;32m      5\u001b[0m \u001b[0mgdf\u001b[0m\u001b[0;34m[\u001b[0m\u001b[0;34m'financial satisfaction'\u001b[0m\u001b[0;34m]\u001b[0m\u001b[0;34m.\u001b[0m\u001b[0mvalue_counts\u001b[0m\u001b[0;34m(\u001b[0m\u001b[0;34m)\u001b[0m\u001b[0;34m\u001b[0m\u001b[0;34m\u001b[0m\u001b[0m\n",
      "\u001b[0;31mNameError\u001b[0m: name 'gdf' is not defined"
     ]
    }
   ],
   "source": [
    "# find value vounts for each variable so the box plot\n",
    "# can be made properly \n",
    "gdf['happy'].value_counts()\n",
    "gdf['job satisfaction'].value_counts()\n",
    "gdf['financial satisfaction'].value_counts()"
   ]
  },
  {
   "cell_type": "code",
   "execution_count": null,
   "metadata": {},
   "outputs": [],
   "source": [
    "# first box plot \n",
    "plt.figure(figsize=(12, 6))\n",
    "sns.boxplot(data=gdf, x='age', y='happy', order=[\"very happy\", \"pretty happy\", \"not too happy\", \"not happy\" ])\n",
    "plt.title('Age vs. Happiness')\n",
    "plt.xlabel('Age')\n",
    "plt.ylabel('Happiness')\n",
    "plt.xticks(rotation=45)\n",
    "plt.show()"
   ]
  },
  {
   "cell_type": "markdown",
   "metadata": {},
   "source": [
    "1. Age and Happiness: The research shows that the mean age for people reporting very high happiness is older, but roughly the mean ages for those reported they are 'very happy', 'pretty happy' and 'not too happy' are generally around the same age (~40 years old). This suggests that generally younger people are slightly more unhappy, but then it is difficult to assert why the results after that are so varied. "
   ]
  },
  {
   "cell_type": "code",
   "execution_count": null,
   "metadata": {},
   "outputs": [],
   "source": [
    "# second box plot \n",
    "plt.figure(figsize=(12, 6))\n",
    "sns.boxplot(data=gdf, x='age', y='financial satisfaction', order=[\"pretty well satisfied\", \"more or less satisfied\", \n",
    "                                                            \"not satisfied at all\"])\n",
    "plt.title('Age vs. Financial Satisfaction')\n",
    "plt.xlabel('Age')\n",
    "plt.ylabel('Financial Satisfaction')\n",
    "plt.xticks(rotation=45)\n",
    "plt.show()"
   ]
  },
  {
   "cell_type": "markdown",
   "metadata": {},
   "source": [
    "2. Age and Financial Satisfaction: The research indicates that the mean age for individuals reporting high financial satisfaction is older (~44). This implies that financial satisfaction tends to increase with age, possibly due to career progression and accumulation of wealth. This finding aligns with the life-course theory, which suggests that people become more financially satisfied as they progress through life stages."
   ]
  },
  {
   "cell_type": "code",
   "execution_count": null,
   "metadata": {},
   "outputs": [],
   "source": [
    "# third box plot \n",
    "plt.figure(figsize=(12, 6))\n",
    "sns.boxplot(data=gdf, x='age', y='job satisfaction', order=[\"very satisfied\", \"moderately satisfied\", \n",
    "                                                           \"a little dissatisfied\", \"very dissatisfied\"])\n",
    "plt.title('Age vs. Work Satisfaction')\n",
    "plt.xlabel('Age')\n",
    "plt.ylabel('Work Satisfaction')\n",
    "plt.xticks(rotation=45)\n",
    "plt.show()"
   ]
  },
  {
   "cell_type": "markdown",
   "metadata": {},
   "source": [
    "3. Age and Job Satisfaction: The analysis reveals that the mean age for very high job satisfaction is older (~43). This suggests that job satisfaction tends to increase with age, possibly due to career stability, experience, and finding one's professional niche."
   ]
  },
  {
   "cell_type": "markdown",
   "metadata": {},
   "source": [
    "The research strategy employed in this question involved the use of box plots to visually compare age and satisfaction levels. The use of box plots is an effective visual representation of the data, allowing for a quick comparison of age and different types of satisfaction. "
   ]
  },
  {
   "cell_type": "markdown",
   "metadata": {},
   "source": [
    "# Conclusion\n",
    "Re-summarize the project, defend from criticism, suggest future work...\n",
    "\n",
    "### Research Question 1 \n",
    "\n",
    "### Research Question 2\n",
    "The research question does not delve into the reasons behind the observed age-satisfaction relationships. While it identifies trends, it does not explain why these trends exist. Additionally, the research does not consider potential confounding variables that may affect satisfaction levels, such as social and economic factors.\n",
    "To build upon this research, it is essential to investigate the factors causing unhappiness, especially among younger individuals. Exploring the role of loneliness, economic instability, and career prospects in happiness and life satisfaction could be a valuable extension of this project. Additionally, examining how external factors, such as societal changes or economic conditions, influence these age-satisfaction relationships would provide a more comprehensive understanding. "
   ]
  },
  {
   "cell_type": "markdown",
   "metadata": {},
   "source": [
    "# Works Cited\n",
    "\n",
    "Davern, Michael; Bautista, Rene; Freese, Jeremy; Herd, Pamela; and Morgan, Stephen L.; *General Social Survey\n",
    "1972-2022*. [Machine-readable data file]. Principal Investigator, Michael Davern; Co-Principal Investigators,\n",
    "Rene Bautista, Jeremy Freese, Pamela Herd, and Stephen L. Morgan. NORC ed. Chicago, 2023. 1 datafile\n",
    "(Release 1) and 1 codebook (2022 Release 1).\n",
    "\n",
    "Smith, T.S. (October, 1988). *GSS Methodological Report No. 56*. University of Chicago. The National Science Foundation, Grant No. SES-8747227.https://gss.norc.org/Documents/reports/methodological-reports/MR056.pdf"
   ]
  }
 ],
 "metadata": {
  "kernelspec": {
   "display_name": "Python 3",
   "language": "python",
   "name": "python3"
  },
  "language_info": {
   "codemirror_mode": {
    "name": "ipython",
    "version": 3
   },
   "file_extension": ".py",
   "mimetype": "text/x-python",
   "name": "python",
   "nbconvert_exporter": "python",
   "pygments_lexer": "ipython3",
   "version": "3.8.8"
  }
 },
 "nbformat": 4,
 "nbformat_minor": 5
}
