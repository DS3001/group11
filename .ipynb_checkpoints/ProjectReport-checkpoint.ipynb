{
 "cells": [
  {
   "cell_type": "markdown",
   "source": [
    "# Project 1: Trends in General Happiness versus Financial Satisfaction and Work Satisfaction Over Time\n",
    "## Group 11\n",
    "- Elizabeth Hunter (mwm6nq)\n",
    "- Michael Hijduk (aqt7bt)\n",
    "- Eva Massarelli (ecm8yu)\n",
    "- Anjali Mehta (wfn7ad)\n",
    "- Anika Potluri (agu4yh)\n",
    "## ! git clone https://www.github.com/DS3001/group11\n",
    "\n",
    "# Summary\n",
    "Research question(s), overview of methods and findings. Make sure to reference the codebook and describe the research strategy...\n",
    "\n",
    "# Data\n",
    "Describe the source of data, variables, and challenges weaving in the cleaning code as is relevant. \n",
    "\n",
    "Create wrangling and exploratory data analysis as subsections here..."
   ],
   "metadata": {
    "collapsed": false
   },
   "id": "e28d7aa0d2305758"
  },
  {
   "cell_type": "code",
   "execution_count": null,
   "outputs": [],
   "source": [
    "import pandas as pd\n",
    "\n",
    "df = pd.read_csv('./data/selectedData.csv')"
   ],
   "metadata": {
    "collapsed": false
   },
   "id": "af097f5d36bd1d0"
  },
  {
   "cell_type": "markdown",
   "source": [
    "# Results\n",
    "Show visualizations and discuss findings...\n",
    "\n",
    "# Conclusion\n",
    "Re-summarize the project, defend from criticism, suggest future work..."
   ],
   "metadata": {
    "collapsed": false
   },
   "id": "750d49a84f40c59d"
  }
 ],
 "metadata": {
  "kernelspec": {
   "display_name": "Python 3",
   "language": "python",
   "name": "python3"
  },
  "language_info": {
   "codemirror_mode": {
    "name": "ipython",
    "version": 2
   },
   "file_extension": ".py",
   "mimetype": "text/x-python",
   "name": "python",
   "nbconvert_exporter": "python",
   "pygments_lexer": "ipython2",
   "version": "2.7.6"
  }
 },
 "nbformat": 4,
 "nbformat_minor": 5
}
