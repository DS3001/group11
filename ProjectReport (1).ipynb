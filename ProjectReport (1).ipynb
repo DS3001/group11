{
 "cells": [
  {
   "cell_type": "markdown",
   "metadata": {},
   "source": [
    "# Project 1: Trends in General Happiness versus Financial Satisfaction and Work Satisfaction Over Time\n",
    "## Group 11\n",
    "- Elizabeth Hunter (mwm6nq)\n",
    "- Michael Hijduk (aqt7bt)\n",
    "- Eva Massarelli (ecm8yu)\n",
    "- Anjali Mehta (wfn7ad)\n",
    "- Anika Potluri (agu4yh)\n",
    "## ! git clone https://www.github.com/DS3001/group11\n",
    "\n",
    "# Summary\n",
    "\n",
    "Research question(s), overview of methods and findings. Make sure to reference the codebook and describe the research strategy...\n",
    "\n",
    "The goal through this project was to learn more about happiness and what causes happiness to change. After lots of brainstorming and sorting through the codebook of the data source, the two questions aimed to be answered were what is the relationship between age and general happiness/satisfaction and does work and financial satisfaction correlate with the general trend of happiness. The General Social Survey from 2022 was used as our data source to answer the question, and its codebook also helped determine what variables fit our question best through there explanations. The variables chosen from the giant survey to answer the questions were age, year, wrkstat, rincome, happy, and satfin. To analyze the relationship between age and happiness, the following are questions that explored this general theme: what age are people happiest, what age are people most financially satisfied, and what age are people most satisfied with their job. NEXTTT After creating a new data file, cleaning, wrangling, making many graphs, and interpreting the graphs, the conclusions made were that after many box plots created, at the age of 40 people experienced more satisfaction overall and in life and more happiness and THAT....\n",
    "\n",
    "\n",
    "### Research Question 1\n",
    "\n",
    "### Research Question 2 \n",
    "\n",
    "DELETE\n",
    "\n",
    "One of the general topics this research project aimed to explore is what is the relationship between age and general happiness/satisfaction. The following are questions that explored this general theme: what age are people happiest, what age are people most financially satisfied, and what age are people most satisfied with their job. The project employed box plots to explore these questions and analyze the relationship between age and different forms of satisfaction. This analysis assesses the main findings, the statistical support for conclusions, the research strategy, and the interpretation of results.\n",
    "\n",
    "# Data\n",
    "Describe the source of data, variables, and challenges weaving in the cleaning code as is relevant. \n",
    "Data used for this project was sourced from the General Social Survey (GSS), a public opinion survey which has been administered annually or biennially in the U.S. starting in 1972. It is important to note that according to the GSS 2022 release notes:\n",
    "\n",
    "\"Changes in opinions, attitudes, and behaviors observed in 2021 and 2022 relative to historical trends may be due to actual change in concept over time and/or may have resulted from methodological changes made to the survey methodology during the COVID-19 global pandemic. Research and interpretation done using the 2021 and 2022 GSS data should take extra care to ensure the analysis reflects actual changes in public opinion and is not unduly influenced by the change in data collection methods. For more information on the 2021 and 2022 GSS methodology and its implications, please visit https://gss.norc.org/Get-The-Data.\"\n",
    "\n",
    "To simplify the importation of the large data set, the data was imported into R and variables of interest to our question, shown in data dictionary below, were seleted and exported to a comma separated value file. \n",
    "\n",
    "| Variable        | Description                                                      | Potential Reponses |\n",
    "| --- | --- | --- |\n",
    "| AGE     | indicates the respondent's age |                     |\n",
    "| YEAR    | indicates the year of the respondent's answers     |               |\n",
    "| WRKSTAT | Answers the question: Last week were you working full time, part time, going to school, keeping house, or what?       | \"working full time,\" \"working part time,\" \"with a job, but not at work because of temporary illness, vacation, strike,\" \"unemployed, laid off, looking for work,\" \"retired,\" \"in school,\" \"keeping house,\" \"other\"  |\n",
    "| RINCOME | Answers the question: Did you earn any income from [OCCUPATION DESCRIBED IN OCC-INDUSTRY] in [the last year]? |  \"under \\\\$1,000,\"  \"\\\\$1,000 to \\\\$2,999,\"  \"\\\\$3,000 to \\\\$3,999,\"  \"\\\\$4,000 to \\\\$4,999,\"  \"\\\\$5,000 to \\\\$5,999,\"  \"\\\\$6,000 to \\\\$6,999,\"  \"\\\\$7,000 to \\\\$7,999\"   |\n",
    "| HAPPY   | Answers the question: how would you say things are these days--would you say that you are very happy, pretty happy, or not too happy?    | \"very happy,\" \"pretty happy,\" \"not too happy\"       |\n",
    "| SATFIN  | Answers the question: We are interested in how people are getting along financially these days. So far as you and your family are concerned, would you say that you are pretty well satisfied with your present financial situation, more or less satisfied, or not satisfied at all?  | \"pretty well satisfied,\" \"more or less satisfied,\" \"not satisfied at all\" |\n",
    "| SATJOB  | Answers the question: On the whole, how satisfied are you with the work you do -- would you say you are very satisfied, moderately satisfied, a little dissatisfied, or very dissatisfied?    | \"very satisfied,\" \"moderately satisfied,\" \"a little dissatisfied,\" \"very dissatisfied\" |\n",
    "\n",
    "To preform an accurate analysis of the data, first the data must be cleaned/wrangled. To clean the data we used the functions of shape, dtypes, and columns very often to compare the before and after clearning and changing the orginal and new data files. This gave us information about the types of data in each variable, and the desired data count for each variable, so we can find the missings and understand how big the data file is. The first variable we took on was the age variable. Through the describe function we were able to compare the count value of age and the whole data frame, and found that this numeric variable had 769 missing values which is a small portion of 70,000 data set. The unique function showed that only the 'odd' data was null data and it was already in the correct form. As we were unable to assume what age the 700+ people meant to record, we decided to remove the data. Analazing the histogram showed high spikes in age for younger years around 20 to 40, which could be from how the survey was disrupted.(LOOK AT LATER) The next variable we looked at was the year, there were no missing values or 'odd' values, so nothing to clean. The one interesting conclsuion from looking at the year data was that the GSS use to be conducuted anually and now its conducted on every even year. The next variable looked at was work status. There 9 types of 'statuses' (incluiding Nan and other). There are 36 missing values and 1643 'other' values. We used the cross tab function to help us determine how to proceed with the missing and other values. We compared the missing values and other values with the job satisfaction variable, there was no trend for either one pointing to certain job satification level due to not many people filling out the job satisfaction when they had not filled out the job status question. This made us lean towards the idea that people did not fill out any of the information about there job for any section. We also looked at the income analysis compared to other, unemployed, and nulls. Again the other and nulls did not have data filled out for most of there values for the income. We started to think that they did not fill out this information as they were unemployeed. We looked at unemployment with the income using cross tab, and there were values for most peoples income when they were unemployed. Our endning solution was to remove the other and null values for work status as we did not see another work status that seemed to fit them and figured they had many nulls correlating in other variables we are looking at. We also changed one of the possible values for work status to a shorted description, 'with job, not at work rn'. We also changed this heading of the variable to 'work status'.\n",
    "\n",
    "The next variable we looked at was the income variable. Due to the income being calculuted over a time period of 50 years, there has been a lot of inflantion. To fix this problem with the variable, we used the formula of dividing the income by the conversion factor to a certain year for all values so they all hold the same weight. The first step was to convert all of the string values into numeric values of income. We used the median number between the two values of the string for this value. After changing the string values, we needed to coerce the variable to a numeric data type. We also decided to remove the missing values as there was no way to assume what the potenial income could be and since there are so many missing values, a major assumptions could alter our analysis. This website https://liberalarts.oregonstate.edu/sites/liberalarts.oregonstate.edu/files/polisci/faculty-research/sahr/inflation-conversion/pdf/cv2016.pdf provided data of the conversion factors from the year 1974 to 2027 (use predicted values after 2017) to the year of 2016. We put this data of the year and the conversion factor for the years we needed data in an excel file and uploaded the excel file called cpi. We merged the cpi file and our data frame based on year to create a new data frame, so a new variable was created for the conversion factor at each data point. We created a new variable called Income_216 for the income of each year converted to income in 2016. To get the income for the year of 2022 a more recent year that we have a better understanding of income value, we created a varible of the conversion factor from 2016 to 2022. We used this variable to multiply all the incomes in 2016 form to get there value in 2022 again in a new variable called 'real_income'. We replaced the 'rincome' values with the 'real_income' values. We also changed the 'rincome' name to 'income'. We looked at the next variable happy, we determined there were 4,802 null values. We decided that people that were not happy most likeley were the ones that did not fill out that question as its very hard to admit to yourself your true feelings of unhappiness. Instead of removing those nulls values, we changed there value to 'not too happy' another description already present in the happy variable. That was the only change nescessry to happy. Next we looked at the finacial satifaction variable. There were around 4,000 missing values, we decided to take a similar approach for this variable like the happiness variable and instead of removing the nulls, we changed there value to 'not satisfied' an already present description of the variable. We also changed the description of the variable to 'finacial satisfaction'. Lastly we looked at job satisfaction variable. Due to the large amount of missing values (20,503), we decided to remove them as we did not want to alter the analysis with a huge assumption of the null values. We also changed the title of the variable to 'job satisfaction'. "
   ]
  },
  {
   "cell_type": "code",
   "execution_count": 97,
   "metadata": {
    "collapsed": false,
    "jupyter": {
     "outputs_hidden": false
    }
   },
   "outputs": [
    {
     "data": {
      "text/html": [
       "<div>\n",
       "<style scoped>\n",
       "    .dataframe tbody tr th:only-of-type {\n",
       "        vertical-align: middle;\n",
       "    }\n",
       "\n",
       "    .dataframe tbody tr th {\n",
       "        vertical-align: top;\n",
       "    }\n",
       "\n",
       "    .dataframe thead th {\n",
       "        text-align: right;\n",
       "    }\n",
       "</style>\n",
       "<table border=\"1\" class=\"dataframe\">\n",
       "  <thead>\n",
       "    <tr style=\"text-align: right;\">\n",
       "      <th></th>\n",
       "      <th>age</th>\n",
       "      <th>year</th>\n",
       "      <th>wrkstat</th>\n",
       "      <th>rincome</th>\n",
       "      <th>happy</th>\n",
       "      <th>satfin</th>\n",
       "      <th>satjob</th>\n",
       "    </tr>\n",
       "  </thead>\n",
       "  <tbody>\n",
       "    <tr>\n",
       "      <th>0</th>\n",
       "      <td>23.0</td>\n",
       "      <td>1972</td>\n",
       "      <td>working full time</td>\n",
       "      <td>NaN</td>\n",
       "      <td>not too happy</td>\n",
       "      <td>not satisfied at all</td>\n",
       "      <td>a little dissatisfied</td>\n",
       "    </tr>\n",
       "    <tr>\n",
       "      <th>1</th>\n",
       "      <td>70.0</td>\n",
       "      <td>1972</td>\n",
       "      <td>retired</td>\n",
       "      <td>NaN</td>\n",
       "      <td>not too happy</td>\n",
       "      <td>more or less satisfied</td>\n",
       "      <td>NaN</td>\n",
       "    </tr>\n",
       "    <tr>\n",
       "      <th>2</th>\n",
       "      <td>48.0</td>\n",
       "      <td>1972</td>\n",
       "      <td>working part time</td>\n",
       "      <td>NaN</td>\n",
       "      <td>pretty happy</td>\n",
       "      <td>pretty well satisfied</td>\n",
       "      <td>moderately satisfied</td>\n",
       "    </tr>\n",
       "    <tr>\n",
       "      <th>3</th>\n",
       "      <td>27.0</td>\n",
       "      <td>1972</td>\n",
       "      <td>working full time</td>\n",
       "      <td>NaN</td>\n",
       "      <td>not too happy</td>\n",
       "      <td>not satisfied at all</td>\n",
       "      <td>very satisfied</td>\n",
       "    </tr>\n",
       "    <tr>\n",
       "      <th>4</th>\n",
       "      <td>61.0</td>\n",
       "      <td>1972</td>\n",
       "      <td>keeping house</td>\n",
       "      <td>NaN</td>\n",
       "      <td>pretty happy</td>\n",
       "      <td>pretty well satisfied</td>\n",
       "      <td>NaN</td>\n",
       "    </tr>\n",
       "  </tbody>\n",
       "</table>\n",
       "</div>"
      ],
      "text/plain": [
       "    age  year            wrkstat rincome          happy  \\\n",
       "0  23.0  1972  working full time     NaN  not too happy   \n",
       "1  70.0  1972            retired     NaN  not too happy   \n",
       "2  48.0  1972  working part time     NaN   pretty happy   \n",
       "3  27.0  1972  working full time     NaN  not too happy   \n",
       "4  61.0  1972      keeping house     NaN   pretty happy   \n",
       "\n",
       "                   satfin                 satjob  \n",
       "0    not satisfied at all  a little dissatisfied  \n",
       "1  more or less satisfied                    NaN  \n",
       "2   pretty well satisfied   moderately satisfied  \n",
       "3    not satisfied at all         very satisfied  \n",
       "4   pretty well satisfied                    NaN  "
      ]
     },
     "execution_count": 97,
     "metadata": {},
     "output_type": "execute_result"
    }
   ],
   "source": [
    "import pandas as pd\n",
    "import matplotlib.pyplot as plt\n",
    "\n",
    "df = pd.read_csv('./data/selectedData.csv') # Import data into environment\n",
    "df.head()"
   ]
  },
  {
   "cell_type": "markdown",
   "metadata": {},
   "source": [
    "To start wrangling the data, we first looked at the dimensions of the data and the unique variable names."
   ]
  },
  {
   "cell_type": "code",
   "execution_count": 98,
   "metadata": {},
   "outputs": [
    {
     "name": "stdout",
     "output_type": "stream",
     "text": [
      "(72390, 7) \n",
      "\n",
      "age        float64\n",
      "year         int64\n",
      "wrkstat     object\n",
      "rincome     object\n",
      "happy       object\n",
      "satfin      object\n",
      "satjob      object\n",
      "dtype: object \n",
      "\n",
      "Index(['age', 'year', 'wrkstat', 'rincome', 'happy', 'satfin', 'satjob'], dtype='object') \n",
      "\n"
     ]
    }
   ],
   "source": [
    "# wrangling\n",
    "print(df.shape, '\\n') # List the dimensions of df\n",
    "print(df.dtypes, '\\n') # The types of the variables\n",
    "print(df.columns, '\\n') # Column names"
   ]
  },
  {
   "cell_type": "markdown",
   "metadata": {},
   "source": [
    "Many of the variables are of the \"object\" data type; because these data are categorical, this is okay.\n",
    "We looked at age, year, and work status first. Per good data management practices, any data that we manipulated was put into a separate dataframe, which we called \"gdf.\""
   ]
  },
  {
   "cell_type": "code",
   "execution_count": 99,
   "metadata": {},
   "outputs": [
    {
     "name": "stdout",
     "output_type": "stream",
     "text": [
      "30.0    1571\n",
      "32.0    1566\n",
      "34.0    1552\n",
      "28.0    1548\n",
      "33.0    1526\n",
      "        ... \n",
      "18.0     267\n",
      "85.0     221\n",
      "86.0     211\n",
      "87.0     158\n",
      "88.0     130\n",
      "Name: age, Length: 72, dtype: int64 \n",
      "\n",
      "count    71621.000000\n",
      "mean        46.555982\n",
      "std         17.600417\n",
      "min         18.000000\n",
      "25%         32.000000\n",
      "50%         44.000000\n",
      "75%         60.000000\n",
      "max         89.000000\n",
      "Name: age, dtype: float64 \n",
      "\n",
      "[23. 70. 48. 27. 61. 26. 28. 21. 30. 56. 54. 49. 41. 24. 62. 46. 57. 58.\n",
      " 71. 53. 42. 20. 25. 78. 35. 51. 76. 39. 64. 50. 40. 43. 37. 22. 31. 52.\n",
      " 47. 45. 68. 63. 19. 55. 44. 34. 36. 74. 69. 29. 67. 75. 38. 73. 84. 82.\n",
      " 72. 59. 33. 81. 65. 32. nan 60. 80. 66. 77. 18. 79. 83. 85. 88. 87. 89.\n",
      " 86.] \n",
      "\n",
      "count    71621.000000\n",
      "mean        46.555982\n",
      "std         17.600417\n",
      "min         18.000000\n",
      "25%         32.000000\n",
      "50%         44.000000\n",
      "75%         60.000000\n",
      "max         89.000000\n",
      "Name: age, dtype: float64\n"
     ]
    },
    {
     "data": {
      "text/plain": [
       "<AxesSubplot:>"
      ]
     },
     "execution_count": 99,
     "metadata": {},
     "output_type": "execute_result"
    },
    {
     "data": {
      "image/png": "[encoded data removed]",
      "text/plain": [
       "<Figure size 432x288 with 1 Axes>"
      ]
     },
     "metadata": {
      "needs_background": "light"
     },
     "output_type": "display_data"
    }
   ],
   "source": [
    "# Age\n",
    "var = 'age'\n",
    "print(df[var].value_counts(), '\\n') #seeing the assortment of values\n",
    "print(df[var].describe(),'\\n') # 72390-71612=769 missing values\n",
    "print(df[var].unique(),'\\n') # missing values are already in nan format\n",
    "print(df[var].describe())\n",
    "df[var].hist(bins=50) # Initial histogram, odd spikes may be due to how survey was previously administered"
   ]
  },
  {
   "cell_type": "code",
   "execution_count": 100,
   "metadata": {},
   "outputs": [
    {
     "name": "stdout",
     "output_type": "stream",
     "text": [
      "Total Missings: \n",
      " 769 \n",
      "\n",
      "Total Missings after nans removed: \n",
      " 0 \n",
      "\n"
     ]
    }
   ],
   "source": [
    "print('Total Missings: \\n', sum(df[var].isnull()),'\\n') # says 769 are missing, matches expected\n",
    "gdf = df.loc[df[var].isnull() == 0, :] # makes df where only values that aren't null are included\n",
    "print('Total Missings after nans removed: \\n', sum(gdf[var].isnull()),'\\n') # checks to see if nans were removed"
   ]
  },
  {
   "cell_type": "code",
   "execution_count": 101,
   "metadata": {},
   "outputs": [
    {
     "name": "stdout",
     "output_type": "stream",
     "text": [
      "count    72390.000000\n",
      "mean      1997.715541\n",
      "std         15.109995\n",
      "min       1972.000000\n",
      "25%       1985.000000\n",
      "50%       1998.000000\n",
      "75%       2010.000000\n",
      "max       2022.000000\n",
      "Name: year, dtype: float64 \n",
      "\n",
      "[1972 1973 1974 1975 1976 1977 1978 1980 1982 1983 1984 1985 1986 1987\n",
      " 1988 1989 1990 1991 1993 1994 1996 1998 2000 2002 2004 2006 2008 2010\n",
      " 2012 2014 2016 2018 2021 2022] \n",
      "\n"
     ]
    },
    {
     "data": {
      "text/plain": [
       "<AxesSubplot:>"
      ]
     },
     "execution_count": 101,
     "metadata": {},
     "output_type": "execute_result"
    },
    {
     "data": {
      "image/png": "[encoded data removed]",
      "text/plain": [
       "<Figure size 432x288 with 1 Axes>"
      ]
     },
     "metadata": {
      "needs_background": "light"
     },
     "output_type": "display_data"
    }
   ],
   "source": [
    "# Year\n",
    "var = 'year'\n",
    "print(df[var].describe(),'\\n') # 72390-72390=0 missing values, no nans to remove\n",
    "print(df[var].unique(),'\\n')\n",
    "df[var].hist(bins=50) # Initial histogram\n",
    "# can see that the GSS was previously conducted annually\n",
    "# since the mid-90s, the survey has only been conducted on even numbered years."
   ]
  },
  {
   "cell_type": "code",
   "execution_count": 102,
   "metadata": {},
   "outputs": [
    {
     "name": "stdout",
     "output_type": "stream",
     "text": [
      "count                 72354\n",
      "unique                    8\n",
      "top       working full time\n",
      "freq                  35267\n",
      "Name: wrkstat, dtype: object \n",
      "\n",
      "['working full time' 'retired' 'working part time' 'keeping house'\n",
      " 'in school' 'unemployed, laid off, looking for work'\n",
      " 'with a job, but not at work because of temporary illness, vacation, strike'\n",
      " 'other' nan] \n",
      "\n",
      "working full time                                                             35267\n",
      "retired                                                                       10886\n",
      "keeping house                                                                 10764\n",
      "working part time                                                              7430\n",
      "unemployed, laid off, looking for work                                         2621\n",
      "in school                                                                      2187\n",
      "other                                                                          1643\n",
      "with a job, but not at work because of temporary illness, vacation, strike     1556\n",
      "Name: wrkstat, dtype: int64 \n",
      "\n",
      "AxesSubplot(0.125,0.125;0.775x0.755) \n",
      "\n",
      "Total Missings: \n",
      " 36 \n",
      "\n"
     ]
    },
    {
     "data": {
      "image/png": "[encoded data removed]",
      "text/plain": [
       "<Figure size 432x288 with 1 Axes>"
      ]
     },
     "metadata": {
      "needs_background": "light"
     },
     "output_type": "display_data"
    }
   ],
   "source": [
    "# Work status\n",
    "var = 'wrkstat'\n",
    "print(df[var].describe(),'\\n') # 72390-72354=36 missing values expected\n",
    "print(df[var].unique(),'\\n') # 9 categories including nan and other\n",
    "print(df[var].value_counts(), '\\n')\n",
    "print(df[var].hist(bins=8,grid=False), '\\n') # plot\n",
    "plt.xticks(rotation=90) # makes plot readable \n",
    "df[var+'_NA'] = df[var].isnull() # Create a bond missing dummy; long tail \n",
    "print('Total Missings: \\n', sum(df[var+'_NA']),'\\n') # 36 missing values, already in nan form"
   ]
  },
  {
   "cell_type": "code",
   "execution_count": 103,
   "metadata": {},
   "outputs": [
    {
     "name": "stdout",
     "output_type": "stream",
     "text": [
      "satjob      a little dissatisfied  moderately satisfied  very dissatisfied  \\\n",
      "wrkstat_NA                                                                   \n",
      "False                        5156                 19853               2158   \n",
      "True                            1                     1                  0   \n",
      "\n",
      "satjob      very satisfied  \n",
      "wrkstat_NA                  \n",
      "False                24715  \n",
      "True                     3   \n",
      "\n",
      "satjob  a little dissatisfied  moderately satisfied  very dissatisfied  \\\n",
      "other2                                                                   \n",
      "False                    5157                 19853               2157   \n",
      "True                        0                     1                  1   \n",
      "\n",
      "satjob  very satisfied  \n",
      "other2                  \n",
      "False            24717  \n",
      "True                 1   \n",
      "\n",
      "rincome     $1,000 to $2,999  $10,000 to $14,999  $15,000 to $19,999  \\\n",
      "wrkstat_NA                                                             \n",
      "False                   1951                5138                4048   \n",
      "True                       1                   0                   0   \n",
      "\n",
      "rincome     $20,000 to $24,999  $25,000 or more  $3,000 to $3,999  \\\n",
      "wrkstat_NA                                                          \n",
      "False                     4125            18248              1300   \n",
      "True                         0                1                 0   \n",
      "\n",
      "rincome     $4,000 to $4,999  $5,000 to $5,999  $6,000 to $6,999  \\\n",
      "wrkstat_NA                                                         \n",
      "False                   1099              1149              1037   \n",
      "True                       0                 0                 0   \n",
      "\n",
      "rincome     $7,000 to $7,999  $8,000 to $9,999  under $1,000  \n",
      "wrkstat_NA                                                    \n",
      "False                   1031              1840          1365  \n",
      "True                       0                 0             0   \n",
      "\n",
      "rincome  $1,000 to $2,999  $10,000 to $14,999  $15,000 to $19,999  \\\n",
      "un                                                                  \n",
      "False                1807                4896                3875   \n",
      "True                  145                 242                 173   \n",
      "\n",
      "rincome  $20,000 to $24,999  $25,000 or more  $3,000 to $3,999  \\\n",
      "un                                                               \n",
      "False                  4003            17831              1217   \n",
      "True                    122              418                83   \n",
      "\n",
      "rincome  $4,000 to $4,999  $5,000 to $5,999  $6,000 to $6,999  \\\n",
      "un                                                              \n",
      "False                1006              1076               975   \n",
      "True                   93                73                62   \n",
      "\n",
      "rincome  $7,000 to $7,999  $8,000 to $9,999  under $1,000  \n",
      "un                                                         \n",
      "False                 976              1758          1257  \n",
      "True                   55                82           108   \n",
      "\n",
      "rincome  $1,000 to $2,999  $10,000 to $14,999  $15,000 to $19,999  \\\n",
      "other2                                                              \n",
      "False                1936                5110                4033   \n",
      "True                   16                  28                  15   \n",
      "\n",
      "rincome  $20,000 to $24,999  $25,000 or more  $3,000 to $3,999  \\\n",
      "other2                                                           \n",
      "False                  4110            18182              1285   \n",
      "True                     15               67                15   \n",
      "\n",
      "rincome  $4,000 to $4,999  $5,000 to $5,999  $6,000 to $6,999  \\\n",
      "other2                                                          \n",
      "False                1089              1140              1024   \n",
      "True                   10                 9                13   \n",
      "\n",
      "rincome  $7,000 to $7,999  $8,000 to $9,999  under $1,000  \n",
      "other2                                                     \n",
      "False                1025              1827          1348  \n",
      "True                    6                13            17   \n",
      "\n"
     ]
    }
   ],
   "source": [
    "print(pd.crosstab(df[var+'_NA'],df['satjob']),'\\n') # no relation between work satification and null values, total values do not add up as well \n",
    "df['other2'] = df['wrkstat'] == 'other' #new variable for other to use to compare\n",
    "print(pd.crosstab(df['other2'], df['satjob']), '\\n') # totals do not add up for false, so can assume that people who had nulls or other did not fill out any of the job portion of the uestionaire so there is not data to help us come to our conclsuion and anser our question \n",
    "print(pd.crosstab(df['wrkstat_NA'], df['rincome']), '\\n') \n",
    "df['un'] = df['wrkstat'] == 'unemployed, laid off, looking for work'\n",
    "print(pd.crosstab(df['un'], df['rincome']), '\\n') #income still filled out\n",
    "print(pd.crosstab(df['other2'], df['rincome']), '\\n') "
   ]
  },
  {
   "cell_type": "code",
   "execution_count": 104,
   "metadata": {},
   "outputs": [
    {
     "name": "stdout",
     "output_type": "stream",
     "text": [
      "working full time                         34910\n",
      "retired                                   10718\n",
      "keeping house                             10672\n",
      "working part time                          7366\n",
      "unemployed, laid off, looking for work     2589\n",
      "in school                                  2175\n",
      "with job, not at work rn                   1544\n",
      "Name: wrkstat, dtype: int64 \n",
      "\n"
     ]
    },
    {
     "name": "stderr",
     "output_type": "stream",
     "text": [
      "/apps/software/standard/compiler/gcc/9.2.0/jupyter_conda/2020.11-py3.8/lib/python3.8/site-packages/pandas/core/indexing.py:1765: SettingWithCopyWarning: \n",
      "A value is trying to be set on a copy of a slice from a DataFrame.\n",
      "Try using .loc[row_indexer,col_indexer] = value instead\n",
      "\n",
      "See the caveats in the documentation: https://pandas.pydata.org/pandas-docs/stable/user_guide/indexing.html#returning-a-view-versus-a-copy\n",
      "  isetter(loc, value)\n"
     ]
    }
   ],
   "source": [
    "gdf.loc[gdf[var] == 'with a job, but not at work because of temporary illness, vacation, strike', var] = 'with job, not at work rn' #shortening variable name  \n",
    "gdf = gdf.loc[gdf['wrkstat'].isnull() == 0,:] # Removing the nan values as only 36 \n",
    "gdf = gdf.loc[gdf['wrkstat'] != 'other',:] # Even though there are 1,643 \"other\" values, we decided to remove them\n",
    "print(gdf[var].value_counts(), '\\n')\n",
    "gdf = gdf.rename(columns = {'wrkstat': 'work status'})"
   ]
  },
  {
   "cell_type": "markdown",
   "metadata": {},
   "source": [
    "Now we then investigated income and converted the entries into real dollar amounts. We also cleaned work satisfaction and financial satisfaction. For this lab, we decided to drop null values from the data, as we were not confident in a method of interpolating values. However, after recent classes, we would likely use k-nearest neighbor in the future to handle some of the variable that included large amount of missing data, such as \"rnicome,\" \"happy,\" \"satfin,\" and \"satjob.\"\n",
    "\n",
    "To clean \"rincome,\" we converted the income values into term of real dollars so a more meaningful temporal comparison could be made. Categories that adjusted incomes had been made, but we decided to use the non-adjusted values and do the conversion ourselves."
   ]
  },
  {
   "cell_type": "code",
   "execution_count": 105,
   "metadata": {},
   "outputs": [
    {
     "name": "stdout",
     "output_type": "stream",
     "text": [
      "   year     cf\n",
      "0  1968  0.145\n",
      "1  1969  0.153\n",
      "2  1970  0.162\n",
      "3  1971  0.169\n",
      "4  1972  0.174\n",
      "count               42333\n",
      "unique                 12\n",
      "top       $25,000 or more\n",
      "freq                18249\n",
      "Name: rincome, dtype: object \n",
      "\n",
      "[nan '$1,000 to $2,999' '$15,000 to $19,999' '$7,000 to $7,999'\n",
      " '$8,000 to $9,999' '$20,000 to $24,999' '$4,000 to $4,999'\n",
      " '$10,000 to $14,999' '$25,000 or more' '$3,000 to $3,999' 'under $1,000'\n",
      " '$5,000 to $5,999' '$6,000 to $6,999'] \n",
      "\n",
      "Total Missings: \n",
      " 30057 \n",
      "\n"
     ]
    },
    {
     "data": {
      "image/png": "[encoded data removed]",
      "text/plain": [
       "<Figure size 432x288 with 1 Axes>"
      ]
     },
     "metadata": {
      "needs_background": "light"
     },
     "output_type": "display_data"
    }
   ],
   "source": [
    "# Income\n",
    "cpi = pd.read_excel('./data/cpi.xlsx') #data from website https://liberalarts.oregonstate.edu/spp/polisci/faculty-staff/robert-sahr/inflation-conversion-factors-years-1774-estimated-2024-dollars-recent-years/individual-year-conversion-factor-table-0 \n",
    "                                    # in a new excel with the year and conversion factor for money for that year to 2016, estimates 2017 to 2022 conversion factor to 2016\n",
    "print(cpi.head()) #values from cpi data\n",
    "\n",
    "var = 'rincome'\n",
    "print(df[var].describe(),'\\n') # 72390-42333=30057 missing values\n",
    "print(df[var].unique(),'\\n') # missing values are already in nan format\n",
    "df[var].hist(bins=12) # odd spikes may be due to how survey previously pooled ages (Methodological 56)\n",
    "plt.xticks(rotation=90)\n",
    "df[var+'_NA'] = df[var].isnull() # Create a bond missing dummy; long tail\n",
    "print('Total Missings: \\n', sum(df[var+'_NA']),'\\n') # missing values match expected"
   ]
  },
  {
   "cell_type": "markdown",
   "metadata": {},
   "source": [
    "For income, we decided to make the variable numeric. To do this, we took the average value of each income range and set it as a numeric category."
   ]
  },
  {
   "cell_type": "code",
   "execution_count": 106,
   "metadata": {},
   "outputs": [
    {
     "name": "stdout",
     "output_type": "stream",
     "text": [
      "count               41867\n",
      "unique                 12\n",
      "top       $25,000 or more\n",
      "freq                18010\n",
      "Name: rincome, dtype: object \n",
      "\n",
      "count    41867.00000\n",
      "mean     17365.02496\n",
      "std       8546.35000\n",
      "min       1000.00000\n",
      "25%       9000.00000\n",
      "50%      22500.00000\n",
      "75%      25000.00000\n",
      "max      25000.00000\n",
      "Name: rincome, dtype: float64 \n",
      "\n",
      "[ 1500 17500  7500  9000 22500  4500 12500 25000  3500  1000  5500  6500] \n",
      "\n"
     ]
    }
   ],
   "source": [
    "gdf = gdf.loc[gdf['rincome'].isnull() == 0,:] # remove nans\n",
    "print(gdf['rincome'].describe(),'\\n')\n",
    "gdf = gdf.replace(['$1,000 to $2,999','$15,000 to $19,999','$7,000 to $7,999','$8,000 to $9,999','$20,000 to $24,999','$4,000 to $4,999','$10,000 to $14,999','$25,000 or more','$3,000 to $3,999','under $1,000','$5,000 to $5,999','$6,000 to $6,999'], \n",
    "                [1500,17500,7500,9000,22500,4500,12500,25000,3500,1000,5500,6500]) # replace with middle\n",
    "gdf[var] = pd.to_numeric(gdf['rincome'], errors='coerce') # Coerce the variable to numeric\n",
    "print(gdf['rincome'].describe(),'\\n') #check\n",
    "print(gdf[var].unique(),'\\n') # check"
   ]
  },
  {
   "cell_type": "markdown",
   "metadata": {},
   "source": [
    "To merge the data from the GSS and the time value conversion factors, we joined the tables on the variable \"year.\""
   ]
  },
  {
   "cell_type": "code",
   "execution_count": 107,
   "metadata": {},
   "outputs": [
    {
     "name": "stdout",
     "output_type": "stream",
     "text": [
      "count    41867.00000\n",
      "mean     17365.02496\n",
      "std       8546.35000\n",
      "min       1000.00000\n",
      "25%       9000.00000\n",
      "50%      22500.00000\n",
      "75%      25000.00000\n",
      "max      25000.00000\n",
      "Name: rincome, dtype: float64 \n",
      "\n",
      "39974    1.149\n",
      "39975    1.149\n",
      "39976    1.149\n",
      "39977    1.149\n",
      "39978    1.149\n",
      "         ...  \n",
      "41862    1.149\n",
      "41863    1.149\n",
      "41864    1.149\n",
      "41865    1.149\n",
      "41866    1.149\n",
      "Name: cf, Length: 1893, dtype: float64\n"
     ]
    }
   ],
   "source": [
    "md = cpi.merge(gdf, on='year') #merging the data from the cpi and the data file cleaning on the common relation of year                                   \n",
    "print(gdf['rincome'].describe(),'\\n') #check all years were merged\n",
    "md['Income_2016'] = (md[var]/md['cf']) #creating the income related to the year of 2016 through the conversion factor -- divide the income by the conversion factor for that year\n",
    "print(md.loc[md['year'] == 2022, 'cf']) #cf from 2022 to 2016 is 1.149"
   ]
  },
  {
   "cell_type": "code",
   "execution_count": 108,
   "metadata": {},
   "outputs": [
    {
     "name": "stdout",
     "output_type": "stream",
     "text": [
      "               year            cf           age      rincome    Income_2016  \\\n",
      "count  41867.000000  41867.000000  41867.000000  41867.00000   41867.000000   \n",
      "mean    1998.486039      0.692248     41.461414  17365.02496   27462.287865   \n",
      "std       14.184826      0.271401     13.747698   8546.35000   16318.239273   \n",
      "min     1974.000000      0.205000     18.000000   1000.00000     870.322019   \n",
      "25%     1987.000000      0.473000     30.000000   9000.00000   17500.000000   \n",
      "50%     1998.000000      0.679000     40.000000  22500.00000   25773.195876   \n",
      "75%     2010.000000      0.909000     51.000000  25000.00000   35496.957404   \n",
      "max     2022.000000      1.149000     89.000000  25000.00000  121951.219512   \n",
      "\n",
      "         real_income  \n",
      "count   41867.000000  \n",
      "mean    31554.168757  \n",
      "std     18749.656925  \n",
      "min      1000.000000  \n",
      "25%     20107.500000  \n",
      "50%     29613.402062  \n",
      "75%     40786.004057  \n",
      "max    140121.951220   \n",
      "\n"
     ]
    },
    {
     "data": {
      "text/plain": [
       "<AxesSubplot:>"
      ]
     },
     "execution_count": 108,
     "metadata": {},
     "output_type": "execute_result"
    },
    {
     "data": {
      "image/png": "[encoded data removed]",
      "text/plain": [
       "<Figure size 432x288 with 1 Axes>"
      ]
     },
     "metadata": {
      "needs_background": "light"
     },
     "output_type": "display_data"
    }
   ],
   "source": [
    "md['real_income'] = md['Income_2016'] *(1.149) # multiply the income from 2016 by the conversion factor for 2022 to get the value of money in 2022\n",
    "md['real_income'].value_counts()\n",
    "print(md.describe(),'\\n')\n",
    "md['real_income'].hist(bins=12)"
   ]
  },
  {
   "cell_type": "code",
   "execution_count": 109,
   "metadata": {},
   "outputs": [],
   "source": [
    "gdf = gdf.rename(columns = {'rincome': 'income'})\n",
    "gdf['income'] = md['real_income']"
   ]
  },
  {
   "cell_type": "markdown",
   "metadata": {},
   "source": [
    "It is important to note that the \"happy\" variable was adjusted in 1972 and 1985 by the GSS to correct for leading questions asked before the personal happiness question that skewed answers. Also, 1986 and 1987 variant data was removed by the GSS."
   ]
  },
  {
   "cell_type": "code",
   "execution_count": 110,
   "metadata": {},
   "outputs": [
    {
     "name": "stdout",
     "output_type": "stream",
     "text": [
      "count            67588\n",
      "unique               3\n",
      "top       pretty happy\n",
      "freq             37813\n",
      "Name: happy, dtype: object \n",
      "\n",
      "['not too happy' 'pretty happy' 'very happy' nan] \n",
      "\n",
      "pretty happy     37813\n",
      "very happy       20385\n",
      "not too happy     9390\n",
      "Name: happy, dtype: int64 \n",
      "\n",
      "AxesSubplot(0.125,0.125;0.775x0.755) \n",
      "\n",
      "Total Missings: \n",
      " 4802 \n",
      "\n"
     ]
    },
    {
     "data": {
      "image/png": "[encoded data removed]",
      "text/plain": [
       "<Figure size 432x288 with 1 Axes>"
      ]
     },
     "metadata": {
      "needs_background": "light"
     },
     "output_type": "display_data"
    }
   ],
   "source": [
    "#happy\n",
    "var = 'happy'\n",
    "print(df[var].describe(),'\\n') # 72390-67588=4,802 missing values expected\n",
    "print(df[var].unique(),'\\n') # 3 categories not including nan\n",
    "print(df[var].value_counts(), '\\n')\n",
    "print(df[var].hist(bins=3,grid=False), '\\n')\n",
    "df[var+'_NA'] = df[var].isnull() # Create a bond missing dummy; long tail\n",
    "print('Total Missings: \\n', sum(df[var+'_NA']),'\\n') #number of missings is same as nan\n",
    "#assuming missing values is that people are unhappy"
   ]
  },
  {
   "cell_type": "code",
   "execution_count": 111,
   "metadata": {},
   "outputs": [
    {
     "name": "stdout",
     "output_type": "stream",
     "text": [
      "Total Missings: \n",
      " 0 \n",
      "\n"
     ]
    }
   ],
   "source": [
    "#gdf.loc[gdf[var].isnull(), var] = 'not happy' # Changing rows with nans to a new category called \"not happy\"\n",
    "gdf['happy'] = gdf['happy'].replace(np.nan, 'not too happy')\n",
    "print('Total Missings: \\n', sum(gdf[var].isnull()),'\\n') # checks that nulls were renamed"
   ]
  },
  {
   "cell_type": "code",
   "execution_count": 112,
   "metadata": {},
   "outputs": [
    {
     "name": "stdout",
     "output_type": "stream",
     "text": [
      "count                      67722\n",
      "unique                         3\n",
      "top       more or less satisfied\n",
      "freq                       29987\n",
      "Name: satfin, dtype: object \n",
      "\n",
      "['not satisfied at all' 'more or less satisfied' 'pretty well satisfied'\n",
      " nan] \n",
      "\n",
      "more or less satisfied    29987\n",
      "pretty well satisfied     19726\n",
      "not satisfied at all      18009\n",
      "Name: satfin, dtype: int64 \n",
      "\n",
      "AxesSubplot(0.125,0.125;0.775x0.755) \n",
      "\n",
      "Total Missings: \n",
      " 4668 \n",
      "\n"
     ]
    },
    {
     "data": {
      "image/png": "[encoded data removed]",
      "text/plain": [
       "<Figure size 432x288 with 1 Axes>"
      ]
     },
     "metadata": {
      "needs_background": "light"
     },
     "output_type": "display_data"
    }
   ],
   "source": [
    "#satfin\n",
    "var = 'satfin'\n",
    "print(df[var].describe(),'\\n') # 72390-67722=4,668 missing values expected\n",
    "print(df[var].unique(),'\\n') # 3 categories not including nan\n",
    "print(df[var].value_counts(), '\\n')\n",
    "print(df[var].hist(bins=3,grid=False), '\\n')\n",
    "df[var+'_NA'] = df[var].isnull() # Create a bond missing dummy; long tail\n",
    "print('Total Missings: \\n', sum(df[var+'_NA']),'\\n') #number of missings is same as nan"
   ]
  },
  {
   "cell_type": "code",
   "execution_count": 113,
   "metadata": {},
   "outputs": [
    {
     "name": "stdout",
     "output_type": "stream",
     "text": [
      "more or less satisfied    18088\n",
      "pretty well satisfied     10569\n",
      "not satisfied at all      10453\n",
      "Name: satfin, dtype: int64\n",
      "['pretty well satisfied' 'more or less satisfied' 'not satisfied at all'] \n",
      "\n",
      "more or less satisfied    18088\n",
      "not satisfied at all      13210\n",
      "pretty well satisfied     10569\n",
      "Name: satfin, dtype: int64\n"
     ]
    }
   ],
   "source": [
    "import numpy as np  # Import NumPy\n",
    "print(gdf['satfin'].value_counts())\n",
    "gdf['satfin'] = gdf['satfin'].replace(np.nan, 'not satisfied at all')\n",
    "print(gdf['satfin'].unique(),'\\n')\n",
    "print(gdf['satfin'].value_counts())\n",
    "gdf = gdf.rename(columns = {'satfin': 'financial satisfaction'})"
   ]
  },
  {
   "cell_type": "code",
   "execution_count": 114,
   "metadata": {},
   "outputs": [
    {
     "name": "stdout",
     "output_type": "stream",
     "text": [
      "count              51887\n",
      "unique                 4\n",
      "top       very satisfied\n",
      "freq               24718\n",
      "Name: satjob, dtype: object \n",
      "\n",
      "['a little dissatisfied' nan 'moderately satisfied' 'very satisfied'\n",
      " 'very dissatisfied'] \n",
      "\n",
      "very satisfied           24718\n",
      "moderately satisfied     19854\n",
      "a little dissatisfied     5157\n",
      "very dissatisfied         2158\n",
      "Name: satjob, dtype: int64 \n",
      "\n",
      "AxesSubplot(0.125,0.125;0.775x0.755) \n",
      "\n",
      "Total Missings: \n",
      " 20503 \n",
      "\n"
     ]
    },
    {
     "data": {
      "image/png": "[encoded data removed]",
      "text/plain": [
       "<Figure size 432x288 with 1 Axes>"
      ]
     },
     "metadata": {
      "needs_background": "light"
     },
     "output_type": "display_data"
    }
   ],
   "source": [
    "#satjob\n",
    "var = 'satjob'\n",
    "print(df[var].describe(),'\\n') # 72390-51887=20,503 missing values expected\n",
    "print(df[var].unique(),'\\n') # 4 categories not including nan\n",
    "print(df[var].value_counts(), '\\n')\n",
    "print(df[var].hist(bins=4,grid=False), '\\n')\n",
    "df[var+'_NA'] = df[var].isnull() # Create a bond missing dummy; long tail\n",
    "print('Total Missings: \\n', sum(df[var+'_NA']),'\\n') #number of expected missings is same as nan"
   ]
  },
  {
   "cell_type": "code",
   "execution_count": 115,
   "metadata": {},
   "outputs": [],
   "source": [
    "gdf = gdf.loc[gdf[var].isnull() == 0,:] # remove nans\n",
    "gdf = gdf.rename(columns = {'satjob': 'job satisfaction'})"
   ]
  },
  {
   "cell_type": "markdown",
   "metadata": {},
   "source": [
    "Once the data was cleaned, we took a look at the dataframe without missing values. Below, one can see the variable names have been changed to more clearly describe the values contained in the variable and there are no longer missing values."
   ]
  },
  {
   "cell_type": "code",
   "execution_count": 116,
   "metadata": {},
   "outputs": [
    {
     "data": {
      "text/html": [
       "<div>\n",
       "<style scoped>\n",
       "    .dataframe tbody tr th:only-of-type {\n",
       "        vertical-align: middle;\n",
       "    }\n",
       "\n",
       "    .dataframe tbody tr th {\n",
       "        vertical-align: top;\n",
       "    }\n",
       "\n",
       "    .dataframe thead th {\n",
       "        text-align: right;\n",
       "    }\n",
       "</style>\n",
       "<table border=\"1\" class=\"dataframe\">\n",
       "  <thead>\n",
       "    <tr style=\"text-align: right;\">\n",
       "      <th></th>\n",
       "      <th>age</th>\n",
       "      <th>year</th>\n",
       "      <th>work status</th>\n",
       "      <th>income</th>\n",
       "      <th>happy</th>\n",
       "      <th>financial satisfaction</th>\n",
       "      <th>job satisfaction</th>\n",
       "    </tr>\n",
       "  </thead>\n",
       "  <tbody>\n",
       "    <tr>\n",
       "      <th>3118</th>\n",
       "      <td>41.0</td>\n",
       "      <td>1974</td>\n",
       "      <td>working full time</td>\n",
       "      <td>56994.047619</td>\n",
       "      <td>very happy</td>\n",
       "      <td>more or less satisfied</td>\n",
       "      <td>very satisfied</td>\n",
       "    </tr>\n",
       "    <tr>\n",
       "      <th>3121</th>\n",
       "      <td>58.0</td>\n",
       "      <td>1974</td>\n",
       "      <td>working full time</td>\n",
       "      <td>56994.047619</td>\n",
       "      <td>pretty happy</td>\n",
       "      <td>more or less satisfied</td>\n",
       "      <td>moderately satisfied</td>\n",
       "    </tr>\n",
       "    <tr>\n",
       "      <th>3123</th>\n",
       "      <td>48.0</td>\n",
       "      <td>1974</td>\n",
       "      <td>working full time</td>\n",
       "      <td>41035.714286</td>\n",
       "      <td>very happy</td>\n",
       "      <td>pretty well satisfied</td>\n",
       "      <td>very satisfied</td>\n",
       "    </tr>\n",
       "    <tr>\n",
       "      <th>3126</th>\n",
       "      <td>54.0</td>\n",
       "      <td>1974</td>\n",
       "      <td>working full time</td>\n",
       "      <td>29636.904762</td>\n",
       "      <td>very happy</td>\n",
       "      <td>not satisfied at all</td>\n",
       "      <td>very satisfied</td>\n",
       "    </tr>\n",
       "    <tr>\n",
       "      <th>3131</th>\n",
       "      <td>22.0</td>\n",
       "      <td>1974</td>\n",
       "      <td>working full time</td>\n",
       "      <td>4559.523810</td>\n",
       "      <td>very happy</td>\n",
       "      <td>pretty well satisfied</td>\n",
       "      <td>very satisfied</td>\n",
       "    </tr>\n",
       "  </tbody>\n",
       "</table>\n",
       "</div>"
      ],
      "text/plain": [
       "       age  year        work status        income         happy  \\\n",
       "3118  41.0  1974  working full time  56994.047619    very happy   \n",
       "3121  58.0  1974  working full time  56994.047619  pretty happy   \n",
       "3123  48.0  1974  working full time  41035.714286    very happy   \n",
       "3126  54.0  1974  working full time  29636.904762    very happy   \n",
       "3131  22.0  1974  working full time   4559.523810    very happy   \n",
       "\n",
       "      financial satisfaction      job satisfaction  \n",
       "3118  more or less satisfied        very satisfied  \n",
       "3121  more or less satisfied  moderately satisfied  \n",
       "3123   pretty well satisfied        very satisfied  \n",
       "3126    not satisfied at all        very satisfied  \n",
       "3131   pretty well satisfied        very satisfied  "
      ]
     },
     "execution_count": 116,
     "metadata": {},
     "output_type": "execute_result"
    }
   ],
   "source": [
    "gdf.head()"
   ]
  },
  {
   "cell_type": "code",
   "execution_count": 117,
   "metadata": {},
   "outputs": [
    {
     "name": "stdout",
     "output_type": "stream",
     "text": [
      "(37053, 7)\n"
     ]
    },
    {
     "data": {
      "text/html": [
       "<div>\n",
       "<style scoped>\n",
       "    .dataframe tbody tr th:only-of-type {\n",
       "        vertical-align: middle;\n",
       "    }\n",
       "\n",
       "    .dataframe tbody tr th {\n",
       "        vertical-align: top;\n",
       "    }\n",
       "\n",
       "    .dataframe thead th {\n",
       "        text-align: right;\n",
       "    }\n",
       "</style>\n",
       "<table border=\"1\" class=\"dataframe\">\n",
       "  <thead>\n",
       "    <tr style=\"text-align: right;\">\n",
       "      <th></th>\n",
       "      <th>age</th>\n",
       "      <th>year</th>\n",
       "      <th>income</th>\n",
       "    </tr>\n",
       "  </thead>\n",
       "  <tbody>\n",
       "    <tr>\n",
       "      <th>count</th>\n",
       "      <td>37053.000000</td>\n",
       "      <td>37053.000000</td>\n",
       "      <td>22771.000000</td>\n",
       "    </tr>\n",
       "    <tr>\n",
       "      <th>mean</th>\n",
       "      <td>41.051467</td>\n",
       "      <td>1997.912801</td>\n",
       "      <td>30359.934622</td>\n",
       "    </tr>\n",
       "    <tr>\n",
       "      <th>std</th>\n",
       "      <td>13.174360</td>\n",
       "      <td>14.404770</td>\n",
       "      <td>16215.955865</td>\n",
       "    </tr>\n",
       "    <tr>\n",
       "      <th>min</th>\n",
       "      <td>18.000000</td>\n",
       "      <td>1974.000000</td>\n",
       "      <td>1000.000000</td>\n",
       "    </tr>\n",
       "    <tr>\n",
       "      <th>25%</th>\n",
       "      <td>30.000000</td>\n",
       "      <td>1986.000000</td>\n",
       "      <td>20975.659229</td>\n",
       "    </tr>\n",
       "    <tr>\n",
       "      <th>50%</th>\n",
       "      <td>40.000000</td>\n",
       "      <td>1996.000000</td>\n",
       "      <td>29132.860041</td>\n",
       "    </tr>\n",
       "    <tr>\n",
       "      <th>75%</th>\n",
       "      <td>51.000000</td>\n",
       "      <td>2010.000000</td>\n",
       "      <td>40062.761506</td>\n",
       "    </tr>\n",
       "    <tr>\n",
       "      <th>max</th>\n",
       "      <td>89.000000</td>\n",
       "      <td>2022.000000</td>\n",
       "      <td>113988.095238</td>\n",
       "    </tr>\n",
       "  </tbody>\n",
       "</table>\n",
       "</div>"
      ],
      "text/plain": [
       "                age          year         income\n",
       "count  37053.000000  37053.000000   22771.000000\n",
       "mean      41.051467   1997.912801   30359.934622\n",
       "std       13.174360     14.404770   16215.955865\n",
       "min       18.000000   1974.000000    1000.000000\n",
       "25%       30.000000   1986.000000   20975.659229\n",
       "50%       40.000000   1996.000000   29132.860041\n",
       "75%       51.000000   2010.000000   40062.761506\n",
       "max       89.000000   2022.000000  113988.095238"
      ]
     },
     "execution_count": 117,
     "metadata": {},
     "output_type": "execute_result"
    }
   ],
   "source": [
    "print(gdf.shape) # 72,390-37,053=35,337 rows removed while cleaning\n",
    "gdf.describe()"
   ]
  },
  {
   "cell_type": "markdown",
   "metadata": {},
   "source": [
    "# Results\n",
    "Show visualizations and discuss findings...\n",
    "\n",
    "### Research Question 1 "
   ]
  },
  {
   "cell_type": "markdown",
   "metadata": {},
   "source": [
    "### Research Question 2 "
   ]
  },
  {
   "cell_type": "code",
   "execution_count": 118,
   "metadata": {},
   "outputs": [],
   "source": [
    "import seaborn as sns\n",
    "import pandas as pd\n",
    "import matplotlib.pyplot as plt"
   ]
  },
  {
   "cell_type": "code",
   "execution_count": 119,
   "metadata": {},
   "outputs": [
    {
     "data": {
      "text/plain": [
       "more or less satisfied    17051\n",
       "not satisfied at all      10207\n",
       "pretty well satisfied      9795\n",
       "Name: financial satisfaction, dtype: int64"
      ]
     },
     "execution_count": 119,
     "metadata": {},
     "output_type": "execute_result"
    }
   ],
   "source": [
    "# find value vounts for each variable so the box plot\n",
    "# can be made properly \n",
    "gdf['happy'].value_counts()\n",
    "gdf['job satisfaction'].value_counts()\n",
    "gdf['financial satisfaction'].value_counts()"
   ]
  },
  {
   "cell_type": "code",
   "execution_count": null,
   "metadata": {},
   "outputs": [],
   "source": [
    "# first box plot \n",
    "plt.figure(figsize=(12, 6))\n",
    "sns.boxplot(data=gdf, x='age', y='happy', order=[\"very happy\", \"pretty happy\", \"not too happy\", \"not happy\" ])\n",
    "plt.title('Age vs. Happiness')\n",
    "plt.xlabel('Age')\n",
    "plt.ylabel('Happiness')\n",
    "plt.xticks(rotation=45)\n",
    "plt.show()"
   ]
  },
  {
   "cell_type": "markdown",
   "metadata": {},
   "source": [
    "1. Age and Happiness: The research shows that the mean age for people reporting very high happiness is older, but roughly the mean ages for those reported they are 'very happy', 'pretty happy' and 'not too happy' are generally around the same age (~40 years old). This suggests that generally younger people are slightly more unhappy, but then it is difficult to assert why the results after that are so varied. "
   ]
  },
  {
   "cell_type": "code",
   "execution_count": null,
   "metadata": {},
   "outputs": [],
   "source": [
    "# second box plot \n",
    "plt.figure(figsize=(12, 6))\n",
    "sns.boxplot(data=gdf, x='age', y='financial satisfaction', order=[\"pretty well satisfied\", \"more or less satisfied\", \n",
    "                                                            \"not satisfied at all\"])\n",
    "plt.title('Age vs. Financial Satisfaction')\n",
    "plt.xlabel('Age')\n",
    "plt.ylabel('Financial Satisfaction')\n",
    "plt.xticks(rotation=45)\n",
    "plt.show()"
   ]
  },
  {
   "cell_type": "markdown",
   "metadata": {},
   "source": [
    "2. Age and Financial Satisfaction: The research indicates that the mean age for individuals reporting high financial satisfaction is older (~44). This implies that financial satisfaction tends to increase with age, possibly due to career progression and accumulation of wealth. This finding aligns with the life-course theory, which suggests that people become more financially satisfied as they progress through life stages."
   ]
  },
  {
   "cell_type": "code",
   "execution_count": null,
   "metadata": {},
   "outputs": [],
   "source": [
    "# third box plot \n",
    "plt.figure(figsize=(12, 6))\n",
    "sns.boxplot(data=gdf, x='age', y='job satisfaction', order=[\"very satisfied\", \"moderately satisfied\", \n",
    "                                                           \"a little dissatisfied\", \"very dissatisfied\"])\n",
    "plt.title('Age vs. Work Satisfaction')\n",
    "plt.xlabel('Age')\n",
    "plt.ylabel('Work Satisfaction')\n",
    "plt.xticks(rotation=45)\n",
    "plt.show()"
   ]
  },
  {
   "cell_type": "markdown",
   "metadata": {},
   "source": [
    "3. Age and Job Satisfaction: The analysis reveals that the mean age for very high job satisfaction is older (~43). This suggests that job satisfaction tends to increase with age, possibly due to career stability, experience, and finding one's professional niche."
   ]
  },
  {
   "cell_type": "markdown",
   "metadata": {},
   "source": [
    "The research strategy employed in this question involved the use of box plots to visually compare age and satisfaction levels. The use of box plots is an effective visual representation of the data, allowing for a quick comparison of age and different types of satisfaction. "
   ]
  },
  {
   "cell_type": "markdown",
   "metadata": {},
   "source": [
    "# Conclusion\n",
    "Re-summarize the project, defend from criticism, suggest future work...\n",
    "\n",
    "### Research Question 1 \n",
    "\n",
    "### Research Question 2\n",
    "The research question does not delve into the reasons behind the observed age-satisfaction relationships. While it identifies trends, it does not explain why these trends exist. Additionally, the research does not consider potential confounding variables that may affect satisfaction levels, such as social and economic factors.\n",
    "To build upon this research, it is essential to investigate the factors causing unhappiness, especially among younger individuals. Exploring the role of loneliness, economic instability, and career prospects in happiness and life satisfaction could be a valuable extension of this project. Additionally, examining how external factors, such as societal changes or economic conditions, influence these age-satisfaction relationships would provide a more comprehensive understanding. "
   ]
  },
  {
   "cell_type": "markdown",
   "metadata": {},
   "source": [
    "# Works Cited\n",
    "\n",
    "Davern, Michael; Bautista, Rene; Freese, Jeremy; Herd, Pamela; and Morgan, Stephen L.; *General Social Survey\n",
    "1972-2022*. [Machine-readable data file]. Principal Investigator, Michael Davern; Co-Principal Investigators,\n",
    "Rene Bautista, Jeremy Freese, Pamela Herd, and Stephen L. Morgan. NORC ed. Chicago, 2023. 1 datafile\n",
    "(Release 1) and 1 codebook (2022 Release 1).\n",
    "\n",
    "Smith, T.S. (October, 1988). *GSS Methodological Report No. 56*. University of Chicago. The National Science Foundation, Grant No. SES-8747227.https://gss.norc.org/Documents/reports/methodological-reports/MR056.pdf"
   ]
  }
 ],
 "metadata": {
  "kernelspec": {
   "display_name": "Python 3",
   "language": "python",
   "name": "python3"
  },
  "language_info": {
   "codemirror_mode": {
    "name": "ipython",
    "version": 3
   },
   "file_extension": ".py",
   "mimetype": "text/x-python",
   "name": "python",
   "nbconvert_exporter": "python",
   "pygments_lexer": "ipython3",
   "version": "3.8.8"
  }
 },
 "nbformat": 4,
 "nbformat_minor": 5
}
