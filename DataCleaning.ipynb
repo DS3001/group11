{
 "cells": [
  {
   "cell_type": "markdown",
   "metadata": {},
   "source": [
    "# Lab 1 - GSS Happiness - Wrangling\n",
    "## Group 11\n",
    "## `! git clone https://www.github.com/DS3001/group11"
   ]
  },
  {
   "cell_type": "code",
   "execution_count": 2,
   "metadata": {},
   "outputs": [
    {
     "name": "stderr",
     "output_type": "stream",
     "text": [
      "/home/wfn7ad/.local/lib/python3.8/site-packages/pandas/core/computation/expressions.py:20: UserWarning: Pandas requires version '2.7.3' or newer of 'numexpr' (version '2.7.1' currently installed).\n",
      "  from pandas.core.computation.check import NUMEXPR_INSTALLED\n"
     ]
    },
    {
     "data": {
      "text/html": [
       "<div>\n",
       "<style scoped>\n",
       "    .dataframe tbody tr th:only-of-type {\n",
       "        vertical-align: middle;\n",
       "    }\n",
       "\n",
       "    .dataframe tbody tr th {\n",
       "        vertical-align: top;\n",
       "    }\n",
       "\n",
       "    .dataframe thead th {\n",
       "        text-align: right;\n",
       "    }\n",
       "</style>\n",
       "<table border=\"1\" class=\"dataframe\">\n",
       "  <thead>\n",
       "    <tr style=\"text-align: right;\">\n",
       "      <th></th>\n",
       "      <th>age</th>\n",
       "      <th>year</th>\n",
       "      <th>wrkstat</th>\n",
       "      <th>rincome</th>\n",
       "      <th>happy</th>\n",
       "      <th>satfin</th>\n",
       "      <th>satjob</th>\n",
       "    </tr>\n",
       "  </thead>\n",
       "  <tbody>\n",
       "    <tr>\n",
       "      <th>0</th>\n",
       "      <td>23.0</td>\n",
       "      <td>1972</td>\n",
       "      <td>working full time</td>\n",
       "      <td>NaN</td>\n",
       "      <td>not too happy</td>\n",
       "      <td>not satisfied at all</td>\n",
       "      <td>a little dissatisfied</td>\n",
       "    </tr>\n",
       "    <tr>\n",
       "      <th>1</th>\n",
       "      <td>70.0</td>\n",
       "      <td>1972</td>\n",
       "      <td>retired</td>\n",
       "      <td>NaN</td>\n",
       "      <td>not too happy</td>\n",
       "      <td>more or less satisfied</td>\n",
       "      <td>NaN</td>\n",
       "    </tr>\n",
       "    <tr>\n",
       "      <th>2</th>\n",
       "      <td>48.0</td>\n",
       "      <td>1972</td>\n",
       "      <td>working part time</td>\n",
       "      <td>NaN</td>\n",
       "      <td>pretty happy</td>\n",
       "      <td>pretty well satisfied</td>\n",
       "      <td>moderately satisfied</td>\n",
       "    </tr>\n",
       "    <tr>\n",
       "      <th>3</th>\n",
       "      <td>27.0</td>\n",
       "      <td>1972</td>\n",
       "      <td>working full time</td>\n",
       "      <td>NaN</td>\n",
       "      <td>not too happy</td>\n",
       "      <td>not satisfied at all</td>\n",
       "      <td>very satisfied</td>\n",
       "    </tr>\n",
       "    <tr>\n",
       "      <th>4</th>\n",
       "      <td>61.0</td>\n",
       "      <td>1972</td>\n",
       "      <td>keeping house</td>\n",
       "      <td>NaN</td>\n",
       "      <td>pretty happy</td>\n",
       "      <td>pretty well satisfied</td>\n",
       "      <td>NaN</td>\n",
       "    </tr>\n",
       "  </tbody>\n",
       "</table>\n",
       "</div>"
      ],
      "text/plain": [
       "    age  year            wrkstat rincome          happy  \\\n",
       "0  23.0  1972  working full time     NaN  not too happy   \n",
       "1  70.0  1972            retired     NaN  not too happy   \n",
       "2  48.0  1972  working part time     NaN   pretty happy   \n",
       "3  27.0  1972  working full time     NaN  not too happy   \n",
       "4  61.0  1972      keeping house     NaN   pretty happy   \n",
       "\n",
       "                   satfin                 satjob  \n",
       "0    not satisfied at all  a little dissatisfied  \n",
       "1  more or less satisfied                    NaN  \n",
       "2   pretty well satisfied   moderately satisfied  \n",
       "3    not satisfied at all         very satisfied  \n",
       "4   pretty well satisfied                    NaN  "
      ]
     },
     "execution_count": 2,
     "metadata": {},
     "output_type": "execute_result"
    }
   ],
   "source": [
    "import pandas as pd\n",
    "import matplotlib.pyplot as plt\n",
    "\n",
    "df = pd.read_csv('./data/selectedData.csv') # Import data into environment\n",
    "df.head()"
   ]
  },
  {
   "cell_type": "code",
   "execution_count": 3,
   "metadata": {},
   "outputs": [
    {
     "name": "stdout",
     "output_type": "stream",
     "text": [
      "(72390, 7) \n",
      "\n",
      "age        float64\n",
      "year         int64\n",
      "wrkstat     object\n",
      "rincome     object\n",
      "happy       object\n",
      "satfin      object\n",
      "satjob      object\n",
      "dtype: object \n",
      "\n",
      "Index(['age', 'year', 'wrkstat', 'rincome', 'happy', 'satfin', 'satjob'], dtype='object') \n",
      "\n"
     ]
    }
   ],
   "source": [
    "# wrangling\n",
    "print(df.shape, '\\n') # List the dimensions of df\n",
    "print(df.dtypes, '\\n') # The types of the variables\n",
    "print(df.columns, '\\n') # Column names"
   ]
  },
  {
   "cell_type": "markdown",
   "metadata": {},
   "source": [
    "Many of the variables are of the \"object\" data type; because these data are categorical, this is okay.\n",
    "We will look at age, year, and work status first."
   ]
  },
  {
   "cell_type": "code",
   "execution_count": 4,
   "metadata": {},
   "outputs": [
    {
     "name": "stdout",
     "output_type": "stream",
     "text": [
      "count    71621.000000\n",
      "mean        46.555982\n",
      "std         17.600417\n",
      "min         18.000000\n",
      "25%         32.000000\n",
      "50%         44.000000\n",
      "75%         60.000000\n",
      "max         89.000000\n",
      "Name: age, dtype: float64 \n",
      "\n",
      "[23. 70. 48. 27. 61. 26. 28. 21. 30. 56. 54. 49. 41. 24. 62. 46. 57. 58.\n",
      " 71. 53. 42. 20. 25. 78. 35. 51. 76. 39. 64. 50. 40. 43. 37. 22. 31. 52.\n",
      " 47. 45. 68. 63. 19. 55. 44. 34. 36. 74. 69. 29. 67. 75. 38. 73. 84. 82.\n",
      " 72. 59. 33. 81. 65. 32. nan 60. 80. 66. 77. 18. 79. 83. 85. 88. 87. 89.\n",
      " 86.] \n",
      "\n"
     ]
    },
    {
     "data": {
      "text/plain": [
       "<AxesSubplot:>"
      ]
     },
     "execution_count": 4,
     "metadata": {},
     "output_type": "execute_result"
    },
    {
     "data": {
      "image/png": "[encoded data removed]",
      "text/plain": [
       "<Figure size 432x288 with 1 Axes>"
      ]
     },
     "metadata": {
      "needs_background": "light"
     },
     "output_type": "display_data"
    }
   ],
   "source": [
    "# Age\n",
    "var = 'age'\n",
    "print(df[var].describe(),'\\n') # 72390-71612=769 missing values\n",
    "print(df[var].unique(),'\\n') # missing values are already in nan format\n",
    "df[var].hist(bins=50) # Initial histogram, odd spikes may be due to how survey was previously administered"
   ]
  },
  {
   "cell_type": "code",
   "execution_count": 5,
   "metadata": {},
   "outputs": [
    {
     "name": "stdout",
     "output_type": "stream",
     "text": [
      "Total Missings: \n",
      " 769 \n",
      "\n",
      "Total Missings after nans removed: \n",
      " 0 \n",
      "\n"
     ]
    }
   ],
   "source": [
    "print('Total Missings: \\n', sum(df[var].isnull()),'\\n') # says 769 are missing, matches expected\n",
    "gdf = df.loc[df[var].isnull() == 0, :] # makes df where only values that aren't null are included\n",
    "print('Total Missings after nans removed: \\n', sum(gdf[var].isnull()),'\\n') # checks to see if nans were removed"
   ]
  },
  {
   "cell_type": "code",
   "execution_count": 6,
   "metadata": {},
   "outputs": [
    {
     "name": "stdout",
     "output_type": "stream",
     "text": [
      "count    72390.000000\n",
      "mean      1997.715541\n",
      "std         15.109995\n",
      "min       1972.000000\n",
      "25%       1985.000000\n",
      "50%       1998.000000\n",
      "75%       2010.000000\n",
      "max       2022.000000\n",
      "Name: year, dtype: float64 \n",
      "\n"
     ]
    },
    {
     "data": {
      "text/plain": [
       "<AxesSubplot:>"
      ]
     },
     "execution_count": 6,
     "metadata": {},
     "output_type": "execute_result"
    },
    {
     "data": {
      "image/png": "[encoded data removed]",
      "text/plain": [
       "<Figure size 432x288 with 1 Axes>"
      ]
     },
     "metadata": {
      "needs_background": "light"
     },
     "output_type": "display_data"
    }
   ],
   "source": [
    "# Year\n",
    "var = 'year'\n",
    "print(df[var].describe(),'\\n') # 72390-72390=0 missing values, no nans to remove\n",
    "df[var].hist(bins=50) # Initial histogram, looks like some years are missing"
   ]
  },
  {
   "cell_type": "code",
   "execution_count": 7,
   "metadata": {},
   "outputs": [
    {
     "name": "stdout",
     "output_type": "stream",
     "text": [
      "count                 72354\n",
      "unique                    8\n",
      "top       working full time\n",
      "freq                  35267\n",
      "Name: wrkstat, dtype: object \n",
      "\n",
      "['working full time' 'retired' 'working part time' 'keeping house'\n",
      " 'in school' 'unemployed, laid off, looking for work'\n",
      " 'with a job, but not at work because of temporary illness, vacation, strike'\n",
      " 'other' nan] \n",
      "\n",
      "wrkstat\n",
      "working full time                                                             35267\n",
      "retired                                                                       10886\n",
      "keeping house                                                                 10764\n",
      "working part time                                                              7430\n",
      "unemployed, laid off, looking for work                                         2621\n",
      "in school                                                                      2187\n",
      "other                                                                          1643\n",
      "with a job, but not at work because of temporary illness, vacation, strike     1556\n",
      "Name: count, dtype: int64 \n",
      "\n",
      "AxesSubplot(0.125,0.125;0.775x0.755) \n",
      "\n",
      "Total Missings: \n",
      " 36 \n",
      "\n"
     ]
    },
    {
     "data": {
      "image/png": "[encoded data removed]",
      "text/plain": [
       "<Figure size 432x288 with 1 Axes>"
      ]
     },
     "metadata": {
      "needs_background": "light"
     },
     "output_type": "display_data"
    }
   ],
   "source": [
    "# Work status\n",
    "var = 'wrkstat'\n",
    "print(df[var].describe(),'\\n') # 72390-72354=36 missing values expected\n",
    "print(df[var].unique(),'\\n') # 8 categories not including nan (will remove nans and \"other\")\n",
    "print(df[var].value_counts(), '\\n')\n",
    "print(df[var].hist(bins=8,grid=False), '\\n') # plot\n",
    "plt.xticks(rotation=90) # makes plot readable\n",
    "df[var+'_NA'] = df[var].isnull() # Create a bond missing dummy; long tail\n",
    "print('Total Missings: \\n', sum(df[var+'_NA']),'\\n') # 36 missing values, already in nan form"
   ]
  },
  {
   "cell_type": "code",
   "execution_count": 8,
   "metadata": {},
   "outputs": [
    {
     "name": "stdout",
     "output_type": "stream",
     "text": [
      "wrkstat\n",
      "working full time                         34910\n",
      "retired                                   10718\n",
      "keeping house                             10672\n",
      "working part time                          7366\n",
      "unemployed, laid off, looking for work     2589\n",
      "in school                                  2175\n",
      "with job, not at work rn                   1544\n",
      "Name: count, dtype: int64 \n",
      "\n"
     ]
    }
   ],
   "source": [
    "gdf.loc[gdf[var] == 'with a job, but not at work because of temporary illness, vacation, strike', var] = 'with job, not at work rn' #shortening variable name  \n",
    "gdf = gdf.loc[gdf['wrkstat'].isnull() == 0,:] # Removing the nan values as only 36 \n",
    "gdf = gdf.loc[gdf['wrkstat'] != 'other',:] # Even though there are 1,643 \"other\" values, we decided to remove them\n",
    "print(gdf[var].value_counts(), '\\n')\n",
    "gdf = gdf.rename(columns = {'wrkstat': 'work status'})"
   ]
  },
  {
   "cell_type": "markdown",
   "metadata": {},
   "source": [
    "Now we will investigate income and convert the entries into real dollar amounts. We will also clean work satisfaction and financial satisfaction."
   ]
  },
  {
   "cell_type": "code",
   "execution_count": 9,
   "metadata": {},
   "outputs": [
    {
     "data": {
      "text/html": [
       "<div>\n",
       "<style scoped>\n",
       "    .dataframe tbody tr th:only-of-type {\n",
       "        vertical-align: middle;\n",
       "    }\n",
       "\n",
       "    .dataframe tbody tr th {\n",
       "        vertical-align: top;\n",
       "    }\n",
       "\n",
       "    .dataframe thead th {\n",
       "        text-align: right;\n",
       "    }\n",
       "</style>\n",
       "<table border=\"1\" class=\"dataframe\">\n",
       "  <thead>\n",
       "    <tr style=\"text-align: right;\">\n",
       "      <th></th>\n",
       "      <th>year</th>\n",
       "      <th>cf</th>\n",
       "    </tr>\n",
       "  </thead>\n",
       "  <tbody>\n",
       "    <tr>\n",
       "      <th>0</th>\n",
       "      <td>1968</td>\n",
       "      <td>0.145</td>\n",
       "    </tr>\n",
       "    <tr>\n",
       "      <th>1</th>\n",
       "      <td>1969</td>\n",
       "      <td>0.153</td>\n",
       "    </tr>\n",
       "    <tr>\n",
       "      <th>2</th>\n",
       "      <td>1970</td>\n",
       "      <td>0.162</td>\n",
       "    </tr>\n",
       "    <tr>\n",
       "      <th>3</th>\n",
       "      <td>1971</td>\n",
       "      <td>0.169</td>\n",
       "    </tr>\n",
       "    <tr>\n",
       "      <th>4</th>\n",
       "      <td>1972</td>\n",
       "      <td>0.174</td>\n",
       "    </tr>\n",
       "  </tbody>\n",
       "</table>\n",
       "</div>"
      ],
      "text/plain": [
       "   year     cf\n",
       "0  1968  0.145\n",
       "1  1969  0.153\n",
       "2  1970  0.162\n",
       "3  1971  0.169\n",
       "4  1972  0.174"
      ]
     },
     "execution_count": 9,
     "metadata": {},
     "output_type": "execute_result"
    }
   ],
   "source": [
    "# Income\n",
    "cpi = pd.read_csv('./data/cpi.csv') #data from website https://liberalarts.oregonstate.edu/spp/polisci/faculty-staff/robert-sahr/inflation-conversion-factors-years-1774-estimated-2024-dollars-recent-years/individual-year-conversion-factor-table-0 \n",
    "                                    # in a new excel with the year and conversion factor for money for that year to 2016, estimates 2017 to 2022 conversion factor to 2016\n",
    "cpi.head() #values from cpi data"
   ]
  },
  {
   "cell_type": "code",
   "execution_count": 10,
   "metadata": {},
   "outputs": [
    {
     "name": "stdout",
     "output_type": "stream",
     "text": [
      "count               42333\n",
      "unique                 12\n",
      "top       $25,000 or more\n",
      "freq                18249\n",
      "Name: rincome, dtype: object \n",
      "\n",
      "[nan '$1,000 to $2,999' '$15,000 to $19,999' '$7,000 to $7,999'\n",
      " '$8,000 to $9,999' '$20,000 to $24,999' '$4,000 to $4,999'\n",
      " '$10,000 to $14,999' '$25,000 or more' '$3,000 to $3,999' 'under $1,000'\n",
      " '$5,000 to $5,999' '$6,000 to $6,999'] \n",
      "\n",
      "Total Missings: \n",
      " 30057 \n",
      "\n"
     ]
    },
    {
     "data": {
      "image/png": "[encoded data removed]",
      "text/plain": [
       "<Figure size 432x288 with 1 Axes>"
      ]
     },
     "metadata": {
      "needs_background": "light"
     },
     "output_type": "display_data"
    }
   ],
   "source": [
    "var = 'rincome'\n",
    "print(df[var].describe(),'\\n') # 72390-42333=30057 missing values\n",
    "print(df[var].unique(),'\\n') # missing values are already in nan format\n",
    "df[var].hist(bins=12) # odd spikes may be due to how survey previously pooled ages (Methodological 56)\n",
    "plt.xticks(rotation=90)\n",
    "df[var+'_NA'] = df[var].isnull() # Create a bond missing dummy; long tail\n",
    "print('Total Missings: \\n', sum(df[var+'_NA']),'\\n') # missing values match expected"
   ]
  },
  {
   "cell_type": "code",
   "execution_count": 11,
   "metadata": {},
   "outputs": [
    {
     "name": "stdout",
     "output_type": "stream",
     "text": [
      "[ 1500 17500  7500  9000 22500  4500 12500 25000  3500  1000  5500  6500] \n",
      "\n"
     ]
    }
   ],
   "source": [
    "gdf = gdf.loc[gdf['rincome'].isnull() == 0,:] # remove nans\n",
    "gdf = gdf.replace(['$1,000 to $2,999','$15,000 to $19,999','$7,000 to $7,999','$8,000 to $9,999','$20,000 to $24,999','$4,000 to $4,999','$10,000 to $14,999','$25,000 or more','$3,000 to $3,999','under $1,000','$5,000 to $5,999','$6,000 to $6,999'], \n",
    "                [1500,17500,7500,9000,22500,4500,12500,25000,3500,1000,5500,6500]) # replace with middle\n",
    "print(gdf[var].unique(),'\\n') # check"
   ]
  },
  {
   "cell_type": "code",
   "execution_count": 12,
   "metadata": {},
   "outputs": [
    {
     "name": "stdout",
     "output_type": "stream",
     "text": [
      "39974    1.149\n",
      "39975    1.149\n",
      "39976    1.149\n",
      "39977    1.149\n",
      "39978    1.149\n",
      "         ...  \n",
      "41862    1.149\n",
      "41863    1.149\n",
      "41864    1.149\n",
      "41865    1.149\n",
      "41866    1.149\n",
      "Name: cf, Length: 1893, dtype: float64\n"
     ]
    }
   ],
   "source": [
    "md = cpi.merge(gdf, on='year') #merging the data from the cpi and the data file cleaning on the common relation of year                                   \n",
    "md['Income_2016'] = (md[var]/md['cf']) #creating the income related to the year of 2016 through the conversion factor -- divide the income by the conversion factor for that year\n",
    "print(md.loc[md['year'] == 2022, 'cf']) #cf from 2022 to 2016 is 1.149"
   ]
  },
  {
   "cell_type": "code",
   "execution_count": 13,
   "metadata": {},
   "outputs": [
    {
     "name": "stdout",
     "output_type": "stream",
     "text": [
      "               year            cf           age      rincome    Income_2016  \\\n",
      "count  41867.000000  41867.000000  41867.000000  41867.00000   41867.000000   \n",
      "mean    1998.486039      0.692248     41.461414  17365.02496   27462.287865   \n",
      "std       14.184826      0.271401     13.747698   8546.35000   16318.239273   \n",
      "min     1974.000000      0.205000     18.000000   1000.00000     870.322019   \n",
      "25%     1987.000000      0.473000     30.000000   9000.00000   17500.000000   \n",
      "50%     1998.000000      0.679000     40.000000  22500.00000   25773.195876   \n",
      "75%     2010.000000      0.909000     51.000000  25000.00000   35496.957404   \n",
      "max     2022.000000      1.149000     89.000000  25000.00000  121951.219512   \n",
      "\n",
      "         real_income  \n",
      "count   41867.000000  \n",
      "mean    31554.168757  \n",
      "std     18749.656925  \n",
      "min      1000.000000  \n",
      "25%     20107.500000  \n",
      "50%     29613.402062  \n",
      "75%     40786.004057  \n",
      "max    140121.951220   \n",
      "\n"
     ]
    },
    {
     "data": {
      "text/plain": [
       "<AxesSubplot:>"
      ]
     },
     "execution_count": 13,
     "metadata": {},
     "output_type": "execute_result"
    },
    {
     "data": {
      "image/png": "[encoded data removed]",
      "text/plain": [
       "<Figure size 432x288 with 1 Axes>"
      ]
     },
     "metadata": {
      "needs_background": "light"
     },
     "output_type": "display_data"
    }
   ],
   "source": [
    "md['real_income'] = md['Income_2016'] *(1.149) # multiply the income from 2016 by the conversion factor for 2022 to get the value of money in 2022\n",
    "md['real_income'].value_counts()\n",
    "print(md.describe(),'\\n')\n",
    "md['real_income'].hist(bins=12)"
   ]
  },
  {
   "cell_type": "code",
   "execution_count": 14,
   "metadata": {},
   "outputs": [],
   "source": [
    "gdf = gdf.rename(columns = {'rincome': 'income'})\n",
    "gdf['income'] = md['real_income']"
   ]
  },
  {
   "cell_type": "code",
   "execution_count": 15,
   "metadata": {},
   "outputs": [
    {
     "name": "stdout",
     "output_type": "stream",
     "text": [
      "count            67588\n",
      "unique               3\n",
      "top       pretty happy\n",
      "freq             37813\n",
      "Name: happy, dtype: object \n",
      "\n",
      "['not too happy' 'pretty happy' 'very happy' nan] \n",
      "\n",
      "happy\n",
      "pretty happy     37813\n",
      "very happy       20385\n",
      "not too happy     9390\n",
      "Name: count, dtype: int64 \n",
      "\n",
      "AxesSubplot(0.125,0.125;0.775x0.755) \n",
      "\n",
      "Total Missings: \n",
      " 4802 \n",
      "\n"
     ]
    },
    {
     "data": {
      "image/png": "[encoded data removed]",
      "text/plain": [
       "<Figure size 432x288 with 1 Axes>"
      ]
     },
     "metadata": {
      "needs_background": "light"
     },
     "output_type": "display_data"
    }
   ],
   "source": [
    "#happy\n",
    "var = 'happy'\n",
    "print(df[var].describe(),'\\n') # 72390-67588=4,802 missing values expected\n",
    "print(df[var].unique(),'\\n') # 3 categories not including nan\n",
    "print(df[var].value_counts(), '\\n')\n",
    "print(df[var].hist(bins=3,grid=False), '\\n')\n",
    "df[var+'_NA'] = df[var].isnull() # Create a bond missing dummy; long tail\n",
    "print('Total Missings: \\n', sum(df[var+'_NA']),'\\n') #number of missings is same as nan\n",
    "#assuming missing values is that people are unhappy"
   ]
  },
  {
   "cell_type": "code",
   "execution_count": 16,
   "metadata": {},
   "outputs": [
    {
     "name": "stdout",
     "output_type": "stream",
     "text": [
      "Total Missings: \n",
      " 0 \n",
      "\n"
     ]
    }
   ],
   "source": [
    "gdf.loc[gdf[var].isnull(), var] = 'not happy' # Changing rows with nans to a new category called \"not happy\"\n",
    "print('Total Missings: \\n', sum(gdf[var].isnull()),'\\n') # checks that nulls were renamed"
   ]
  },
  {
   "cell_type": "code",
   "execution_count": 17,
   "metadata": {},
   "outputs": [
    {
     "name": "stdout",
     "output_type": "stream",
     "text": [
      "count                      67722\n",
      "unique                         3\n",
      "top       more or less satisfied\n",
      "freq                       29987\n",
      "Name: satfin, dtype: object \n",
      "\n",
      "['not satisfied at all' 'more or less satisfied' 'pretty well satisfied'\n",
      " nan] \n",
      "\n",
      "satfin\n",
      "more or less satisfied    29987\n",
      "pretty well satisfied     19726\n",
      "not satisfied at all      18009\n",
      "Name: count, dtype: int64 \n",
      "\n",
      "AxesSubplot(0.125,0.125;0.775x0.755) \n",
      "\n",
      "Total Missings: \n",
      " 4668 \n",
      "\n"
     ]
    },
    {
     "data": {
      "image/png": "[encoded data removed]",
      "text/plain": [
       "<Figure size 432x288 with 1 Axes>"
      ]
     },
     "metadata": {
      "needs_background": "light"
     },
     "output_type": "display_data"
    }
   ],
   "source": [
    "#satfin\n",
    "var = 'satfin'\n",
    "print(df[var].describe(),'\\n') # 72390-67722=4,668 missing values expected\n",
    "print(df[var].unique(),'\\n') # 3 categories not including nan\n",
    "print(df[var].value_counts(), '\\n')\n",
    "print(df[var].hist(bins=3,grid=False), '\\n')\n",
    "df[var+'_NA'] = df[var].isnull() # Create a bond missing dummy; long tail\n",
    "print('Total Missings: \\n', sum(df[var+'_NA']),'\\n') #number of missings is same as nan"
   ]
  },
  {
   "cell_type": "code",
   "execution_count": 18,
   "metadata": {},
   "outputs": [],
   "source": [
    "gdf = gdf.loc[gdf['satfin'].isnull() == 0,:] # remove nans\n",
    "gdf = gdf.rename(columns = {'satfin': 'financial satisfaction'})"
   ]
  },
  {
   "cell_type": "code",
   "execution_count": 19,
   "metadata": {},
   "outputs": [
    {
     "name": "stdout",
     "output_type": "stream",
     "text": [
      "count              51887\n",
      "unique                 4\n",
      "top       very satisfied\n",
      "freq               24718\n",
      "Name: satjob, dtype: object \n",
      "\n",
      "['a little dissatisfied' nan 'moderately satisfied' 'very satisfied'\n",
      " 'very dissatisfied'] \n",
      "\n",
      "satjob\n",
      "very satisfied           24718\n",
      "moderately satisfied     19854\n",
      "a little dissatisfied     5157\n",
      "very dissatisfied         2158\n",
      "Name: count, dtype: int64 \n",
      "\n",
      "AxesSubplot(0.125,0.125;0.775x0.755) \n",
      "\n",
      "Total Missings: \n",
      " 20503 \n",
      "\n"
     ]
    },
    {
     "data": {
      "image/png": "[encoded data removed]",
      "text/plain": [
       "<Figure size 432x288 with 1 Axes>"
      ]
     },
     "metadata": {
      "needs_background": "light"
     },
     "output_type": "display_data"
    }
   ],
   "source": [
    "#satjob\n",
    "var = 'satjob'\n",
    "print(df[var].describe(),'\\n') # 72390-51887=20,503 missing values expected\n",
    "print(df[var].unique(),'\\n') # 4 categories not including nan\n",
    "print(df[var].value_counts(), '\\n')\n",
    "print(df[var].hist(bins=4,grid=False), '\\n')\n",
    "df[var+'_NA'] = df[var].isnull() # Create a bond missing dummy; long tail\n",
    "print('Total Missings: \\n', sum(df[var+'_NA']),'\\n') #number of expected missings is same as nan"
   ]
  },
  {
   "cell_type": "code",
   "execution_count": 20,
   "metadata": {},
   "outputs": [],
   "source": [
    "gdf = gdf.loc[gdf[var].isnull() == 0,:] # remove nans\n",
    "gdf = gdf.rename(columns = {'satjob': 'job satisfaction'})"
   ]
  },
  {
   "cell_type": "markdown",
   "metadata": {},
   "source": [
    "Data has been cleaned. Now we can take a look at the dataframe without missing values."
   ]
  },
  {
   "cell_type": "code",
   "execution_count": 21,
   "metadata": {},
   "outputs": [
    {
     "data": {
      "text/html": [
       "<div>\n",
       "<style scoped>\n",
       "    .dataframe tbody tr th:only-of-type {\n",
       "        vertical-align: middle;\n",
       "    }\n",
       "\n",
       "    .dataframe tbody tr th {\n",
       "        vertical-align: top;\n",
       "    }\n",
       "\n",
       "    .dataframe thead th {\n",
       "        text-align: right;\n",
       "    }\n",
       "</style>\n",
       "<table border=\"1\" class=\"dataframe\">\n",
       "  <thead>\n",
       "    <tr style=\"text-align: right;\">\n",
       "      <th></th>\n",
       "      <th>age</th>\n",
       "      <th>year</th>\n",
       "      <th>work status</th>\n",
       "      <th>income</th>\n",
       "      <th>happy</th>\n",
       "      <th>financial satisfaction</th>\n",
       "      <th>job satisfaction</th>\n",
       "    </tr>\n",
       "  </thead>\n",
       "  <tbody>\n",
       "    <tr>\n",
       "      <th>3118</th>\n",
       "      <td>41.0</td>\n",
       "      <td>1974</td>\n",
       "      <td>working full time</td>\n",
       "      <td>56994.047619</td>\n",
       "      <td>very happy</td>\n",
       "      <td>more or less satisfied</td>\n",
       "      <td>very satisfied</td>\n",
       "    </tr>\n",
       "    <tr>\n",
       "      <th>3121</th>\n",
       "      <td>58.0</td>\n",
       "      <td>1974</td>\n",
       "      <td>working full time</td>\n",
       "      <td>56994.047619</td>\n",
       "      <td>pretty happy</td>\n",
       "      <td>more or less satisfied</td>\n",
       "      <td>moderately satisfied</td>\n",
       "    </tr>\n",
       "    <tr>\n",
       "      <th>3123</th>\n",
       "      <td>48.0</td>\n",
       "      <td>1974</td>\n",
       "      <td>working full time</td>\n",
       "      <td>41035.714286</td>\n",
       "      <td>very happy</td>\n",
       "      <td>pretty well satisfied</td>\n",
       "      <td>very satisfied</td>\n",
       "    </tr>\n",
       "    <tr>\n",
       "      <th>3126</th>\n",
       "      <td>54.0</td>\n",
       "      <td>1974</td>\n",
       "      <td>working full time</td>\n",
       "      <td>29636.904762</td>\n",
       "      <td>very happy</td>\n",
       "      <td>not satisfied at all</td>\n",
       "      <td>very satisfied</td>\n",
       "    </tr>\n",
       "    <tr>\n",
       "      <th>3131</th>\n",
       "      <td>22.0</td>\n",
       "      <td>1974</td>\n",
       "      <td>working full time</td>\n",
       "      <td>4559.523810</td>\n",
       "      <td>very happy</td>\n",
       "      <td>pretty well satisfied</td>\n",
       "      <td>very satisfied</td>\n",
       "    </tr>\n",
       "  </tbody>\n",
       "</table>\n",
       "</div>"
      ],
      "text/plain": [
       "       age  year        work status        income         happy  \\\n",
       "3118  41.0  1974  working full time  56994.047619    very happy   \n",
       "3121  58.0  1974  working full time  56994.047619  pretty happy   \n",
       "3123  48.0  1974  working full time  41035.714286    very happy   \n",
       "3126  54.0  1974  working full time  29636.904762    very happy   \n",
       "3131  22.0  1974  working full time   4559.523810    very happy   \n",
       "\n",
       "      financial satisfaction      job satisfaction  \n",
       "3118  more or less satisfied        very satisfied  \n",
       "3121  more or less satisfied  moderately satisfied  \n",
       "3123   pretty well satisfied        very satisfied  \n",
       "3126    not satisfied at all        very satisfied  \n",
       "3131   pretty well satisfied        very satisfied  "
      ]
     },
     "execution_count": 21,
     "metadata": {},
     "output_type": "execute_result"
    }
   ],
   "source": [
    "gdf.head()"
   ]
  },
  {
   "cell_type": "code",
   "execution_count": 22,
   "metadata": {},
   "outputs": [
    {
     "name": "stdout",
     "output_type": "stream",
     "text": [
      "(36702, 7)\n"
     ]
    },
    {
     "data": {
      "text/html": [
       "<div>\n",
       "<style scoped>\n",
       "    .dataframe tbody tr th:only-of-type {\n",
       "        vertical-align: middle;\n",
       "    }\n",
       "\n",
       "    .dataframe tbody tr th {\n",
       "        vertical-align: top;\n",
       "    }\n",
       "\n",
       "    .dataframe thead th {\n",
       "        text-align: right;\n",
       "    }\n",
       "</style>\n",
       "<table border=\"1\" class=\"dataframe\">\n",
       "  <thead>\n",
       "    <tr style=\"text-align: right;\">\n",
       "      <th></th>\n",
       "      <th>age</th>\n",
       "      <th>year</th>\n",
       "      <th>income</th>\n",
       "    </tr>\n",
       "  </thead>\n",
       "  <tbody>\n",
       "    <tr>\n",
       "      <th>count</th>\n",
       "      <td>36702.000000</td>\n",
       "      <td>36702.000000</td>\n",
       "      <td>22726.000000</td>\n",
       "    </tr>\n",
       "    <tr>\n",
       "      <th>mean</th>\n",
       "      <td>41.035420</td>\n",
       "      <td>1997.868699</td>\n",
       "      <td>30362.757880</td>\n",
       "    </tr>\n",
       "    <tr>\n",
       "      <th>std</th>\n",
       "      <td>13.172095</td>\n",
       "      <td>14.450309</td>\n",
       "      <td>16217.621422</td>\n",
       "    </tr>\n",
       "    <tr>\n",
       "      <th>min</th>\n",
       "      <td>18.000000</td>\n",
       "      <td>1974.000000</td>\n",
       "      <td>1000.000000</td>\n",
       "    </tr>\n",
       "    <tr>\n",
       "      <th>25%</th>\n",
       "      <td>30.000000</td>\n",
       "      <td>1986.000000</td>\n",
       "      <td>20975.659229</td>\n",
       "    </tr>\n",
       "    <tr>\n",
       "      <th>50%</th>\n",
       "      <td>40.000000</td>\n",
       "      <td>1996.000000</td>\n",
       "      <td>29132.860041</td>\n",
       "    </tr>\n",
       "    <tr>\n",
       "      <th>75%</th>\n",
       "      <td>51.000000</td>\n",
       "      <td>2010.000000</td>\n",
       "      <td>40062.761506</td>\n",
       "    </tr>\n",
       "    <tr>\n",
       "      <th>max</th>\n",
       "      <td>89.000000</td>\n",
       "      <td>2022.000000</td>\n",
       "      <td>113988.095238</td>\n",
       "    </tr>\n",
       "  </tbody>\n",
       "</table>\n",
       "</div>"
      ],
      "text/plain": [
       "                age          year         income\n",
       "count  36702.000000  36702.000000   22726.000000\n",
       "mean      41.035420   1997.868699   30362.757880\n",
       "std       13.172095     14.450309   16217.621422\n",
       "min       18.000000   1974.000000    1000.000000\n",
       "25%       30.000000   1986.000000   20975.659229\n",
       "50%       40.000000   1996.000000   29132.860041\n",
       "75%       51.000000   2010.000000   40062.761506\n",
       "max       89.000000   2022.000000  113988.095238"
      ]
     },
     "execution_count": 22,
     "metadata": {},
     "output_type": "execute_result"
    }
   ],
   "source": [
    "print(gdf.shape) # 72,390-36,702=35,688 rows removed while cleaning\n",
    "gdf.describe()"
   ]
  },
  {
   "cell_type": "markdown",
   "metadata": {},
   "source": [
    "# Now we will answer the first question: What age are people the most satisifed with their work? "
   ]
  },
  {
   "cell_type": "markdown",
   "metadata": {},
   "source": [
    "## First, we will start with an exploratory data analysis "
   ]
  },
  {
   "cell_type": "code",
   "execution_count": 23,
   "metadata": {},
   "outputs": [],
   "source": [
    "import seaborn as sns\n",
    "import pandas as pd\n",
    "import matplotlib.pyplot as plt"
   ]
  },
  {
   "cell_type": "code",
   "execution_count": null,
   "metadata": {},
   "outputs": [],
   "source": [
    "gdf['happy'].value_counts()"
   ]
  },
  {
   "cell_type": "code",
   "execution_count": null,
   "metadata": {},
   "outputs": [],
   "source": [
    "gdf['job satisfaction'].value_counts()"
   ]
  },
  {
   "cell_type": "code",
   "execution_count": null,
   "metadata": {},
   "outputs": [],
   "source": [
    "gdf['financial satisfaction'].value_counts()"
   ]
  },
  {
   "cell_type": "code",
   "execution_count": 40,
   "metadata": {},
   "outputs": [
    {
     "data": {
      "image/png": "[encoded data removed]",
      "text/plain": [
       "<Figure size 864x432 with 1 Axes>"
      ]
     },
     "metadata": {
      "needs_background": "light"
     },
     "output_type": "display_data"
    }
   ],
   "source": [
    "plt.figure(figsize=(12, 6))\n",
    "sns.boxplot(data=gdf, x='age', y='job satisfaction', order=[\"very dissatisfied\", \"a little dissatisfied\", \n",
    "                                                           \"a little dissatisfied\", \"moderately satisfied\", \n",
    "                                                          \"very satisfied\"])\n",
    "plt.title('Work Satisfaction vs Age')\n",
    "plt.xlabel('Work Satisfaction')\n",
    "plt.ylabel('Age')\n",
    "plt.xticks(rotation=45)\n",
    "plt.show()"
   ]
  },
  {
   "cell_type": "code",
   "execution_count": 39,
   "metadata": {},
   "outputs": [
    {
     "data": {
      "image/png": "[encoded data removed]",
      "text/plain": [
       "<Figure size 864x432 with 1 Axes>"
      ]
     },
     "metadata": {
      "needs_background": "light"
     },
     "output_type": "display_data"
    }
   ],
   "source": [
    "plt.figure(figsize=(12, 6))\n",
    "sns.boxplot(data=gdf, x='age', y='happy', order=[\"pretty happy\", \"very happy\", \"not too happy\", \"not happy\" ])\n",
    "plt.title('Happiness vs Age')\n",
    "plt.xlabel('Happiness')\n",
    "plt.ylabel('Age')\n",
    "plt.xticks(rotation=45)\n",
    "plt.show()"
   ]
  },
  {
   "cell_type": "code",
   "execution_count": 41,
   "metadata": {},
   "outputs": [
    {
     "data": {
      "image/png": "[encoded data removed]",
      "text/plain": [
       "<Figure size 864x432 with 1 Axes>"
      ]
     },
     "metadata": {
      "needs_background": "light"
     },
     "output_type": "display_data"
    }
   ],
   "source": [
    "plt.figure(figsize=(12, 6))\n",
    "sns.boxplot(data=gdf, x='age', y='financial satisfaction', order=[\"more or less satisfied\", \"not satisfied at all\", \n",
    "                                                            \"pretty well satisfied\"])\n",
    "plt.title('Financial Satisfaction vs Age')\n",
    "plt.xlabel('Financial Satisfaction')\n",
    "plt.ylabel('Age')\n",
    "plt.xticks(rotation=45)\n",
    "plt.show()"
   ]
  },
  {
   "cell_type": "markdown",
   "metadata": {},
   "source": [
    "# start of the EDA?  ( but move this up)"
   ]
  },
  {
   "cell_type": "code",
   "execution_count": 38,
   "metadata": {},
   "outputs": [
    {
     "name": "stdout",
     "output_type": "stream",
     "text": [
      "Mean Age: 46.55598218399631\n",
      "Median Age: 44.0\n",
      "Age Variance: 309.7746829018948\n",
      "25th Percentile (Q1): 32.0\n",
      "50th Percentile (Q2): 44.0\n",
      "75th Percentile (Q3): 60.0\n"
     ]
    }
   ],
   "source": [
    "# Calculate mean and median age\n",
    "mean_age = df['age'].mean()\n",
    "median_age = df['age'].median()\n",
    "\n",
    "# Calculate variance\n",
    "age_variance = df['age'].var()\n",
    "\n",
    "# Calculate quartiles\n",
    "quartiles = df['age'].quantile([0.25, 0.5, 0.75])\n",
    "\n",
    "print(f\"Mean Age: {mean_age}\")\n",
    "print(f\"Median Age: {median_age}\")\n",
    "print(f\"Age Variance: {age_variance}\")\n",
    "print(f\"25th Percentile (Q1): {quartiles[0.25]}\")\n",
    "print(f\"50th Percentile (Q2): {quartiles[0.5]}\")\n",
    "print(f\"75th Percentile (Q3): {quartiles[0.75]}\")"
   ]
  },
  {
   "cell_type": "code",
   "execution_count": null,
   "metadata": {},
   "outputs": [],
   "source": []
  },
  {
   "cell_type": "code",
   "execution_count": null,
   "metadata": {},
   "outputs": [],
   "source": []
  }
 ],
 "metadata": {
  "kernelspec": {
   "display_name": "Python 3",
   "language": "python",
   "name": "python3"
  },
  "language_info": {
   "codemirror_mode": {
    "name": "ipython",
    "version": 3
   },
   "file_extension": ".py",
   "mimetype": "text/x-python",
   "name": "python",
   "nbconvert_exporter": "python",
   "pygments_lexer": "ipython3",
   "version": "3.8.8"
  }
 },
 "nbformat": 4,
 "nbformat_minor": 4
}
